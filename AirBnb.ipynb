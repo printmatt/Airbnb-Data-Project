{
  "nbformat": 4,
  "nbformat_minor": 0,
  "metadata": {
    "colab": {
      "provenance": [],
      "collapsed_sections": [
        "-O_T2XVLjY4h"
      ],
      "include_colab_link": true
    },
    "kernelspec": {
      "name": "python3",
      "display_name": "Python 3"
    },
    "language_info": {
      "name": "python"
    }
  },
  "cells": [
    {
      "cell_type": "markdown",
      "metadata": {
        "id": "view-in-github",
        "colab_type": "text"
      },
      "source": [
        "<a href=\"https://colab.research.google.com/github/printmatt/Airbnb-Data-Project/blob/main/AirBnb.ipynb\" target=\"_parent\"><img src=\"https://colab.research.google.com/assets/colab-badge.svg\" alt=\"Open In Colab\"/></a>"
      ]
    },
    {
      "cell_type": "markdown",
      "source": [
        "\n",
        "\n",
        "# AirBnb Capstone"
      ],
      "metadata": {
        "id": "PBPS_3EsvJ9-"
      }
    },
    {
      "cell_type": "markdown",
      "source": [
        "#[Project Slides](https://docs.google.com/presentation/d/1mSQ1cv1upAy8ourUHRXVJ1HTlRMrOWGHRLCBgRXpJFo/edit?usp=sharing)"
      ],
      "metadata": {
        "id": "C98Zr6hC8v3q"
      }
    },
    {
      "cell_type": "markdown",
      "source": [
        "\n",
        "\n",
        "# Import and clean up data"
      ],
      "metadata": {
        "id": "LF5HAGNH4kOl"
      }
    },
    {
      "cell_type": "code",
      "source": [
        "# Import libraries\n",
        "import pandas as pd\n",
        "import numpy as np\n",
        "import matplotlib.pyplot as plt\n",
        "import seaborn as sns\n",
        "sns.set(rc={'figure.figsize':(10,8)})\n",
        "from sklearn.model_selection import train_test_split\n",
        "from sklearn.linear_model import LinearRegression\n"
      ],
      "metadata": {
        "id": "gX_WQdQPGAIA"
      },
      "execution_count": null,
      "outputs": []
    },
    {
      "cell_type": "code",
      "source": [
        "# Combine 4 datasets of each quarter Winter - Fall 2022\n",
        "url_sept_to_dec_2021 = 'https://raw.githubusercontent.com/printmatt/Airbnb-Data-Project/main/sept-dec2021.csv'\n",
        "url_dec_to_march_2022 = 'https://raw.githubusercontent.com/printmatt/Airbnb-Data-Project/main/dec-march2022.csv'\n",
        "url_march_to_june_2022 = 'https://raw.githubusercontent.com/printmatt/Airbnb-Data-Project/main/march-june2022.csv'\n",
        "url_june_to_sept_2022 = 'https://raw.githubusercontent.com/printmatt/Airbnb-Data-Project/main/listings.csv'\n",
        "\n",
        "raw_df=pd.concat(\n",
        "    [pd.read_csv(url_sept_to_dec_2021).set_index('id'),\n",
        "     pd.read_csv(url_dec_to_march_2022).set_index('id'),\n",
        "     pd.read_csv(url_march_to_june_2022).set_index('id'),\n",
        "     pd.read_csv(url_june_to_sept_2022).set_index('id')]\n",
        ").drop_duplicates()\n",
        "raw_df.columns = (raw_df.columns.str.strip().str.replace('(', '').str.replace(')', ''))"
      ],
      "metadata": {
        "id": "Lgf2XbWCAwtU",
        "colab": {
          "base_uri": "https://localhost:8080/"
        },
        "outputId": "ca7cd025-ea62-4a35-ffdb-a9c5659afab9"
      },
      "execution_count": null,
      "outputs": [
        {
          "output_type": "stream",
          "name": "stderr",
          "text": [
            "/usr/local/lib/python3.8/dist-packages/IPython/core/interactiveshell.py:3326: DtypeWarning: Columns (17) have mixed types.Specify dtype option on import or set low_memory=False.\n",
            "  exec(code_obj, self.user_global_ns, self.user_ns)\n",
            "<ipython-input-2-287c0032db57>:13: FutureWarning: The default value of regex will change from True to False in a future version. In addition, single character regular expressions will *not* be treated as literal strings when regex=True.\n",
            "  raw_df.columns = (raw_df.columns.str.strip().str.replace('(', '').str.replace(')', ''))\n"
          ]
        }
      ]
    },
    {
      "cell_type": "code",
      "source": [],
      "metadata": {
        "id": "2voyWjFw_5xc"
      },
      "execution_count": null,
      "outputs": []
    },
    {
      "cell_type": "code",
      "source": [
        "raw_df.info()"
      ],
      "metadata": {
        "colab": {
          "base_uri": "https://localhost:8080/"
        },
        "id": "QWhaYaBDnkUJ",
        "outputId": "e34491da-1a22-48ec-831a-91a6ebf2d130"
      },
      "execution_count": null,
      "outputs": [
        {
          "output_type": "stream",
          "name": "stdout",
          "text": [
            "<class 'pandas.core.frame.DataFrame'>\n",
            "Int64Index: 132126 entries, 2595 to 48971505\n",
            "Data columns (total 17 columns):\n",
            " #   Column                          Non-Null Count   Dtype  \n",
            "---  ------                          --------------   -----  \n",
            " 0   name                            132103 non-null  object \n",
            " 1   host_id                         132126 non-null  int64  \n",
            " 2   host_name                       131913 non-null  object \n",
            " 3   neighbourhood_group             132126 non-null  object \n",
            " 4   neighbourhood                   132126 non-null  object \n",
            " 5   latitude                        132126 non-null  float64\n",
            " 6   longitude                       132126 non-null  float64\n",
            " 7   room_type                       132126 non-null  object \n",
            " 8   price                           132126 non-null  int64  \n",
            " 9   minimum_nights                  132126 non-null  int64  \n",
            " 10  number_of_reviews               132126 non-null  int64  \n",
            " 11  last_review                     107706 non-null  object \n",
            " 12  reviews_per_month               107706 non-null  float64\n",
            " 13  calculated_host_listings_count  132126 non-null  int64  \n",
            " 14  availability_365                132126 non-null  int64  \n",
            " 15  number_of_reviews_ltm           132126 non-null  int64  \n",
            " 16  license                         11 non-null      object \n",
            "dtypes: float64(3), int64(7), object(7)\n",
            "memory usage: 18.1+ MB\n"
          ]
        }
      ]
    },
    {
      "cell_type": "code",
      "source": [],
      "metadata": {
        "id": "x6k1XVMb_dtA"
      },
      "execution_count": null,
      "outputs": []
    },
    {
      "cell_type": "markdown",
      "source": [
        "## Trim outliers"
      ],
      "metadata": {
        "id": "hfaeckDM_8i0"
      }
    },
    {
      "cell_type": "code",
      "source": [
        "# Trim outliers\n",
        "price_lo = raw_df[\"price\"].quantile(0.05)\n",
        "price_hi  = raw_df[\"price\"].quantile(0.95)\n",
        "raw_df = raw_df[(raw_df[\"price\"] < price_hi) & (raw_df[\"price\"] > price_lo)]"
      ],
      "metadata": {
        "id": "fN-hQi_d__hI"
      },
      "execution_count": null,
      "outputs": []
    },
    {
      "cell_type": "markdown",
      "source": [
        "## Need more cleaning here (Cameron)"
      ],
      "metadata": {
        "id": "3Ki85jg95bEc"
      }
    },
    {
      "cell_type": "code",
      "source": [
        "raw_df['neighbourhood_group'].hist()"
      ],
      "metadata": {
        "colab": {
          "base_uri": "https://localhost:8080/",
          "height": 502
        },
        "id": "OI0bj3W4pfO1",
        "outputId": "879bd47c-d1dd-4de2-c8ff-f47f4a338c63"
      },
      "execution_count": null,
      "outputs": [
        {
          "output_type": "execute_result",
          "data": {
            "text/plain": [
              "<matplotlib.axes._subplots.AxesSubplot at 0x7fd186c4be50>"
            ]
          },
          "metadata": {},
          "execution_count": 5
        },
        {
          "output_type": "display_data",
          "data": {
            "text/plain": [
              "<Figure size 720x576 with 1 Axes>"
            ],
            "image/png": "[encoded data removed]"
          },
          "metadata": {}
        }
      ]
    },
    {
      "cell_type": "code",
      "source": [
        "import matplotlib as mpl\n",
        "import matplotlib.pyplot as plt\n",
        "# trim the reviews to no more than 250 (over that can be considered outliers for this purpose and we can clip it as such)\n",
        "\n",
        "def cutTo(iterable_to_cut, limit):\n",
        "  for item in iterable_to_cut:\n",
        "    if item > limit:\n",
        "      item = limit\n",
        "\n",
        "raw_df['number_of_reviews'].clip(upper=250, lower=0, inplace=True)\n",
        "plt.hist(raw_df['number_of_reviews'], range=(0, 250))"
      ],
      "metadata": {
        "id": "aUn85uFV_eyI",
        "colab": {
          "base_uri": "https://localhost:8080/",
          "height": 554
        },
        "outputId": "b8e0c27f-c986-4b74-f5ba-29ec5ad0ca1c"
      },
      "execution_count": null,
      "outputs": [
        {
          "output_type": "execute_result",
          "data": {
            "text/plain": [
              "(array([83817., 13199.,  6662.,  4202.,  2879.,  1984.,  1514.,  1012.,\n",
              "          750.,  2297.]),\n",
              " array([  0.,  25.,  50.,  75., 100., 125., 150., 175., 200., 225., 250.]),\n",
              " <a list of 10 Patch objects>)"
            ]
          },
          "metadata": {},
          "execution_count": 6
        },
        {
          "output_type": "display_data",
          "data": {
            "text/plain": [
              "<Figure size 720x576 with 1 Axes>"
            ],
            "image/png": "[encoded data removed]"
          },
          "metadata": {}
        }
      ]
    },
    {
      "cell_type": "markdown",
      "source": [
        "# Exploration with Pandas and linear regression"
      ],
      "metadata": {
        "id": "LTzcSngzaZze"
      }
    },
    {
      "cell_type": "markdown",
      "source": [
        "## Interesting details from this dataset: i.e.\n",
        "\n",
        "\n",
        "1.   Top 10 most expensive neighborhoods in NYC (to rent an Airbnb)\n",
        "2.   Top 10 most affordable neighborhoods\n",
        "3.   Average Airbnb cost across NYC\n"
      ],
      "metadata": {
        "id": "r4wpmVkw5nrG"
      }
    },
    {
      "cell_type": "code",
      "source": [
        "raw_df['room_type'].unique()"
      ],
      "metadata": {
        "id": "oWPJlfB4Y_xG",
        "colab": {
          "base_uri": "https://localhost:8080/"
        },
        "outputId": "191bd94a-81d3-4f13-f468-4171b3e0c48e"
      },
      "execution_count": null,
      "outputs": [
        {
          "output_type": "execute_result",
          "data": {
            "text/plain": [
              "array(['Entire home/apt', 'Private room', 'Hotel room', 'Shared room'],\n",
              "      dtype=object)"
            ]
          },
          "metadata": {},
          "execution_count": 7
        }
      ]
    },
    {
      "cell_type": "code",
      "source": [
        "# 1a. Group the listings by their neighbourhood and room type to observe the average pricing\n",
        "pricing_by_neighbourhood = raw_df[['neighbourhood','neighbourhood_group','price','room_type','minimum_nights']].groupby(['neighbourhood','neighbourhood_group','room_type'], as_index=False).mean()\n",
        "\n",
        "# 1b. Sort the average pricing for each room type. Note that the price in this data includes the different minimum\n",
        "sorted_pricing = pricing_by_neighbourhood.sort_values('price')\n",
        "\n",
        "private_room_ranking = sorted_pricing.loc[sorted_pricing['room_type'] == 'Private room']\n",
        "entire_apt_ranking = sorted_pricing.loc[sorted_pricing['room_type'] == 'Entire home/apt']\n",
        "shared_room_ranking = sorted_pricing.loc[sorted_pricing['room_type'] == 'Shared room']\n",
        "hotel_room_ranking = sorted_pricing.loc[sorted_pricing['room_type'] == 'Hotel room']\n",
        "\n",
        "# 1c. Find the top 10 most expensive\n",
        "private_room_ranking.tail(10).sort_values('price',ascending=False)\n",
        "entire_apt_ranking.tail(10).sort_values('price',ascending=False)\n",
        "shared_room_ranking.tail(10).sort_values('price',ascending=False)\n",
        "hotel_room_ranking.tail(10).sort_values('price',ascending=False)\n",
        "\n",
        "# 2. Find the top 10 cheapest\n",
        "private_room_ranking.head(10)\n",
        "entire_apt_ranking.head(10)\n",
        "shared_room_ranking.head(10)\n",
        "hotel_room_ranking.head(10)\n",
        "\n",
        "entire_apt_ranking.head(10)\n"
      ],
      "metadata": {
        "id": "GomlUj4XaZcT",
        "colab": {
          "base_uri": "https://localhost:8080/",
          "height": 363
        },
        "outputId": "371852d0-1d20-4ad5-ae40-e89acd0c91a9"
      },
      "execution_count": null,
      "outputs": [
        {
          "output_type": "execute_result",
          "data": {
            "text/plain": [
              "              neighbourhood neighbourhood_group        room_type       price  \\\n",
              "67              Bull's Head       Staten Island  Entire home/apt   60.000000   \n",
              "89   Chelsea, Staten Island       Staten Island  Entire home/apt   87.333333   \n",
              "341         Mariners Harbor       Staten Island  Entire home/apt   88.346154   \n",
              "232               Glen Oaks              Queens  Entire home/apt   89.000000   \n",
              "447            Richmondtown       Staten Island  Entire home/apt   92.000000   \n",
              "466               Rossville       Staten Island  Entire home/apt   95.000000   \n",
              "108              Co-op City               Bronx  Entire home/apt   95.000000   \n",
              "242            Graniteville       Staten Island  Entire home/apt   97.666667   \n",
              "130            Country Club               Bronx  Entire home/apt   98.000000   \n",
              "285             Hunts Point               Bronx  Entire home/apt  100.095238   \n",
              "\n",
              "     minimum_nights  \n",
              "67        30.000000  \n",
              "89        18.333333  \n",
              "341       12.230769  \n",
              "232        1.000000  \n",
              "447        3.000000  \n",
              "466       30.000000  \n",
              "108        3.000000  \n",
              "242       46.000000  \n",
              "130        4.000000  \n",
              "285        9.761905  "
            ],
            "text/html": [
              "\n",
              "  <div id=\"df-201403ce-f75f-43c0-8493-e093588fe316\">\n",
              "    <div class=\"colab-df-container\">\n",
              "      <div>\n",
              "<style scoped>\n",
              "    .dataframe tbody tr th:only-of-type {\n",
              "        vertical-align: middle;\n",
              "    }\n",
              "\n",
              "    .dataframe tbody tr th {\n",
              "        vertical-align: top;\n",
              "    }\n",
              "\n",
              "    .dataframe thead th {\n",
              "        text-align: right;\n",
              "    }\n",
              "</style>\n",
              "<table border=\"1\" class=\"dataframe\">\n",
              "  <thead>\n",
              "    <tr style=\"text-align: right;\">\n",
              "      <th></th>\n",
              "      <th>neighbourhood</th>\n",
              "      <th>neighbourhood_group</th>\n",
              "      <th>room_type</th>\n",
              "      <th>price</th>\n",
              "      <th>minimum_nights</th>\n",
              "    </tr>\n",
              "  </thead>\n",
              "  <tbody>\n",
              "    <tr>\n",
              "      <th>67</th>\n",
              "      <td>Bull's Head</td>\n",
              "      <td>Staten Island</td>\n",
              "      <td>Entire home/apt</td>\n",
              "      <td>60.000000</td>\n",
              "      <td>30.000000</td>\n",
              "    </tr>\n",
              "    <tr>\n",
              "      <th>89</th>\n",
              "      <td>Chelsea, Staten Island</td>\n",
              "      <td>Staten Island</td>\n",
              "      <td>Entire home/apt</td>\n",
              "      <td>87.333333</td>\n",
              "      <td>18.333333</td>\n",
              "    </tr>\n",
              "    <tr>\n",
              "      <th>341</th>\n",
              "      <td>Mariners Harbor</td>\n",
              "      <td>Staten Island</td>\n",
              "      <td>Entire home/apt</td>\n",
              "      <td>88.346154</td>\n",
              "      <td>12.230769</td>\n",
              "    </tr>\n",
              "    <tr>\n",
              "      <th>232</th>\n",
              "      <td>Glen Oaks</td>\n",
              "      <td>Queens</td>\n",
              "      <td>Entire home/apt</td>\n",
              "      <td>89.000000</td>\n",
              "      <td>1.000000</td>\n",
              "    </tr>\n",
              "    <tr>\n",
              "      <th>447</th>\n",
              "      <td>Richmondtown</td>\n",
              "      <td>Staten Island</td>\n",
              "      <td>Entire home/apt</td>\n",
              "      <td>92.000000</td>\n",
              "      <td>3.000000</td>\n",
              "    </tr>\n",
              "    <tr>\n",
              "      <th>466</th>\n",
              "      <td>Rossville</td>\n",
              "      <td>Staten Island</td>\n",
              "      <td>Entire home/apt</td>\n",
              "      <td>95.000000</td>\n",
              "      <td>30.000000</td>\n",
              "    </tr>\n",
              "    <tr>\n",
              "      <th>108</th>\n",
              "      <td>Co-op City</td>\n",
              "      <td>Bronx</td>\n",
              "      <td>Entire home/apt</td>\n",
              "      <td>95.000000</td>\n",
              "      <td>3.000000</td>\n",
              "    </tr>\n",
              "    <tr>\n",
              "      <th>242</th>\n",
              "      <td>Graniteville</td>\n",
              "      <td>Staten Island</td>\n",
              "      <td>Entire home/apt</td>\n",
              "      <td>97.666667</td>\n",
              "      <td>46.000000</td>\n",
              "    </tr>\n",
              "    <tr>\n",
              "      <th>130</th>\n",
              "      <td>Country Club</td>\n",
              "      <td>Bronx</td>\n",
              "      <td>Entire home/apt</td>\n",
              "      <td>98.000000</td>\n",
              "      <td>4.000000</td>\n",
              "    </tr>\n",
              "    <tr>\n",
              "      <th>285</th>\n",
              "      <td>Hunts Point</td>\n",
              "      <td>Bronx</td>\n",
              "      <td>Entire home/apt</td>\n",
              "      <td>100.095238</td>\n",
              "      <td>9.761905</td>\n",
              "    </tr>\n",
              "  </tbody>\n",
              "</table>\n",
              "</div>\n",
              "      <button class=\"colab-df-convert\" onclick=\"convertToInteractive('df-201403ce-f75f-43c0-8493-e093588fe316')\"\n",
              "              title=\"Convert this dataframe to an interactive table.\"\n",
              "              style=\"display:none;\">\n",
              "        \n",
              "  <svg xmlns=\"http://www.w3.org/2000/svg\" height=\"24px\"viewBox=\"0 0 24 24\"\n",
              "       width=\"24px\">\n",
              "    <path d=\"M0 0h24v24H0V0z\" fill=\"none\"/>\n",
              "    <path d=\"M18.56 5.44l.94 2.06.94-2.06 2.06-.94-2.06-.94-.94-2.06-.94 2.06-2.06.94zm-11 1L8.5 8.5l.94-2.06 2.06-.94-2.06-.94L8.5 2.5l-.94 2.06-2.06.94zm10 10l.94 2.06.94-2.06 2.06-.94-2.06-.94-.94-2.06-.94 2.06-2.06.94z\"/><path d=\"M17.41 7.96l-1.37-1.37c-.4-.4-.92-.59-1.43-.59-.52 0-1.04.2-1.43.59L10.3 9.45l-7.72 7.72c-.78.78-.78 2.05 0 2.83L4 21.41c.39.39.9.59 1.41.59.51 0 1.02-.2 1.41-.59l7.78-7.78 2.81-2.81c.8-.78.8-2.07 0-2.86zM5.41 20L4 18.59l7.72-7.72 1.47 1.35L5.41 20z\"/>\n",
              "  </svg>\n",
              "      </button>\n",
              "      \n",
              "  <style>\n",
              "    .colab-df-container {\n",
              "      display:flex;\n",
              "      flex-wrap:wrap;\n",
              "      gap: 12px;\n",
              "    }\n",
              "\n",
              "    .colab-df-convert {\n",
              "      background-color: #E8F0FE;\n",
              "      border: none;\n",
              "      border-radius: 50%;\n",
              "      cursor: pointer;\n",
              "      display: none;\n",
              "      fill: #1967D2;\n",
              "      height: 32px;\n",
              "      padding: 0 0 0 0;\n",
              "      width: 32px;\n",
              "    }\n",
              "\n",
              "    .colab-df-convert:hover {\n",
              "      background-color: #E2EBFA;\n",
              "      box-shadow: 0px 1px 2px rgba(60, 64, 67, 0.3), 0px 1px 3px 1px rgba(60, 64, 67, 0.15);\n",
              "      fill: #174EA6;\n",
              "    }\n",
              "\n",
              "    [theme=dark] .colab-df-convert {\n",
              "      background-color: #3B4455;\n",
              "      fill: #D2E3FC;\n",
              "    }\n",
              "\n",
              "    [theme=dark] .colab-df-convert:hover {\n",
              "      background-color: #434B5C;\n",
              "      box-shadow: 0px 1px 3px 1px rgba(0, 0, 0, 0.15);\n",
              "      filter: drop-shadow(0px 1px 2px rgba(0, 0, 0, 0.3));\n",
              "      fill: #FFFFFF;\n",
              "    }\n",
              "  </style>\n",
              "\n",
              "      <script>\n",
              "        const buttonEl =\n",
              "          document.querySelector('#df-201403ce-f75f-43c0-8493-e093588fe316 button.colab-df-convert');\n",
              "        buttonEl.style.display =\n",
              "          google.colab.kernel.accessAllowed ? 'block' : 'none';\n",
              "\n",
              "        async function convertToInteractive(key) {\n",
              "          const element = document.querySelector('#df-201403ce-f75f-43c0-8493-e093588fe316');\n",
              "          const dataTable =\n",
              "            await google.colab.kernel.invokeFunction('convertToInteractive',\n",
              "                                                     [key], {});\n",
              "          if (!dataTable) return;\n",
              "\n",
              "          const docLinkHtml = 'Like what you see? Visit the ' +\n",
              "            '<a target=\"_blank\" href=https://colab.research.google.com/notebooks/data_table.ipynb>data table notebook</a>'\n",
              "            + ' to learn more about interactive tables.';\n",
              "          element.innerHTML = '';\n",
              "          dataTable['output_type'] = 'display_data';\n",
              "          await google.colab.output.renderOutput(dataTable, element);\n",
              "          const docLink = document.createElement('div');\n",
              "          docLink.innerHTML = docLinkHtml;\n",
              "          element.appendChild(docLink);\n",
              "        }\n",
              "      </script>\n",
              "    </div>\n",
              "  </div>\n",
              "  "
            ]
          },
          "metadata": {},
          "execution_count": 8
        }
      ]
    },
    {
      "cell_type": "code",
      "source": [
        "entire_apt_ranking.tail(10).sort_values('price',ascending=False)\n"
      ],
      "metadata": {
        "colab": {
          "base_uri": "https://localhost:8080/",
          "height": 363
        },
        "id": "dkmzRTRuR7Cz",
        "outputId": "0df00b60-8200-4b49-d968-e2278510c613"
      },
      "execution_count": null,
      "outputs": [
        {
          "output_type": "execute_result",
          "data": {
            "text/plain": [
              "          neighbourhood neighbourhood_group        room_type       price  \\\n",
              "527             Tribeca           Manhattan  Entire home/apt  315.930380   \n",
              "574         Willowbrook       Staten Island  Entire home/apt  315.666667   \n",
              "56        Broad Channel              Queens  Entire home/apt  305.000000   \n",
              "431       Prospect Park            Brooklyn  Entire home/apt  271.000000   \n",
              "512    Theater District           Manhattan  Entire home/apt  267.620499   \n",
              "383            Neponsit              Queens  Entire home/apt  267.000000   \n",
              "191  Financial District           Manhattan  Entire home/apt  254.186461   \n",
              "391                NoHo           Manhattan  Entire home/apt  254.166667   \n",
              "420      Pelham Islands               Bronx  Entire home/apt  250.000000   \n",
              "96         Civic Center           Manhattan  Entire home/apt  242.327273   \n",
              "\n",
              "     minimum_nights  \n",
              "527       27.047468  \n",
              "574        4.000000  \n",
              "56         3.000000  \n",
              "431       15.545455  \n",
              "512       27.069252  \n",
              "383        1.857143  \n",
              "191       28.019002  \n",
              "391       21.366667  \n",
              "420        3.000000  \n",
              "96        28.363636  "
            ],
            "text/html": [
              "\n",
              "  <div id=\"df-ba59bb06-dddf-4408-b1d8-50b68b54bd79\">\n",
              "    <div class=\"colab-df-container\">\n",
              "      <div>\n",
              "<style scoped>\n",
              "    .dataframe tbody tr th:only-of-type {\n",
              "        vertical-align: middle;\n",
              "    }\n",
              "\n",
              "    .dataframe tbody tr th {\n",
              "        vertical-align: top;\n",
              "    }\n",
              "\n",
              "    .dataframe thead th {\n",
              "        text-align: right;\n",
              "    }\n",
              "</style>\n",
              "<table border=\"1\" class=\"dataframe\">\n",
              "  <thead>\n",
              "    <tr style=\"text-align: right;\">\n",
              "      <th></th>\n",
              "      <th>neighbourhood</th>\n",
              "      <th>neighbourhood_group</th>\n",
              "      <th>room_type</th>\n",
              "      <th>price</th>\n",
              "      <th>minimum_nights</th>\n",
              "    </tr>\n",
              "  </thead>\n",
              "  <tbody>\n",
              "    <tr>\n",
              "      <th>527</th>\n",
              "      <td>Tribeca</td>\n",
              "      <td>Manhattan</td>\n",
              "      <td>Entire home/apt</td>\n",
              "      <td>315.930380</td>\n",
              "      <td>27.047468</td>\n",
              "    </tr>\n",
              "    <tr>\n",
              "      <th>574</th>\n",
              "      <td>Willowbrook</td>\n",
              "      <td>Staten Island</td>\n",
              "      <td>Entire home/apt</td>\n",
              "      <td>315.666667</td>\n",
              "      <td>4.000000</td>\n",
              "    </tr>\n",
              "    <tr>\n",
              "      <th>56</th>\n",
              "      <td>Broad Channel</td>\n",
              "      <td>Queens</td>\n",
              "      <td>Entire home/apt</td>\n",
              "      <td>305.000000</td>\n",
              "      <td>3.000000</td>\n",
              "    </tr>\n",
              "    <tr>\n",
              "      <th>431</th>\n",
              "      <td>Prospect Park</td>\n",
              "      <td>Brooklyn</td>\n",
              "      <td>Entire home/apt</td>\n",
              "      <td>271.000000</td>\n",
              "      <td>15.545455</td>\n",
              "    </tr>\n",
              "    <tr>\n",
              "      <th>512</th>\n",
              "      <td>Theater District</td>\n",
              "      <td>Manhattan</td>\n",
              "      <td>Entire home/apt</td>\n",
              "      <td>267.620499</td>\n",
              "      <td>27.069252</td>\n",
              "    </tr>\n",
              "    <tr>\n",
              "      <th>383</th>\n",
              "      <td>Neponsit</td>\n",
              "      <td>Queens</td>\n",
              "      <td>Entire home/apt</td>\n",
              "      <td>267.000000</td>\n",
              "      <td>1.857143</td>\n",
              "    </tr>\n",
              "    <tr>\n",
              "      <th>191</th>\n",
              "      <td>Financial District</td>\n",
              "      <td>Manhattan</td>\n",
              "      <td>Entire home/apt</td>\n",
              "      <td>254.186461</td>\n",
              "      <td>28.019002</td>\n",
              "    </tr>\n",
              "    <tr>\n",
              "      <th>391</th>\n",
              "      <td>NoHo</td>\n",
              "      <td>Manhattan</td>\n",
              "      <td>Entire home/apt</td>\n",
              "      <td>254.166667</td>\n",
              "      <td>21.366667</td>\n",
              "    </tr>\n",
              "    <tr>\n",
              "      <th>420</th>\n",
              "      <td>Pelham Islands</td>\n",
              "      <td>Bronx</td>\n",
              "      <td>Entire home/apt</td>\n",
              "      <td>250.000000</td>\n",
              "      <td>3.000000</td>\n",
              "    </tr>\n",
              "    <tr>\n",
              "      <th>96</th>\n",
              "      <td>Civic Center</td>\n",
              "      <td>Manhattan</td>\n",
              "      <td>Entire home/apt</td>\n",
              "      <td>242.327273</td>\n",
              "      <td>28.363636</td>\n",
              "    </tr>\n",
              "  </tbody>\n",
              "</table>\n",
              "</div>\n",
              "      <button class=\"colab-df-convert\" onclick=\"convertToInteractive('df-ba59bb06-dddf-4408-b1d8-50b68b54bd79')\"\n",
              "              title=\"Convert this dataframe to an interactive table.\"\n",
              "              style=\"display:none;\">\n",
              "        \n",
              "  <svg xmlns=\"http://www.w3.org/2000/svg\" height=\"24px\"viewBox=\"0 0 24 24\"\n",
              "       width=\"24px\">\n",
              "    <path d=\"M0 0h24v24H0V0z\" fill=\"none\"/>\n",
              "    <path d=\"M18.56 5.44l.94 2.06.94-2.06 2.06-.94-2.06-.94-.94-2.06-.94 2.06-2.06.94zm-11 1L8.5 8.5l.94-2.06 2.06-.94-2.06-.94L8.5 2.5l-.94 2.06-2.06.94zm10 10l.94 2.06.94-2.06 2.06-.94-2.06-.94-.94-2.06-.94 2.06-2.06.94z\"/><path d=\"M17.41 7.96l-1.37-1.37c-.4-.4-.92-.59-1.43-.59-.52 0-1.04.2-1.43.59L10.3 9.45l-7.72 7.72c-.78.78-.78 2.05 0 2.83L4 21.41c.39.39.9.59 1.41.59.51 0 1.02-.2 1.41-.59l7.78-7.78 2.81-2.81c.8-.78.8-2.07 0-2.86zM5.41 20L4 18.59l7.72-7.72 1.47 1.35L5.41 20z\"/>\n",
              "  </svg>\n",
              "      </button>\n",
              "      \n",
              "  <style>\n",
              "    .colab-df-container {\n",
              "      display:flex;\n",
              "      flex-wrap:wrap;\n",
              "      gap: 12px;\n",
              "    }\n",
              "\n",
              "    .colab-df-convert {\n",
              "      background-color: #E8F0FE;\n",
              "      border: none;\n",
              "      border-radius: 50%;\n",
              "      cursor: pointer;\n",
              "      display: none;\n",
              "      fill: #1967D2;\n",
              "      height: 32px;\n",
              "      padding: 0 0 0 0;\n",
              "      width: 32px;\n",
              "    }\n",
              "\n",
              "    .colab-df-convert:hover {\n",
              "      background-color: #E2EBFA;\n",
              "      box-shadow: 0px 1px 2px rgba(60, 64, 67, 0.3), 0px 1px 3px 1px rgba(60, 64, 67, 0.15);\n",
              "      fill: #174EA6;\n",
              "    }\n",
              "\n",
              "    [theme=dark] .colab-df-convert {\n",
              "      background-color: #3B4455;\n",
              "      fill: #D2E3FC;\n",
              "    }\n",
              "\n",
              "    [theme=dark] .colab-df-convert:hover {\n",
              "      background-color: #434B5C;\n",
              "      box-shadow: 0px 1px 3px 1px rgba(0, 0, 0, 0.15);\n",
              "      filter: drop-shadow(0px 1px 2px rgba(0, 0, 0, 0.3));\n",
              "      fill: #FFFFFF;\n",
              "    }\n",
              "  </style>\n",
              "\n",
              "      <script>\n",
              "        const buttonEl =\n",
              "          document.querySelector('#df-ba59bb06-dddf-4408-b1d8-50b68b54bd79 button.colab-df-convert');\n",
              "        buttonEl.style.display =\n",
              "          google.colab.kernel.accessAllowed ? 'block' : 'none';\n",
              "\n",
              "        async function convertToInteractive(key) {\n",
              "          const element = document.querySelector('#df-ba59bb06-dddf-4408-b1d8-50b68b54bd79');\n",
              "          const dataTable =\n",
              "            await google.colab.kernel.invokeFunction('convertToInteractive',\n",
              "                                                     [key], {});\n",
              "          if (!dataTable) return;\n",
              "\n",
              "          const docLinkHtml = 'Like what you see? Visit the ' +\n",
              "            '<a target=\"_blank\" href=https://colab.research.google.com/notebooks/data_table.ipynb>data table notebook</a>'\n",
              "            + ' to learn more about interactive tables.';\n",
              "          element.innerHTML = '';\n",
              "          dataTable['output_type'] = 'display_data';\n",
              "          await google.colab.output.renderOutput(dataTable, element);\n",
              "          const docLink = document.createElement('div');\n",
              "          docLink.innerHTML = docLinkHtml;\n",
              "          element.appendChild(docLink);\n",
              "        }\n",
              "      </script>\n",
              "    </div>\n",
              "  </div>\n",
              "  "
            ]
          },
          "metadata": {},
          "execution_count": 49
        }
      ]
    },
    {
      "cell_type": "code",
      "source": [
        "# Price distribution accross neighbourhood groups\n",
        "graph = sns.stripplot(data=sorted_pricing, x=\"neighbourhood_group\", y=\"price\", hue=\"room_type\")\n"
      ],
      "metadata": {
        "id": "wUKmTuv69aDf",
        "colab": {
          "base_uri": "https://localhost:8080/",
          "height": 502
        },
        "outputId": "ade344b1-610e-4fe0-9eda-a17e3f42dd94"
      },
      "execution_count": null,
      "outputs": [
        {
          "output_type": "display_data",
          "data": {
            "text/plain": [
              "<Figure size 720x576 with 1 Axes>"
            ],
            "image/png": "[encoded data removed]"
          },
          "metadata": {}
        }
      ]
    },
    {
      "cell_type": "code",
      "source": [
        "# Private room price distribution accross neighbourhood groups\n",
        "graph = sns.stripplot(data=private_room_ranking, x=\"neighbourhood_group\", y=\"price\")\n"
      ],
      "metadata": {
        "id": "c2AvEaFO-nvj",
        "colab": {
          "base_uri": "https://localhost:8080/",
          "height": 502
        },
        "outputId": "536313bb-293e-4952-dcde-1a28f0fddd1a"
      },
      "execution_count": null,
      "outputs": [
        {
          "output_type": "display_data",
          "data": {
            "text/plain": [
              "<Figure size 720x576 with 1 Axes>"
            ],
            "image/png": "[encoded data removed]"
          },
          "metadata": {}
        }
      ]
    },
    {
      "cell_type": "code",
      "source": [
        "# Shared room price distribution accross neighbourhood groups\n",
        "graph = sns.stripplot(data=shared_room_ranking, x=\"neighbourhood_group\", y=\"price\")\n"
      ],
      "metadata": {
        "id": "66PVkI5ZAgym",
        "colab": {
          "base_uri": "https://localhost:8080/",
          "height": 502
        },
        "outputId": "0a9b8948-a920-4fd6-86bf-1aaaa8a15e66"
      },
      "execution_count": null,
      "outputs": [
        {
          "output_type": "display_data",
          "data": {
            "text/plain": [
              "<Figure size 720x576 with 1 Axes>"
            ],
            "image/png": "[encoded data removed]"
          },
          "metadata": {}
        }
      ]
    },
    {
      "cell_type": "code",
      "source": [
        "# Hotel room price distribution accross neighbourhood groups\n",
        "graph = sns.stripplot(data=hotel_room_ranking, x=\"neighbourhood_group\", y=\"price\")\n"
      ],
      "metadata": {
        "id": "YA_JzTMeAnp4",
        "colab": {
          "base_uri": "https://localhost:8080/",
          "height": 502
        },
        "outputId": "754299d1-dc4e-4c62-8eac-2f116f974e1d"
      },
      "execution_count": null,
      "outputs": [
        {
          "output_type": "display_data",
          "data": {
            "text/plain": [
              "<Figure size 720x576 with 1 Axes>"
            ],
            "image/png": "[encoded data removed]"
          },
          "metadata": {}
        }
      ]
    },
    {
      "cell_type": "code",
      "source": [
        "# Entire place price distribution accross neighbourhood groups\n",
        "ax = sns.stripplot(data=entire_apt_ranking, x=\"neighbourhood_group\", y=\"price\")\n"
      ],
      "metadata": {
        "id": "CUu7s6A4AtXP",
        "colab": {
          "base_uri": "https://localhost:8080/",
          "height": 502
        },
        "outputId": "36cfce3b-5816-4277-cc9e-6f43dbf607f0"
      },
      "execution_count": null,
      "outputs": [
        {
          "output_type": "display_data",
          "data": {
            "text/plain": [
              "<Figure size 720x576 with 1 Axes>"
            ],
            "image/png": "[encoded data removed]"
          },
          "metadata": {}
        }
      ]
    },
    {
      "cell_type": "code",
      "source": [
        "# 3. Listing average prices accross NYC\n",
        "private_room_avg = pd.DataFrame(np.array([private_room_ranking.mean()]), columns = ['price','min_nights'])\n",
        "private_room_avg['room_type'] = 'private room'\n",
        "entire_apt_avg = pd.DataFrame(np.array([entire_apt_ranking.mean()]), columns = ['price','min_nights'])\n",
        "entire_apt_avg['room_type'] = 'entire home/apt'\n",
        "shared_room_avg = pd.DataFrame(np.array([shared_room_ranking.mean()]), columns = ['price','min_nights'])\n",
        "shared_room_avg['room_type'] = 'shared room'\n",
        "hotel_room_avg = pd.DataFrame(np.array([hotel_room_ranking.mean()]), columns = ['price','min_nights'])\n",
        "hotel_room_avg['room_type'] = 'hotel room'\n",
        "\n",
        "avg_prices = pd.concat([private_room_avg, entire_apt_avg, shared_room_avg, hotel_room_avg]).set_index('room_type')\n",
        "avg_prices"
      ],
      "metadata": {
        "id": "Yeuq7Bb8F2Vo",
        "colab": {
          "base_uri": "https://localhost:8080/",
          "height": 365
        },
        "outputId": "19eddd65-229f-4087-ddb1-c3f92ca62f16"
      },
      "execution_count": null,
      "outputs": [
        {
          "output_type": "stream",
          "name": "stderr",
          "text": [
            "<ipython-input-14-b41397127c19>:2: FutureWarning: Dropping of nuisance columns in DataFrame reductions (with 'numeric_only=None') is deprecated; in a future version this will raise TypeError.  Select only valid columns before calling the reduction.\n",
            "  private_room_avg = pd.DataFrame(np.array([private_room_ranking.mean()]), columns = ['price','min_nights'])\n",
            "<ipython-input-14-b41397127c19>:4: FutureWarning: Dropping of nuisance columns in DataFrame reductions (with 'numeric_only=None') is deprecated; in a future version this will raise TypeError.  Select only valid columns before calling the reduction.\n",
            "  entire_apt_avg = pd.DataFrame(np.array([entire_apt_ranking.mean()]), columns = ['price','min_nights'])\n",
            "<ipython-input-14-b41397127c19>:6: FutureWarning: Dropping of nuisance columns in DataFrame reductions (with 'numeric_only=None') is deprecated; in a future version this will raise TypeError.  Select only valid columns before calling the reduction.\n",
            "  shared_room_avg = pd.DataFrame(np.array([shared_room_ranking.mean()]), columns = ['price','min_nights'])\n",
            "<ipython-input-14-b41397127c19>:8: FutureWarning: Dropping of nuisance columns in DataFrame reductions (with 'numeric_only=None') is deprecated; in a future version this will raise TypeError.  Select only valid columns before calling the reduction.\n",
            "  hotel_room_avg = pd.DataFrame(np.array([hotel_room_ranking.mean()]), columns = ['price','min_nights'])\n"
          ]
        },
        {
          "output_type": "execute_result",
          "data": {
            "text/plain": [
              "                      price  min_nights\n",
              "room_type                              \n",
              "private room      92.984709   14.488394\n",
              "entire home/apt  161.878595   14.570426\n",
              "shared room       93.554047   15.382288\n",
              "hotel room       258.533901    7.047083"
            ],
            "text/html": [
              "\n",
              "  <div id=\"df-e2929783-83f0-4543-b5da-9c33b36bf5dd\">\n",
              "    <div class=\"colab-df-container\">\n",
              "      <div>\n",
              "<style scoped>\n",
              "    .dataframe tbody tr th:only-of-type {\n",
              "        vertical-align: middle;\n",
              "    }\n",
              "\n",
              "    .dataframe tbody tr th {\n",
              "        vertical-align: top;\n",
              "    }\n",
              "\n",
              "    .dataframe thead th {\n",
              "        text-align: right;\n",
              "    }\n",
              "</style>\n",
              "<table border=\"1\" class=\"dataframe\">\n",
              "  <thead>\n",
              "    <tr style=\"text-align: right;\">\n",
              "      <th></th>\n",
              "      <th>price</th>\n",
              "      <th>min_nights</th>\n",
              "    </tr>\n",
              "    <tr>\n",
              "      <th>room_type</th>\n",
              "      <th></th>\n",
              "      <th></th>\n",
              "    </tr>\n",
              "  </thead>\n",
              "  <tbody>\n",
              "    <tr>\n",
              "      <th>private room</th>\n",
              "      <td>92.984709</td>\n",
              "      <td>14.488394</td>\n",
              "    </tr>\n",
              "    <tr>\n",
              "      <th>entire home/apt</th>\n",
              "      <td>161.878595</td>\n",
              "      <td>14.570426</td>\n",
              "    </tr>\n",
              "    <tr>\n",
              "      <th>shared room</th>\n",
              "      <td>93.554047</td>\n",
              "      <td>15.382288</td>\n",
              "    </tr>\n",
              "    <tr>\n",
              "      <th>hotel room</th>\n",
              "      <td>258.533901</td>\n",
              "      <td>7.047083</td>\n",
              "    </tr>\n",
              "  </tbody>\n",
              "</table>\n",
              "</div>\n",
              "      <button class=\"colab-df-convert\" onclick=\"convertToInteractive('df-e2929783-83f0-4543-b5da-9c33b36bf5dd')\"\n",
              "              title=\"Convert this dataframe to an interactive table.\"\n",
              "              style=\"display:none;\">\n",
              "        \n",
              "  <svg xmlns=\"http://www.w3.org/2000/svg\" height=\"24px\"viewBox=\"0 0 24 24\"\n",
              "       width=\"24px\">\n",
              "    <path d=\"M0 0h24v24H0V0z\" fill=\"none\"/>\n",
              "    <path d=\"M18.56 5.44l.94 2.06.94-2.06 2.06-.94-2.06-.94-.94-2.06-.94 2.06-2.06.94zm-11 1L8.5 8.5l.94-2.06 2.06-.94-2.06-.94L8.5 2.5l-.94 2.06-2.06.94zm10 10l.94 2.06.94-2.06 2.06-.94-2.06-.94-.94-2.06-.94 2.06-2.06.94z\"/><path d=\"M17.41 7.96l-1.37-1.37c-.4-.4-.92-.59-1.43-.59-.52 0-1.04.2-1.43.59L10.3 9.45l-7.72 7.72c-.78.78-.78 2.05 0 2.83L4 21.41c.39.39.9.59 1.41.59.51 0 1.02-.2 1.41-.59l7.78-7.78 2.81-2.81c.8-.78.8-2.07 0-2.86zM5.41 20L4 18.59l7.72-7.72 1.47 1.35L5.41 20z\"/>\n",
              "  </svg>\n",
              "      </button>\n",
              "      \n",
              "  <style>\n",
              "    .colab-df-container {\n",
              "      display:flex;\n",
              "      flex-wrap:wrap;\n",
              "      gap: 12px;\n",
              "    }\n",
              "\n",
              "    .colab-df-convert {\n",
              "      background-color: #E8F0FE;\n",
              "      border: none;\n",
              "      border-radius: 50%;\n",
              "      cursor: pointer;\n",
              "      display: none;\n",
              "      fill: #1967D2;\n",
              "      height: 32px;\n",
              "      padding: 0 0 0 0;\n",
              "      width: 32px;\n",
              "    }\n",
              "\n",
              "    .colab-df-convert:hover {\n",
              "      background-color: #E2EBFA;\n",
              "      box-shadow: 0px 1px 2px rgba(60, 64, 67, 0.3), 0px 1px 3px 1px rgba(60, 64, 67, 0.15);\n",
              "      fill: #174EA6;\n",
              "    }\n",
              "\n",
              "    [theme=dark] .colab-df-convert {\n",
              "      background-color: #3B4455;\n",
              "      fill: #D2E3FC;\n",
              "    }\n",
              "\n",
              "    [theme=dark] .colab-df-convert:hover {\n",
              "      background-color: #434B5C;\n",
              "      box-shadow: 0px 1px 3px 1px rgba(0, 0, 0, 0.15);\n",
              "      filter: drop-shadow(0px 1px 2px rgba(0, 0, 0, 0.3));\n",
              "      fill: #FFFFFF;\n",
              "    }\n",
              "  </style>\n",
              "\n",
              "      <script>\n",
              "        const buttonEl =\n",
              "          document.querySelector('#df-e2929783-83f0-4543-b5da-9c33b36bf5dd button.colab-df-convert');\n",
              "        buttonEl.style.display =\n",
              "          google.colab.kernel.accessAllowed ? 'block' : 'none';\n",
              "\n",
              "        async function convertToInteractive(key) {\n",
              "          const element = document.querySelector('#df-e2929783-83f0-4543-b5da-9c33b36bf5dd');\n",
              "          const dataTable =\n",
              "            await google.colab.kernel.invokeFunction('convertToInteractive',\n",
              "                                                     [key], {});\n",
              "          if (!dataTable) return;\n",
              "\n",
              "          const docLinkHtml = 'Like what you see? Visit the ' +\n",
              "            '<a target=\"_blank\" href=https://colab.research.google.com/notebooks/data_table.ipynb>data table notebook</a>'\n",
              "            + ' to learn more about interactive tables.';\n",
              "          element.innerHTML = '';\n",
              "          dataTable['output_type'] = 'display_data';\n",
              "          await google.colab.output.renderOutput(dataTable, element);\n",
              "          const docLink = document.createElement('div');\n",
              "          docLink.innerHTML = docLinkHtml;\n",
              "          element.appendChild(docLink);\n",
              "        }\n",
              "      </script>\n",
              "    </div>\n",
              "  </div>\n",
              "  "
            ]
          },
          "metadata": {},
          "execution_count": 14
        }
      ]
    },
    {
      "cell_type": "code",
      "source": [
        "raw_df.info()"
      ],
      "metadata": {
        "id": "SisbBIpjDEff",
        "colab": {
          "base_uri": "https://localhost:8080/"
        },
        "outputId": "045c52ca-4121-4593-fc2b-3a1da76c6dd8"
      },
      "execution_count": null,
      "outputs": [
        {
          "output_type": "stream",
          "name": "stdout",
          "text": [
            "<class 'pandas.core.frame.DataFrame'>\n",
            "Int64Index: 118316 entries, 2595 to 698195550745703156\n",
            "Data columns (total 17 columns):\n",
            " #   Column                          Non-Null Count   Dtype  \n",
            "---  ------                          --------------   -----  \n",
            " 0   name                            118300 non-null  object \n",
            " 1   host_id                         118316 non-null  int64  \n",
            " 2   host_name                       118192 non-null  object \n",
            " 3   neighbourhood_group             118316 non-null  object \n",
            " 4   neighbourhood                   118316 non-null  object \n",
            " 5   latitude                        118316 non-null  float64\n",
            " 6   longitude                       118316 non-null  float64\n",
            " 7   room_type                       118316 non-null  object \n",
            " 8   price                           118316 non-null  int64  \n",
            " 9   minimum_nights                  118316 non-null  int64  \n",
            " 10  number_of_reviews               118316 non-null  int64  \n",
            " 11  last_review                     98712 non-null   object \n",
            " 12  reviews_per_month               98712 non-null   float64\n",
            " 13  calculated_host_listings_count  118316 non-null  int64  \n",
            " 14  availability_365                118316 non-null  int64  \n",
            " 15  number_of_reviews_ltm           118316 non-null  int64  \n",
            " 16  license                         11 non-null      object \n",
            "dtypes: float64(3), int64(7), object(7)\n",
            "memory usage: 16.2+ MB\n"
          ]
        }
      ]
    },
    {
      "cell_type": "code",
      "source": [
        "raw_df.neighbourhood_group.unique()"
      ],
      "metadata": {
        "id": "wVhwX2Yrz4B4",
        "colab": {
          "base_uri": "https://localhost:8080/"
        },
        "outputId": "243ec7a5-b02e-4a58-a483-f4ddc07c0ad5"
      },
      "execution_count": null,
      "outputs": [
        {
          "output_type": "execute_result",
          "data": {
            "text/plain": [
              "array(['Manhattan', 'Brooklyn', 'Queens', 'Staten Island', 'Bronx'],\n",
              "      dtype=object)"
            ]
          },
          "metadata": {},
          "execution_count": 16
        }
      ]
    },
    {
      "cell_type": "markdown",
      "source": [
        "## Predicting the price via linear regression model"
      ],
      "metadata": {
        "id": "qrctsaYBai3g"
      }
    },
    {
      "cell_type": "markdown",
      "source": [
        "### Our first linear regression model wasn't successful because we were missing many features."
      ],
      "metadata": {
        "id": "76Wf5dexGG7w"
      }
    },
    {
      "cell_type": "code",
      "source": [
        "from sklearn.model_selection import train_test_split\n",
        "from sklearn.linear_model import LinearRegression\n",
        "\n",
        "def linear_regression_model_by_room_type(df):\n",
        "  X_train, X_test, y_train, y_test = train_test_split(df.loc[:,['latitude','longitude']],df['price'], test_size=0.3, random_state=0)\n",
        "  reg = LinearRegression().fit(X_train, y_train)\n",
        "  print(f'Training score is: {reg.score(X_train, y_train) * 100:.2f} %')\n",
        "  print(f'Testing score is: {reg.score(X_test, y_test) * 100:.2f} %')\n",
        "  return reg\n",
        "\n",
        "linear_regression_model_by_room_type(raw_df.loc[raw_df['room_type'] == 'Private room',:])\n",
        "linear_regression_model_by_room_type(raw_df.loc[raw_df['room_type'] == 'Entire home/apt',:])\n",
        "linear_regression_model_by_room_type(raw_df.loc[raw_df['room_type'] == 'Shared room',:])\n",
        "linear_regression_model_by_room_type(raw_df.loc[raw_df['room_type'] == 'Hotel room',:])"
      ],
      "metadata": {
        "colab": {
          "base_uri": "https://localhost:8080/"
        },
        "id": "7oziARoLjBIZ",
        "outputId": "36332aee-dfaf-4bf5-c3c0-210407add528"
      },
      "execution_count": null,
      "outputs": [
        {
          "output_type": "stream",
          "name": "stdout",
          "text": [
            "Training score is: 6.84 %\n",
            "Testing score is: 6.50 %\n",
            "Training score is: 3.52 %\n",
            "Testing score is: 3.26 %\n",
            "Training score is: 0.83 %\n",
            "Testing score is: 1.87 %\n",
            "Training score is: 7.36 %\n",
            "Testing score is: 4.20 %\n"
          ]
        },
        {
          "output_type": "execute_result",
          "data": {
            "text/plain": [
              "LinearRegression()"
            ]
          },
          "metadata": {},
          "execution_count": 17
        }
      ]
    },
    {
      "cell_type": "code",
      "source": [
        "# After standardizing the model is still very inaccurate. \n",
        "raw_df_lr=raw_df.loc[:,['latitude','longitude','price']]\n",
        "raw_df_lr=raw_df_lr.dropna()\n",
        "raw_df_lr_std = raw_df_lr.copy()\n",
        "raw_df_lr_std -= raw_df_lr_std.mean()\n",
        "raw_df_lr_std /= raw_df_lr_std.std()\n",
        "raw_df_lr_std.describe()\n",
        "linear_regression_model_by_room_type(raw_df_lr_std)"
      ],
      "metadata": {
        "id": "dEUxkobXqrjP",
        "colab": {
          "base_uri": "https://localhost:8080/"
        },
        "outputId": "68c05aca-31ee-4932-eb40-e7944d12de2f"
      },
      "execution_count": null,
      "outputs": [
        {
          "output_type": "stream",
          "name": "stdout",
          "text": [
            "Training score is: 5.40 %\n",
            "Testing score is: 5.36 %\n"
          ]
        },
        {
          "output_type": "execute_result",
          "data": {
            "text/plain": [
              "LinearRegression()"
            ]
          },
          "metadata": {},
          "execution_count": 18
        }
      ]
    },
    {
      "cell_type": "markdown",
      "source": [
        "## Another attempt using a bigger dataset with many more features."
      ],
      "metadata": {
        "id": "BzHTtgf0JB4X"
      }
    },
    {
      "cell_type": "code",
      "source": [
        "# Import libraries\n",
        "import pandas as pd\n",
        "import numpy as np\n",
        "import matplotlib.pyplot as plt\n",
        "import seaborn as sns\n",
        "sns.set(rc={'figure.figsize':(10,8)})\n",
        "from sklearn.model_selection import train_test_split\n",
        "from sklearn.linear_model import LinearRegression\n",
        "\n",
        "## WE SHOULD USE THIS DATASET INSTEAD FOR MODEL\n",
        "decompressed_df = pd.read_csv('http://data.insideairbnb.com/united-states/ny/new-york-city/2022-09-07/data/listings.csv.gz')\n",
        "bad_cols = ['id','listing_url','scrape_id','last_scraped','source','host_id',\n",
        "            'host_url','host_name','host_thumbnail_url','host_picture_url',\n",
        "            'host_neighbourhood','host_listings_count','host_total_listings_count',\n",
        "            'calendar_updated']\n",
        "decompressed_df = decompressed_df.drop(bad_cols,axis=1)\n",
        "decompressed_df.info()\n",
        "\n",
        "\n"
      ],
      "metadata": {
        "id": "SMRU4jo464q5",
        "colab": {
          "base_uri": "https://localhost:8080/"
        },
        "outputId": "7c9d3ffb-2939-46d3-ec0d-31d7d9f74cc4"
      },
      "execution_count": null,
      "outputs": [
        {
          "output_type": "stream",
          "name": "stderr",
          "text": [
            "/usr/local/lib/python3.8/dist-packages/IPython/core/interactiveshell.py:3326: DtypeWarning: Columns (68) have mixed types.Specify dtype option on import or set low_memory=False.\n",
            "  exec(code_obj, self.user_global_ns, self.user_ns)\n"
          ]
        },
        {
          "output_type": "stream",
          "name": "stdout",
          "text": [
            "<class 'pandas.core.frame.DataFrame'>\n",
            "RangeIndex: 39881 entries, 0 to 39880\n",
            "Data columns (total 61 columns):\n",
            " #   Column                                        Non-Null Count  Dtype  \n",
            "---  ------                                        --------------  -----  \n",
            " 0   name                                          39868 non-null  object \n",
            " 1   description                                   39036 non-null  object \n",
            " 2   neighborhood_overview                         23466 non-null  object \n",
            " 3   picture_url                                   39881 non-null  object \n",
            " 4   host_since                                    39831 non-null  object \n",
            " 5   host_location                                 32998 non-null  object \n",
            " 6   host_about                                    22509 non-null  object \n",
            " 7   host_response_time                            26333 non-null  object \n",
            " 8   host_response_rate                            26333 non-null  object \n",
            " 9   host_acceptance_rate                          28020 non-null  object \n",
            " 10  host_is_superhost                             39852 non-null  object \n",
            " 11  host_verifications                            39881 non-null  object \n",
            " 12  host_has_profile_pic                          39831 non-null  object \n",
            " 13  host_identity_verified                        39831 non-null  object \n",
            " 14  neighbourhood                                 23467 non-null  object \n",
            " 15  neighbourhood_cleansed                        39881 non-null  object \n",
            " 16  neighbourhood_group_cleansed                  39881 non-null  object \n",
            " 17  latitude                                      39881 non-null  float64\n",
            " 18  longitude                                     39881 non-null  float64\n",
            " 19  property_type                                 39881 non-null  object \n",
            " 20  room_type                                     39881 non-null  object \n",
            " 21  accommodates                                  39881 non-null  int64  \n",
            " 22  bathrooms                                     0 non-null      float64\n",
            " 23  bathrooms_text                                39797 non-null  object \n",
            " 24  bedrooms                                      36098 non-null  float64\n",
            " 25  beds                                          38997 non-null  float64\n",
            " 26  amenities                                     39881 non-null  object \n",
            " 27  price                                         39881 non-null  object \n",
            " 28  minimum_nights                                39881 non-null  int64  \n",
            " 29  maximum_nights                                39881 non-null  int64  \n",
            " 30  minimum_minimum_nights                        39867 non-null  float64\n",
            " 31  maximum_minimum_nights                        39867 non-null  float64\n",
            " 32  minimum_maximum_nights                        39867 non-null  float64\n",
            " 33  maximum_maximum_nights                        39867 non-null  float64\n",
            " 34  minimum_nights_avg_ntm                        39867 non-null  float64\n",
            " 35  maximum_nights_avg_ntm                        39867 non-null  float64\n",
            " 36  has_availability                              39881 non-null  object \n",
            " 37  availability_30                               39881 non-null  int64  \n",
            " 38  availability_60                               39881 non-null  int64  \n",
            " 39  availability_90                               39881 non-null  int64  \n",
            " 40  availability_365                              39881 non-null  int64  \n",
            " 41  calendar_last_scraped                         39881 non-null  object \n",
            " 42  number_of_reviews                             39881 non-null  int64  \n",
            " 43  number_of_reviews_ltm                         39881 non-null  int64  \n",
            " 44  number_of_reviews_l30d                        39881 non-null  int64  \n",
            " 45  first_review                                  31519 non-null  object \n",
            " 46  last_review                                   31519 non-null  object \n",
            " 47  review_scores_rating                          31519 non-null  float64\n",
            " 48  review_scores_accuracy                        31056 non-null  float64\n",
            " 49  review_scores_cleanliness                     31066 non-null  float64\n",
            " 50  review_scores_checkin                         31052 non-null  float64\n",
            " 51  review_scores_communication                   31061 non-null  float64\n",
            " 52  review_scores_location                        31049 non-null  float64\n",
            " 53  review_scores_value                           31049 non-null  float64\n",
            " 54  license                                       5 non-null      object \n",
            " 55  instant_bookable                              39881 non-null  object \n",
            " 56  calculated_host_listings_count                39881 non-null  int64  \n",
            " 57  calculated_host_listings_count_entire_homes   39881 non-null  int64  \n",
            " 58  calculated_host_listings_count_private_rooms  39881 non-null  int64  \n",
            " 59  calculated_host_listings_count_shared_rooms   39881 non-null  int64  \n",
            " 60  reviews_per_month                             31519 non-null  float64\n",
            "dtypes: float64(19), int64(14), object(28)\n",
            "memory usage: 18.6+ MB\n"
          ]
        }
      ]
    },
    {
      "cell_type": "markdown",
      "source": [
        "###Clean up bathrooms text"
      ],
      "metadata": {
        "id": "V5RhuQrouQ2v"
      }
    },
    {
      "cell_type": "code",
      "source": [
        "# Clean up bathrooms feature.\n",
        "def extract_bathrooms(text):\n",
        "  if not isinstance(text, str):\n",
        "    return 0\n",
        "  number_of_bathrooms = text.split(' ')[0]\n",
        "  try:\n",
        "    value = float(number_of_bathrooms)\n",
        "    return value\n",
        "  except:\n",
        "    return 0\n"
      ],
      "metadata": {
        "id": "UEB5QhA-8YH_"
      },
      "execution_count": null,
      "outputs": []
    },
    {
      "cell_type": "code",
      "source": [
        "decompressed_df['bathrooms'] = decompressed_df['bathrooms_text'].apply(extract_bathrooms)\n",
        "decompressed_df['bathrooms']"
      ],
      "metadata": {
        "colab": {
          "base_uri": "https://localhost:8080/"
        },
        "id": "eOhagKuDtBM3",
        "outputId": "6ac21fa1-44a1-4fd8-d26f-55abf7247c67"
      },
      "execution_count": null,
      "outputs": [
        {
          "output_type": "execute_result",
          "data": {
            "text/plain": [
              "0        1.0\n",
              "1        1.0\n",
              "2        0.0\n",
              "3        2.5\n",
              "4        1.5\n",
              "        ... \n",
              "39876    1.0\n",
              "39877    1.0\n",
              "39878    1.0\n",
              "39879    2.0\n",
              "39880    1.0\n",
              "Name: bathrooms, Length: 39881, dtype: float64"
            ]
          },
          "metadata": {},
          "execution_count": 21
        }
      ]
    },
    {
      "cell_type": "markdown",
      "source": [
        "### Clean up dollars value"
      ],
      "metadata": {
        "id": "-O_T2XVLjY4h"
      }
    },
    {
      "cell_type": "code",
      "source": [
        "def convertMoneyToFloat(s):\n",
        "  if type(s)==str:\n",
        "    return float(s.split()[0].replace(',','')[1:])\n"
      ],
      "metadata": {
        "id": "V7CZPc_BD4Q6"
      },
      "execution_count": null,
      "outputs": []
    },
    {
      "cell_type": "code",
      "source": [
        "decompressed_df['price'] = decompressed_df['price'].apply(convertMoneyToFloat)"
      ],
      "metadata": {
        "id": "3SI7el1VZ4SL"
      },
      "execution_count": null,
      "outputs": []
    },
    {
      "cell_type": "markdown",
      "source": [
        "### Find correlations"
      ],
      "metadata": {
        "id": "6R7IFQfwWRwr"
      }
    },
    {
      "cell_type": "code",
      "source": [
        "decompressed_df.corr()['price'].sort_values().tail(5).index"
      ],
      "metadata": {
        "colab": {
          "base_uri": "https://localhost:8080/"
        },
        "id": "VU0kqxkuWVzX",
        "outputId": "e6f0d5a0-ea01-46aa-8aee-651a49ab6e96"
      },
      "execution_count": null,
      "outputs": [
        {
          "output_type": "execute_result",
          "data": {
            "text/plain": [
              "Index(['beds', 'bathrooms', 'bedrooms', 'accommodates', 'price'], dtype='object')"
            ]
          },
          "metadata": {},
          "execution_count": 24
        }
      ]
    },
    {
      "cell_type": "code",
      "source": [
        "feature_names = ['bathrooms', 'beds', 'bedrooms', 'accommodates']"
      ],
      "metadata": {
        "id": "vBO3u3IDWs7G"
      },
      "execution_count": null,
      "outputs": []
    },
    {
      "cell_type": "code",
      "source": [
        "def count_amenities(amenities):\n",
        "  return len(amenities.replace('[','').replace('\"','').split(','))\n",
        "\n"
      ],
      "metadata": {
        "id": "Pb1k8NOFAnfq"
      },
      "execution_count": null,
      "outputs": []
    },
    {
      "cell_type": "markdown",
      "source": [
        "### Standardization"
      ],
      "metadata": {
        "id": "TWIzCsg0yvuZ"
      }
    },
    {
      "cell_type": "code",
      "source": [
        "price_prediction_df = decompressed_df.loc[:,feature_names]\n",
        "price_prediction_df = price_prediction_df.fillna(0.0)\n",
        "price_prediction_df -= price_prediction_df.mean()\n",
        "price_prediction_df /= price_prediction_df.std()\n",
        "price_prediction_df=np.clip(price_prediction_df,-3,3)"
      ],
      "metadata": {
        "id": "eQqgr74yy0hn"
      },
      "execution_count": null,
      "outputs": []
    },
    {
      "cell_type": "code",
      "source": [
        "price_prediction_df"
      ],
      "metadata": {
        "colab": {
          "base_uri": "https://localhost:8080/",
          "height": 424
        },
        "id": "bSIM5R6Ri_Y1",
        "outputId": "4f416ac0-5cd1-43c6-da27-224047386c0c"
      },
      "execution_count": null,
      "outputs": [
        {
          "output_type": "execute_result",
          "data": {
            "text/plain": [
              "       bathrooms      beds  bedrooms  accommodates\n",
              "0      -0.350504 -0.534268 -0.290787     -0.467141\n",
              "1      -0.350504 -0.534268 -1.538567     -0.968071\n",
              "2      -2.568249 -0.534268 -0.290787     -0.467141\n",
              "3       2.976113  3.000000  3.000000      3.000000\n",
              "4       0.758369  0.348966  0.956993      0.534718\n",
              "...          ...       ...       ...           ...\n",
              "39876  -0.350504 -0.534268 -0.290787     -0.467141\n",
              "39877  -0.350504  0.348966 -0.290787      0.534718\n",
              "39878  -0.350504  0.348966 -0.290787     -0.467141\n",
              "39879   1.867241  0.348966  0.956993      0.534718\n",
              "39880  -0.350504 -1.417503 -0.290787     -0.968071\n",
              "\n",
              "[39881 rows x 4 columns]"
            ],
            "text/html": [
              "\n",
              "  <div id=\"df-be93e161-3d20-42da-a040-3542a7ec00b1\">\n",
              "    <div class=\"colab-df-container\">\n",
              "      <div>\n",
              "<style scoped>\n",
              "    .dataframe tbody tr th:only-of-type {\n",
              "        vertical-align: middle;\n",
              "    }\n",
              "\n",
              "    .dataframe tbody tr th {\n",
              "        vertical-align: top;\n",
              "    }\n",
              "\n",
              "    .dataframe thead th {\n",
              "        text-align: right;\n",
              "    }\n",
              "</style>\n",
              "<table border=\"1\" class=\"dataframe\">\n",
              "  <thead>\n",
              "    <tr style=\"text-align: right;\">\n",
              "      <th></th>\n",
              "      <th>bathrooms</th>\n",
              "      <th>beds</th>\n",
              "      <th>bedrooms</th>\n",
              "      <th>accommodates</th>\n",
              "    </tr>\n",
              "  </thead>\n",
              "  <tbody>\n",
              "    <tr>\n",
              "      <th>0</th>\n",
              "      <td>-0.350504</td>\n",
              "      <td>-0.534268</td>\n",
              "      <td>-0.290787</td>\n",
              "      <td>-0.467141</td>\n",
              "    </tr>\n",
              "    <tr>\n",
              "      <th>1</th>\n",
              "      <td>-0.350504</td>\n",
              "      <td>-0.534268</td>\n",
              "      <td>-1.538567</td>\n",
              "      <td>-0.968071</td>\n",
              "    </tr>\n",
              "    <tr>\n",
              "      <th>2</th>\n",
              "      <td>-2.568249</td>\n",
              "      <td>-0.534268</td>\n",
              "      <td>-0.290787</td>\n",
              "      <td>-0.467141</td>\n",
              "    </tr>\n",
              "    <tr>\n",
              "      <th>3</th>\n",
              "      <td>2.976113</td>\n",
              "      <td>3.000000</td>\n",
              "      <td>3.000000</td>\n",
              "      <td>3.000000</td>\n",
              "    </tr>\n",
              "    <tr>\n",
              "      <th>4</th>\n",
              "      <td>0.758369</td>\n",
              "      <td>0.348966</td>\n",
              "      <td>0.956993</td>\n",
              "      <td>0.534718</td>\n",
              "    </tr>\n",
              "    <tr>\n",
              "      <th>...</th>\n",
              "      <td>...</td>\n",
              "      <td>...</td>\n",
              "      <td>...</td>\n",
              "      <td>...</td>\n",
              "    </tr>\n",
              "    <tr>\n",
              "      <th>39876</th>\n",
              "      <td>-0.350504</td>\n",
              "      <td>-0.534268</td>\n",
              "      <td>-0.290787</td>\n",
              "      <td>-0.467141</td>\n",
              "    </tr>\n",
              "    <tr>\n",
              "      <th>39877</th>\n",
              "      <td>-0.350504</td>\n",
              "      <td>0.348966</td>\n",
              "      <td>-0.290787</td>\n",
              "      <td>0.534718</td>\n",
              "    </tr>\n",
              "    <tr>\n",
              "      <th>39878</th>\n",
              "      <td>-0.350504</td>\n",
              "      <td>0.348966</td>\n",
              "      <td>-0.290787</td>\n",
              "      <td>-0.467141</td>\n",
              "    </tr>\n",
              "    <tr>\n",
              "      <th>39879</th>\n",
              "      <td>1.867241</td>\n",
              "      <td>0.348966</td>\n",
              "      <td>0.956993</td>\n",
              "      <td>0.534718</td>\n",
              "    </tr>\n",
              "    <tr>\n",
              "      <th>39880</th>\n",
              "      <td>-0.350504</td>\n",
              "      <td>-1.417503</td>\n",
              "      <td>-0.290787</td>\n",
              "      <td>-0.968071</td>\n",
              "    </tr>\n",
              "  </tbody>\n",
              "</table>\n",
              "<p>39881 rows × 4 columns</p>\n",
              "</div>\n",
              "      <button class=\"colab-df-convert\" onclick=\"convertToInteractive('df-be93e161-3d20-42da-a040-3542a7ec00b1')\"\n",
              "              title=\"Convert this dataframe to an interactive table.\"\n",
              "              style=\"display:none;\">\n",
              "        \n",
              "  <svg xmlns=\"http://www.w3.org/2000/svg\" height=\"24px\"viewBox=\"0 0 24 24\"\n",
              "       width=\"24px\">\n",
              "    <path d=\"M0 0h24v24H0V0z\" fill=\"none\"/>\n",
              "    <path d=\"M18.56 5.44l.94 2.06.94-2.06 2.06-.94-2.06-.94-.94-2.06-.94 2.06-2.06.94zm-11 1L8.5 8.5l.94-2.06 2.06-.94-2.06-.94L8.5 2.5l-.94 2.06-2.06.94zm10 10l.94 2.06.94-2.06 2.06-.94-2.06-.94-.94-2.06-.94 2.06-2.06.94z\"/><path d=\"M17.41 7.96l-1.37-1.37c-.4-.4-.92-.59-1.43-.59-.52 0-1.04.2-1.43.59L10.3 9.45l-7.72 7.72c-.78.78-.78 2.05 0 2.83L4 21.41c.39.39.9.59 1.41.59.51 0 1.02-.2 1.41-.59l7.78-7.78 2.81-2.81c.8-.78.8-2.07 0-2.86zM5.41 20L4 18.59l7.72-7.72 1.47 1.35L5.41 20z\"/>\n",
              "  </svg>\n",
              "      </button>\n",
              "      \n",
              "  <style>\n",
              "    .colab-df-container {\n",
              "      display:flex;\n",
              "      flex-wrap:wrap;\n",
              "      gap: 12px;\n",
              "    }\n",
              "\n",
              "    .colab-df-convert {\n",
              "      background-color: #E8F0FE;\n",
              "      border: none;\n",
              "      border-radius: 50%;\n",
              "      cursor: pointer;\n",
              "      display: none;\n",
              "      fill: #1967D2;\n",
              "      height: 32px;\n",
              "      padding: 0 0 0 0;\n",
              "      width: 32px;\n",
              "    }\n",
              "\n",
              "    .colab-df-convert:hover {\n",
              "      background-color: #E2EBFA;\n",
              "      box-shadow: 0px 1px 2px rgba(60, 64, 67, 0.3), 0px 1px 3px 1px rgba(60, 64, 67, 0.15);\n",
              "      fill: #174EA6;\n",
              "    }\n",
              "\n",
              "    [theme=dark] .colab-df-convert {\n",
              "      background-color: #3B4455;\n",
              "      fill: #D2E3FC;\n",
              "    }\n",
              "\n",
              "    [theme=dark] .colab-df-convert:hover {\n",
              "      background-color: #434B5C;\n",
              "      box-shadow: 0px 1px 3px 1px rgba(0, 0, 0, 0.15);\n",
              "      filter: drop-shadow(0px 1px 2px rgba(0, 0, 0, 0.3));\n",
              "      fill: #FFFFFF;\n",
              "    }\n",
              "  </style>\n",
              "\n",
              "      <script>\n",
              "        const buttonEl =\n",
              "          document.querySelector('#df-be93e161-3d20-42da-a040-3542a7ec00b1 button.colab-df-convert');\n",
              "        buttonEl.style.display =\n",
              "          google.colab.kernel.accessAllowed ? 'block' : 'none';\n",
              "\n",
              "        async function convertToInteractive(key) {\n",
              "          const element = document.querySelector('#df-be93e161-3d20-42da-a040-3542a7ec00b1');\n",
              "          const dataTable =\n",
              "            await google.colab.kernel.invokeFunction('convertToInteractive',\n",
              "                                                     [key], {});\n",
              "          if (!dataTable) return;\n",
              "\n",
              "          const docLinkHtml = 'Like what you see? Visit the ' +\n",
              "            '<a target=\"_blank\" href=https://colab.research.google.com/notebooks/data_table.ipynb>data table notebook</a>'\n",
              "            + ' to learn more about interactive tables.';\n",
              "          element.innerHTML = '';\n",
              "          dataTable['output_type'] = 'display_data';\n",
              "          await google.colab.output.renderOutput(dataTable, element);\n",
              "          const docLink = document.createElement('div');\n",
              "          docLink.innerHTML = docLinkHtml;\n",
              "          element.appendChild(docLink);\n",
              "        }\n",
              "      </script>\n",
              "    </div>\n",
              "  </div>\n",
              "  "
            ]
          },
          "metadata": {},
          "execution_count": 28
        }
      ]
    },
    {
      "cell_type": "code",
      "source": [
        "X_train, X_test, y_train, y_test = train_test_split(price_prediction_df.loc[:,feature_names],decompressed_df.loc[:,'price'], test_size=0.3, random_state=0)\n",
        "reg = LinearRegression().fit(X_train, y_train)\n",
        "print(f'Training score is: {reg.score(X_train, y_train) * 100:.2f} %')\n",
        "print(f'Testing score is: {reg.score(X_test, y_test) * 100:.2f} %')"
      ],
      "metadata": {
        "colab": {
          "base_uri": "https://localhost:8080/"
        },
        "id": "0EyYQDzXc9bu",
        "outputId": "fb91c71e-6db8-4e14-9ab3-76a26c615a99"
      },
      "execution_count": null,
      "outputs": [
        {
          "output_type": "stream",
          "name": "stdout",
          "text": [
            "Training score is: 8.53 %\n",
            "Testing score is: 16.60 %\n"
          ]
        }
      ]
    },
    {
      "cell_type": "markdown",
      "source": [
        "Though the model improved a little bit, it looks like we still won't be able to predict the price with a simple linear regression model. The reason is probably because AirBnb pricing is impacted heavily by the room type and the neighborhood it's in, which are categorical variables."
      ],
      "metadata": {
        "id": "eQJeh_7njeCI"
      }
    },
    {
      "cell_type": "markdown",
      "source": [
        "#Unsupervised Learning"
      ],
      "metadata": {
        "id": "aPy4O1pbpDGT"
      }
    },
    {
      "cell_type": "markdown",
      "source": [
        "## KMeans"
      ],
      "metadata": {
        "id": "HZSFJWYWEVuC"
      }
    },
    {
      "cell_type": "code",
      "source": [
        "s = 'bathrooms,bedrooms,beds,price,minimum_nights,maximum_nights,number_of_reviews,review_scores_rating,review_scores_accuracy,review_scores_cleanliness,review_scores_checkin,review_scores_communication,review_scores_location,review_scores_value'"
      ],
      "metadata": {
        "id": "zRZrCJWMy8SZ"
      },
      "execution_count": null,
      "outputs": []
    },
    {
      "cell_type": "code",
      "source": [
        "print(s.split(','))"
      ],
      "metadata": {
        "colab": {
          "base_uri": "https://localhost:8080/"
        },
        "id": "XkdfdRW-zbdp",
        "outputId": "09556e7e-76b1-4464-9700-3991aea5a762"
      },
      "execution_count": null,
      "outputs": [
        {
          "output_type": "stream",
          "name": "stdout",
          "text": [
            "['bathrooms', 'bedrooms', 'beds', 'price', 'minimum_nights', 'maximum_nights', 'number_of_reviews', 'review_scores_rating', 'review_scores_accuracy', 'review_scores_cleanliness', 'review_scores_checkin', 'review_scores_communication', 'review_scores_location', 'review_scores_value']\n"
          ]
        }
      ]
    },
    {
      "cell_type": "code",
      "source": [
        "fnames = ['bathrooms', 'bedrooms', 'beds', 'price', 'minimum_nights',\n",
        "          'maximum_nights', 'number_of_reviews', 'review_scores_rating',\n",
        "          'review_scores_accuracy', 'review_scores_cleanliness',\n",
        "          'review_scores_checkin', 'review_scores_communication', \n",
        "          'review_scores_location', 'review_scores_value']\n",
        "kmeans_df = decompressed_df[fnames]\n",
        "kmeans_df = kmeans_df.fillna(0.0)\n",
        "kmeans_df -= kmeans_df.mean()\n",
        "kmeans_df /= kmeans_df.std()\n",
        "kmeans_df=pd.DataFrame(np.clip(kmeans_df,-3,3),kmeans_df.index,kmeans_df.columns)\n"
      ],
      "metadata": {
        "id": "DD1_WbHmxDI2"
      },
      "execution_count": null,
      "outputs": []
    },
    {
      "cell_type": "code",
      "source": [
        "from sklearn.cluster import KMeans\n",
        "n_clusters=3\n",
        "kmeans = KMeans(n_clusters=n_clusters, random_state=0).fit(kmeans_df) \n",
        "\n",
        "for i in range(3):\n",
        "  print(f'Cluster {i}')\n",
        "  print(pd.Series(kmeans.cluster_centers_[i],index=kmeans_df.columns))\n"
      ],
      "metadata": {
        "colab": {
          "base_uri": "https://localhost:8080/"
        },
        "id": "2HsApRXhqFmK",
        "outputId": "f8e902d2-1349-44b1-fe60-af0e1e06b9d7"
      },
      "execution_count": null,
      "outputs": [
        {
          "output_type": "stream",
          "name": "stdout",
          "text": [
            "Cluster 0\n",
            "bathrooms                      0.032685\n",
            "bedrooms                      -0.023958\n",
            "beds                          -0.136913\n",
            "price                          0.054649\n",
            "minimum_nights                 0.229278\n",
            "maximum_nights                -0.005095\n",
            "number_of_reviews             -0.472926\n",
            "review_scores_rating          -1.818636\n",
            "review_scores_accuracy        -1.823331\n",
            "review_scores_cleanliness     -1.804104\n",
            "review_scores_checkin         -1.828203\n",
            "review_scores_communication   -1.826589\n",
            "review_scores_location        -1.822798\n",
            "review_scores_value           -1.816365\n",
            "dtype: float64\n",
            "Cluster 1\n",
            "bathrooms                     -0.224137\n",
            "bedrooms                      -0.320680\n",
            "beds                          -0.300038\n",
            "price                         -0.146400\n",
            "minimum_nights                -0.101348\n",
            "maximum_nights                -0.004841\n",
            "number_of_reviews              0.076068\n",
            "review_scores_rating           0.528247\n",
            "review_scores_accuracy         0.531512\n",
            "review_scores_cleanliness      0.522125\n",
            "review_scores_checkin          0.531854\n",
            "review_scores_communication    0.531906\n",
            "review_scores_location         0.533203\n",
            "review_scores_value            0.528669\n",
            "dtype: float64\n",
            "Cluster 2\n",
            "bathrooms                      0.852894\n",
            "bedrooms                       1.535885\n",
            "beds                           1.574959\n",
            "price                          0.375519\n",
            "minimum_nights                -0.189781\n",
            "maximum_nights                -0.005102\n",
            "number_of_reviews              0.145812\n",
            "review_scores_rating           0.542301\n",
            "review_scores_accuracy         0.534040\n",
            "review_scores_cleanliness      0.547625\n",
            "review_scores_checkin          0.540943\n",
            "review_scores_communication    0.537821\n",
            "review_scores_location         0.524507\n",
            "review_scores_value            0.536127\n",
            "dtype: float64\n"
          ]
        }
      ]
    },
    {
      "cell_type": "markdown",
      "source": [
        "Findings:\n",
        "\n",
        "*  Cluster 0: lower price, better number of bathrooms, bedrooms than cluster 1, but terrible review scores\n",
        "\n",
        "*  Cluster 1: lower price, low number of bathrooms, bedrooms, and decent review scores\n",
        "\n",
        "*  Cluster 2: higher price, good number of bathrooms, bedrooms, and decent reviews\n"
      ],
      "metadata": {
        "id": "U3be2uT11xn8"
      }
    },
    {
      "cell_type": "markdown",
      "source": [
        "# Supervised Learning"
      ],
      "metadata": {
        "id": "VkWvvDK2kGtq"
      }
    },
    {
      "cell_type": "markdown",
      "source": [
        "## kNN - Categorizing AirBnB listing value rating"
      ],
      "metadata": {
        "id": "e0QZGTWRcZJM"
      }
    },
    {
      "cell_type": "markdown",
      "source": [
        "1. Bad value: [0,2) review value score\n",
        "2. Okay value: [2,4) review value score\n",
        "3. Great value: [4,5) review value score"
      ],
      "metadata": {
        "id": "GlcbQvObclg0"
      }
    },
    {
      "cell_type": "code",
      "source": [
        "# neighborhood, bathrooms, bedrooms, beds, accommodates, minimum_nights, maximum_nights, price\n",
        "knn_df = decompressed_df[['neighbourhood_cleansed', 'bathrooms', 'bedrooms', 'beds', 'accommodates',\n",
        "                          'amenities','minimum_nights', 'maximum_nights', 'price']].copy()\n",
        "neighbourhood_numeric = {k:v for v,k in enumerate(knn_df.neighbourhood_cleansed.value_counts().index)}\n",
        "knn_df['neighbourhood_numeric'] = knn_df['neighbourhood_cleansed'].apply(lambda n:neighbourhood_numeric[n])\n",
        "knn_df['amenities_length'] = knn_df['amenities'].apply(len)\n",
        "knn_df = knn_df.drop('amenities',1)\n",
        "knn_df = knn_df.drop('neighbourhood_cleansed',1)\n",
        "knn_df = knn_df.fillna(0.0)\n",
        "knn_df -= knn_df.mean()\n",
        "knn_df /= knn_df.std()\n",
        "knn_df = np.clip(knn_df, -3, 3)\n"
      ],
      "metadata": {
        "colab": {
          "base_uri": "https://localhost:8080/"
        },
        "id": "gVI-S9FTdl4a",
        "outputId": "455e0130-2be9-43f9-ec4f-b47d3b34a7a0"
      },
      "execution_count": null,
      "outputs": [
        {
          "output_type": "stream",
          "name": "stderr",
          "text": [
            "<ipython-input-34-9a60cd737e10>:7: FutureWarning: In a future version of pandas all arguments of DataFrame.drop except for the argument 'labels' will be keyword-only\n",
            "  knn_df = knn_df.drop('amenities',1)\n",
            "<ipython-input-34-9a60cd737e10>:8: FutureWarning: In a future version of pandas all arguments of DataFrame.drop except for the argument 'labels' will be keyword-only\n",
            "  knn_df = knn_df.drop('neighbourhood_cleansed',1)\n"
          ]
        }
      ]
    },
    {
      "cell_type": "code",
      "source": [
        "knn_df"
      ],
      "metadata": {
        "colab": {
          "base_uri": "https://localhost:8080/",
          "height": 424
        },
        "id": "zrAnaiImyAMN",
        "outputId": "47729f24-72a0-4c19-c948-e0ae75662a11"
      },
      "execution_count": null,
      "outputs": [
        {
          "output_type": "execute_result",
          "data": {
            "text/plain": [
              "       bathrooms  bedrooms      beds  accommodates  minimum_nights  \\\n",
              "0      -0.350504 -0.290787 -0.534268     -0.467141        0.345762   \n",
              "1      -0.350504 -1.538567 -0.534268     -0.968071        0.345762   \n",
              "2      -2.568249 -0.290787 -0.534268     -0.467141        0.345762   \n",
              "3       2.976113  3.000000  3.000000      3.000000        0.345762   \n",
              "4       0.758369  0.956993  0.348966      0.534718        0.059437   \n",
              "...          ...       ...       ...           ...             ...   \n",
              "39876  -0.350504 -0.290787 -0.534268     -0.467141       -0.513214   \n",
              "39877  -0.350504 -0.290787  0.348966      0.534718       -0.513214   \n",
              "39878  -0.350504 -0.290787  0.348966     -0.467141       -0.513214   \n",
              "39879   1.867241  0.956993  0.348966      0.534718        0.345762   \n",
              "39880  -0.350504 -0.290787 -1.417503     -0.968071       -0.576842   \n",
              "\n",
              "       maximum_nights     price  neighbourhood_numeric  amenities_length  \n",
              "0           -0.005088  0.287131               0.892818          0.526899  \n",
              "1           -0.005051 -0.063813              -0.675917          0.422101  \n",
              "2           -0.005088 -0.389285              -0.757059         -1.336178  \n",
              "3           -0.005088  0.643736               0.081403         -0.381351  \n",
              "4           -0.005051  0.219206               0.135498         -0.136822  \n",
              "...               ...       ...                    ...               ...  \n",
              "39876       -0.005155 -0.114757               1.352620          0.495848  \n",
              "39877       -0.005051 -0.253436              -0.621823          0.701563  \n",
              "39878       -0.005153 -0.162870               3.000000         -0.610354  \n",
              "39879       -0.005122  0.572981              -0.730012          1.633102  \n",
              "39880       -0.005051 -0.445889               1.379667         -1.235262  \n",
              "\n",
              "[39881 rows x 9 columns]"
            ],
            "text/html": [
              "\n",
              "  <div id=\"df-9075ff69-3d46-4d60-a5cb-df1131d9f176\">\n",
              "    <div class=\"colab-df-container\">\n",
              "      <div>\n",
              "<style scoped>\n",
              "    .dataframe tbody tr th:only-of-type {\n",
              "        vertical-align: middle;\n",
              "    }\n",
              "\n",
              "    .dataframe tbody tr th {\n",
              "        vertical-align: top;\n",
              "    }\n",
              "\n",
              "    .dataframe thead th {\n",
              "        text-align: right;\n",
              "    }\n",
              "</style>\n",
              "<table border=\"1\" class=\"dataframe\">\n",
              "  <thead>\n",
              "    <tr style=\"text-align: right;\">\n",
              "      <th></th>\n",
              "      <th>bathrooms</th>\n",
              "      <th>bedrooms</th>\n",
              "      <th>beds</th>\n",
              "      <th>accommodates</th>\n",
              "      <th>minimum_nights</th>\n",
              "      <th>maximum_nights</th>\n",
              "      <th>price</th>\n",
              "      <th>neighbourhood_numeric</th>\n",
              "      <th>amenities_length</th>\n",
              "    </tr>\n",
              "  </thead>\n",
              "  <tbody>\n",
              "    <tr>\n",
              "      <th>0</th>\n",
              "      <td>-0.350504</td>\n",
              "      <td>-0.290787</td>\n",
              "      <td>-0.534268</td>\n",
              "      <td>-0.467141</td>\n",
              "      <td>0.345762</td>\n",
              "      <td>-0.005088</td>\n",
              "      <td>0.287131</td>\n",
              "      <td>0.892818</td>\n",
              "      <td>0.526899</td>\n",
              "    </tr>\n",
              "    <tr>\n",
              "      <th>1</th>\n",
              "      <td>-0.350504</td>\n",
              "      <td>-1.538567</td>\n",
              "      <td>-0.534268</td>\n",
              "      <td>-0.968071</td>\n",
              "      <td>0.345762</td>\n",
              "      <td>-0.005051</td>\n",
              "      <td>-0.063813</td>\n",
              "      <td>-0.675917</td>\n",
              "      <td>0.422101</td>\n",
              "    </tr>\n",
              "    <tr>\n",
              "      <th>2</th>\n",
              "      <td>-2.568249</td>\n",
              "      <td>-0.290787</td>\n",
              "      <td>-0.534268</td>\n",
              "      <td>-0.467141</td>\n",
              "      <td>0.345762</td>\n",
              "      <td>-0.005088</td>\n",
              "      <td>-0.389285</td>\n",
              "      <td>-0.757059</td>\n",
              "      <td>-1.336178</td>\n",
              "    </tr>\n",
              "    <tr>\n",
              "      <th>3</th>\n",
              "      <td>2.976113</td>\n",
              "      <td>3.000000</td>\n",
              "      <td>3.000000</td>\n",
              "      <td>3.000000</td>\n",
              "      <td>0.345762</td>\n",
              "      <td>-0.005088</td>\n",
              "      <td>0.643736</td>\n",
              "      <td>0.081403</td>\n",
              "      <td>-0.381351</td>\n",
              "    </tr>\n",
              "    <tr>\n",
              "      <th>4</th>\n",
              "      <td>0.758369</td>\n",
              "      <td>0.956993</td>\n",
              "      <td>0.348966</td>\n",
              "      <td>0.534718</td>\n",
              "      <td>0.059437</td>\n",
              "      <td>-0.005051</td>\n",
              "      <td>0.219206</td>\n",
              "      <td>0.135498</td>\n",
              "      <td>-0.136822</td>\n",
              "    </tr>\n",
              "    <tr>\n",
              "      <th>...</th>\n",
              "      <td>...</td>\n",
              "      <td>...</td>\n",
              "      <td>...</td>\n",
              "      <td>...</td>\n",
              "      <td>...</td>\n",
              "      <td>...</td>\n",
              "      <td>...</td>\n",
              "      <td>...</td>\n",
              "      <td>...</td>\n",
              "    </tr>\n",
              "    <tr>\n",
              "      <th>39876</th>\n",
              "      <td>-0.350504</td>\n",
              "      <td>-0.290787</td>\n",
              "      <td>-0.534268</td>\n",
              "      <td>-0.467141</td>\n",
              "      <td>-0.513214</td>\n",
              "      <td>-0.005155</td>\n",
              "      <td>-0.114757</td>\n",
              "      <td>1.352620</td>\n",
              "      <td>0.495848</td>\n",
              "    </tr>\n",
              "    <tr>\n",
              "      <th>39877</th>\n",
              "      <td>-0.350504</td>\n",
              "      <td>-0.290787</td>\n",
              "      <td>0.348966</td>\n",
              "      <td>0.534718</td>\n",
              "      <td>-0.513214</td>\n",
              "      <td>-0.005051</td>\n",
              "      <td>-0.253436</td>\n",
              "      <td>-0.621823</td>\n",
              "      <td>0.701563</td>\n",
              "    </tr>\n",
              "    <tr>\n",
              "      <th>39878</th>\n",
              "      <td>-0.350504</td>\n",
              "      <td>-0.290787</td>\n",
              "      <td>0.348966</td>\n",
              "      <td>-0.467141</td>\n",
              "      <td>-0.513214</td>\n",
              "      <td>-0.005153</td>\n",
              "      <td>-0.162870</td>\n",
              "      <td>3.000000</td>\n",
              "      <td>-0.610354</td>\n",
              "    </tr>\n",
              "    <tr>\n",
              "      <th>39879</th>\n",
              "      <td>1.867241</td>\n",
              "      <td>0.956993</td>\n",
              "      <td>0.348966</td>\n",
              "      <td>0.534718</td>\n",
              "      <td>0.345762</td>\n",
              "      <td>-0.005122</td>\n",
              "      <td>0.572981</td>\n",
              "      <td>-0.730012</td>\n",
              "      <td>1.633102</td>\n",
              "    </tr>\n",
              "    <tr>\n",
              "      <th>39880</th>\n",
              "      <td>-0.350504</td>\n",
              "      <td>-0.290787</td>\n",
              "      <td>-1.417503</td>\n",
              "      <td>-0.968071</td>\n",
              "      <td>-0.576842</td>\n",
              "      <td>-0.005051</td>\n",
              "      <td>-0.445889</td>\n",
              "      <td>1.379667</td>\n",
              "      <td>-1.235262</td>\n",
              "    </tr>\n",
              "  </tbody>\n",
              "</table>\n",
              "<p>39881 rows × 9 columns</p>\n",
              "</div>\n",
              "      <button class=\"colab-df-convert\" onclick=\"convertToInteractive('df-9075ff69-3d46-4d60-a5cb-df1131d9f176')\"\n",
              "              title=\"Convert this dataframe to an interactive table.\"\n",
              "              style=\"display:none;\">\n",
              "        \n",
              "  <svg xmlns=\"http://www.w3.org/2000/svg\" height=\"24px\"viewBox=\"0 0 24 24\"\n",
              "       width=\"24px\">\n",
              "    <path d=\"M0 0h24v24H0V0z\" fill=\"none\"/>\n",
              "    <path d=\"M18.56 5.44l.94 2.06.94-2.06 2.06-.94-2.06-.94-.94-2.06-.94 2.06-2.06.94zm-11 1L8.5 8.5l.94-2.06 2.06-.94-2.06-.94L8.5 2.5l-.94 2.06-2.06.94zm10 10l.94 2.06.94-2.06 2.06-.94-2.06-.94-.94-2.06-.94 2.06-2.06.94z\"/><path d=\"M17.41 7.96l-1.37-1.37c-.4-.4-.92-.59-1.43-.59-.52 0-1.04.2-1.43.59L10.3 9.45l-7.72 7.72c-.78.78-.78 2.05 0 2.83L4 21.41c.39.39.9.59 1.41.59.51 0 1.02-.2 1.41-.59l7.78-7.78 2.81-2.81c.8-.78.8-2.07 0-2.86zM5.41 20L4 18.59l7.72-7.72 1.47 1.35L5.41 20z\"/>\n",
              "  </svg>\n",
              "      </button>\n",
              "      \n",
              "  <style>\n",
              "    .colab-df-container {\n",
              "      display:flex;\n",
              "      flex-wrap:wrap;\n",
              "      gap: 12px;\n",
              "    }\n",
              "\n",
              "    .colab-df-convert {\n",
              "      background-color: #E8F0FE;\n",
              "      border: none;\n",
              "      border-radius: 50%;\n",
              "      cursor: pointer;\n",
              "      display: none;\n",
              "      fill: #1967D2;\n",
              "      height: 32px;\n",
              "      padding: 0 0 0 0;\n",
              "      width: 32px;\n",
              "    }\n",
              "\n",
              "    .colab-df-convert:hover {\n",
              "      background-color: #E2EBFA;\n",
              "      box-shadow: 0px 1px 2px rgba(60, 64, 67, 0.3), 0px 1px 3px 1px rgba(60, 64, 67, 0.15);\n",
              "      fill: #174EA6;\n",
              "    }\n",
              "\n",
              "    [theme=dark] .colab-df-convert {\n",
              "      background-color: #3B4455;\n",
              "      fill: #D2E3FC;\n",
              "    }\n",
              "\n",
              "    [theme=dark] .colab-df-convert:hover {\n",
              "      background-color: #434B5C;\n",
              "      box-shadow: 0px 1px 3px 1px rgba(0, 0, 0, 0.15);\n",
              "      filter: drop-shadow(0px 1px 2px rgba(0, 0, 0, 0.3));\n",
              "      fill: #FFFFFF;\n",
              "    }\n",
              "  </style>\n",
              "\n",
              "      <script>\n",
              "        const buttonEl =\n",
              "          document.querySelector('#df-9075ff69-3d46-4d60-a5cb-df1131d9f176 button.colab-df-convert');\n",
              "        buttonEl.style.display =\n",
              "          google.colab.kernel.accessAllowed ? 'block' : 'none';\n",
              "\n",
              "        async function convertToInteractive(key) {\n",
              "          const element = document.querySelector('#df-9075ff69-3d46-4d60-a5cb-df1131d9f176');\n",
              "          const dataTable =\n",
              "            await google.colab.kernel.invokeFunction('convertToInteractive',\n",
              "                                                     [key], {});\n",
              "          if (!dataTable) return;\n",
              "\n",
              "          const docLinkHtml = 'Like what you see? Visit the ' +\n",
              "            '<a target=\"_blank\" href=https://colab.research.google.com/notebooks/data_table.ipynb>data table notebook</a>'\n",
              "            + ' to learn more about interactive tables.';\n",
              "          element.innerHTML = '';\n",
              "          dataTable['output_type'] = 'display_data';\n",
              "          await google.colab.output.renderOutput(dataTable, element);\n",
              "          const docLink = document.createElement('div');\n",
              "          docLink.innerHTML = docLinkHtml;\n",
              "          element.appendChild(docLink);\n",
              "        }\n",
              "      </script>\n",
              "    </div>\n",
              "  </div>\n",
              "  "
            ]
          },
          "metadata": {},
          "execution_count": 35
        }
      ]
    },
    {
      "cell_type": "code",
      "source": [
        "knn_df.columns"
      ],
      "metadata": {
        "colab": {
          "base_uri": "https://localhost:8080/"
        },
        "id": "E2pH-wMuTVyP",
        "outputId": "b47bb1e8-273a-4360-dffb-890c6ab5c998"
      },
      "execution_count": null,
      "outputs": [
        {
          "output_type": "execute_result",
          "data": {
            "text/plain": [
              "Index(['bathrooms', 'bedrooms', 'beds', 'accommodates', 'minimum_nights',\n",
              "       'maximum_nights', 'price', 'neighbourhood_numeric', 'amenities_length',\n",
              "       'value_score'],\n",
              "      dtype='object')"
            ]
          },
          "metadata": {},
          "execution_count": 51
        }
      ]
    },
    {
      "cell_type": "code",
      "source": [
        "def valueConversion(score):\n",
        "  if(score >= 4):\n",
        "    return \"Great Value\"\n",
        "  if(score >= 2):\n",
        "    return \"Okay Value\"\n",
        "  else:\n",
        "    return \"Bad Value\"\n",
        "knn_df['value_score'] = decompressed_df['review_scores_value'].apply(valueConversion)\n",
        "knn_df = knn_df.dropna()"
      ],
      "metadata": {
        "id": "gb8WQ3H2eXQe"
      },
      "execution_count": null,
      "outputs": []
    },
    {
      "cell_type": "code",
      "source": [
        "from sklearn.model_selection import train_test_split\n",
        "\n",
        "X=knn_df.drop('value_score',1)\n",
        "y=knn_df['value_score']\n",
        "\n",
        "Xtrain, Xtest, ytrain, ytest = train_test_split(X,y, test_size=0.2, random_state=3) "
      ],
      "metadata": {
        "colab": {
          "base_uri": "https://localhost:8080/"
        },
        "id": "tGnp8JsQh2Ci",
        "outputId": "8c0994a4-a222-434f-edc7-44cf411acf08"
      },
      "execution_count": null,
      "outputs": [
        {
          "output_type": "stream",
          "name": "stderr",
          "text": [
            "<ipython-input-37-1cd6fbca57cd>:3: FutureWarning: In a future version of pandas all arguments of DataFrame.drop except for the argument 'labels' will be keyword-only\n",
            "  X=knn_df.drop('value_score',1)\n"
          ]
        }
      ]
    },
    {
      "cell_type": "code",
      "source": [
        "from sklearn import neighbors, datasets\n",
        "from sklearn.metrics import accuracy_score\n",
        "\n",
        "methodAndResults=pd.DataFrame()\n",
        "\n",
        "# we create an instance of Neighbours Classifier and fit the data.\n",
        "knn_clf = neighbors.KNeighborsClassifier()\n",
        "knn_clf.fit(Xtrain, ytrain)\n",
        "\n",
        "ytrain_pred=knn_clf.predict(Xtrain)\n",
        "methodAndResults.loc[str(knn_clf),'Train Accuracy']=accuracy_score(ytrain, ytrain_pred)\n",
        "ytest_pred=knn_clf.predict(Xtest)\n",
        "methodAndResults.loc[str(knn_clf),'Test Accuracy']=accuracy_score(ytest, ytest_pred)\n"
      ],
      "metadata": {
        "id": "qx894Ni4il-E"
      },
      "execution_count": null,
      "outputs": []
    },
    {
      "cell_type": "code",
      "source": [
        "# Increasing n_neighbors\n",
        "n_neighbors = 50\n",
        "\n",
        "knn_clf = neighbors.KNeighborsClassifier(n_neighbors)\n",
        "knn_clf.fit(Xtrain, ytrain)\n",
        "\n",
        "ytrain_pred=knn_clf.predict(Xtrain)\n",
        "methodAndResults.loc[str(knn_clf),'Train Accuracy']=accuracy_score(ytrain, ytrain_pred)\n",
        "ytest_pred=knn_clf.predict(Xtest)\n",
        "methodAndResults.loc[str(knn_clf),'Test Accuracy']=accuracy_score(ytest, ytest_pred)\n"
      ],
      "metadata": {
        "id": "WssDww9ijNha"
      },
      "execution_count": null,
      "outputs": []
    },
    {
      "cell_type": "code",
      "source": [
        "methodAndResults"
      ],
      "metadata": {
        "colab": {
          "base_uri": "https://localhost:8080/",
          "height": 112
        },
        "id": "cLBmZzgZjGx3",
        "outputId": "0ef1f91c-05b4-45fb-fe4e-b71457d81eed"
      },
      "execution_count": null,
      "outputs": [
        {
          "output_type": "execute_result",
          "data": {
            "text/plain": [
              "                                      Train Accuracy  Test Accuracy\n",
              "KNeighborsClassifier()                      0.814475       0.737746\n",
              "KNeighborsClassifier(n_neighbors=50)        0.775922       0.759684"
            ],
            "text/html": [
              "\n",
              "  <div id=\"df-259ab8fe-245a-4da1-8cde-8ef4443d8b7c\">\n",
              "    <div class=\"colab-df-container\">\n",
              "      <div>\n",
              "<style scoped>\n",
              "    .dataframe tbody tr th:only-of-type {\n",
              "        vertical-align: middle;\n",
              "    }\n",
              "\n",
              "    .dataframe tbody tr th {\n",
              "        vertical-align: top;\n",
              "    }\n",
              "\n",
              "    .dataframe thead th {\n",
              "        text-align: right;\n",
              "    }\n",
              "</style>\n",
              "<table border=\"1\" class=\"dataframe\">\n",
              "  <thead>\n",
              "    <tr style=\"text-align: right;\">\n",
              "      <th></th>\n",
              "      <th>Train Accuracy</th>\n",
              "      <th>Test Accuracy</th>\n",
              "    </tr>\n",
              "  </thead>\n",
              "  <tbody>\n",
              "    <tr>\n",
              "      <th>KNeighborsClassifier()</th>\n",
              "      <td>0.814475</td>\n",
              "      <td>0.737746</td>\n",
              "    </tr>\n",
              "    <tr>\n",
              "      <th>KNeighborsClassifier(n_neighbors=50)</th>\n",
              "      <td>0.775922</td>\n",
              "      <td>0.759684</td>\n",
              "    </tr>\n",
              "  </tbody>\n",
              "</table>\n",
              "</div>\n",
              "      <button class=\"colab-df-convert\" onclick=\"convertToInteractive('df-259ab8fe-245a-4da1-8cde-8ef4443d8b7c')\"\n",
              "              title=\"Convert this dataframe to an interactive table.\"\n",
              "              style=\"display:none;\">\n",
              "        \n",
              "  <svg xmlns=\"http://www.w3.org/2000/svg\" height=\"24px\"viewBox=\"0 0 24 24\"\n",
              "       width=\"24px\">\n",
              "    <path d=\"M0 0h24v24H0V0z\" fill=\"none\"/>\n",
              "    <path d=\"M18.56 5.44l.94 2.06.94-2.06 2.06-.94-2.06-.94-.94-2.06-.94 2.06-2.06.94zm-11 1L8.5 8.5l.94-2.06 2.06-.94-2.06-.94L8.5 2.5l-.94 2.06-2.06.94zm10 10l.94 2.06.94-2.06 2.06-.94-2.06-.94-.94-2.06-.94 2.06-2.06.94z\"/><path d=\"M17.41 7.96l-1.37-1.37c-.4-.4-.92-.59-1.43-.59-.52 0-1.04.2-1.43.59L10.3 9.45l-7.72 7.72c-.78.78-.78 2.05 0 2.83L4 21.41c.39.39.9.59 1.41.59.51 0 1.02-.2 1.41-.59l7.78-7.78 2.81-2.81c.8-.78.8-2.07 0-2.86zM5.41 20L4 18.59l7.72-7.72 1.47 1.35L5.41 20z\"/>\n",
              "  </svg>\n",
              "      </button>\n",
              "      \n",
              "  <style>\n",
              "    .colab-df-container {\n",
              "      display:flex;\n",
              "      flex-wrap:wrap;\n",
              "      gap: 12px;\n",
              "    }\n",
              "\n",
              "    .colab-df-convert {\n",
              "      background-color: #E8F0FE;\n",
              "      border: none;\n",
              "      border-radius: 50%;\n",
              "      cursor: pointer;\n",
              "      display: none;\n",
              "      fill: #1967D2;\n",
              "      height: 32px;\n",
              "      padding: 0 0 0 0;\n",
              "      width: 32px;\n",
              "    }\n",
              "\n",
              "    .colab-df-convert:hover {\n",
              "      background-color: #E2EBFA;\n",
              "      box-shadow: 0px 1px 2px rgba(60, 64, 67, 0.3), 0px 1px 3px 1px rgba(60, 64, 67, 0.15);\n",
              "      fill: #174EA6;\n",
              "    }\n",
              "\n",
              "    [theme=dark] .colab-df-convert {\n",
              "      background-color: #3B4455;\n",
              "      fill: #D2E3FC;\n",
              "    }\n",
              "\n",
              "    [theme=dark] .colab-df-convert:hover {\n",
              "      background-color: #434B5C;\n",
              "      box-shadow: 0px 1px 3px 1px rgba(0, 0, 0, 0.15);\n",
              "      filter: drop-shadow(0px 1px 2px rgba(0, 0, 0, 0.3));\n",
              "      fill: #FFFFFF;\n",
              "    }\n",
              "  </style>\n",
              "\n",
              "      <script>\n",
              "        const buttonEl =\n",
              "          document.querySelector('#df-259ab8fe-245a-4da1-8cde-8ef4443d8b7c button.colab-df-convert');\n",
              "        buttonEl.style.display =\n",
              "          google.colab.kernel.accessAllowed ? 'block' : 'none';\n",
              "\n",
              "        async function convertToInteractive(key) {\n",
              "          const element = document.querySelector('#df-259ab8fe-245a-4da1-8cde-8ef4443d8b7c');\n",
              "          const dataTable =\n",
              "            await google.colab.kernel.invokeFunction('convertToInteractive',\n",
              "                                                     [key], {});\n",
              "          if (!dataTable) return;\n",
              "\n",
              "          const docLinkHtml = 'Like what you see? Visit the ' +\n",
              "            '<a target=\"_blank\" href=https://colab.research.google.com/notebooks/data_table.ipynb>data table notebook</a>'\n",
              "            + ' to learn more about interactive tables.';\n",
              "          element.innerHTML = '';\n",
              "          dataTable['output_type'] = 'display_data';\n",
              "          await google.colab.output.renderOutput(dataTable, element);\n",
              "          const docLink = document.createElement('div');\n",
              "          docLink.innerHTML = docLinkHtml;\n",
              "          element.appendChild(docLink);\n",
              "        }\n",
              "      </script>\n",
              "    </div>\n",
              "  </div>\n",
              "  "
            ]
          },
          "metadata": {},
          "execution_count": 40
        }
      ]
    },
    {
      "cell_type": "markdown",
      "source": [
        "## Gaussian Bayes"
      ],
      "metadata": {
        "id": "TrhPuQfpjk2u"
      }
    },
    {
      "cell_type": "code",
      "source": [
        "from sklearn.naive_bayes import GaussianNB #In this case, ML = GaussianNB\n",
        "clf = GaussianNB()\n",
        "clf.fit(Xtrain,ytrain)\n",
        "\n",
        "ytrain_pred=clf.predict(Xtrain)\n",
        "methodAndResults.loc[str(clf),'Train Accuracy']=accuracy_score(ytrain, ytrain_pred)\n",
        "ytest_pred=clf.predict(Xtest)\n",
        "methodAndResults.loc[str(clf),'Test Accuracy']=accuracy_score(ytest, ytest_pred)\n"
      ],
      "metadata": {
        "id": "erzozjT9jnHd"
      },
      "execution_count": null,
      "outputs": []
    },
    {
      "cell_type": "code",
      "source": [
        "methodAndResults"
      ],
      "metadata": {
        "colab": {
          "base_uri": "https://localhost:8080/",
          "height": 143
        },
        "id": "_-pgE-uzjsjJ",
        "outputId": "a70b1d81-98f5-4a7e-d817-74dd5885a306"
      },
      "execution_count": null,
      "outputs": [
        {
          "output_type": "execute_result",
          "data": {
            "text/plain": [
              "                                      Train Accuracy  Test Accuracy\n",
              "KNeighborsClassifier()                      0.814475       0.737746\n",
              "KNeighborsClassifier(n_neighbors=50)        0.775922       0.759684\n",
              "GaussianNB()                                0.252131       0.253729"
            ],
            "text/html": [
              "\n",
              "  <div id=\"df-b450a420-2d17-44fa-a98d-696aaf8d3a90\">\n",
              "    <div class=\"colab-df-container\">\n",
              "      <div>\n",
              "<style scoped>\n",
              "    .dataframe tbody tr th:only-of-type {\n",
              "        vertical-align: middle;\n",
              "    }\n",
              "\n",
              "    .dataframe tbody tr th {\n",
              "        vertical-align: top;\n",
              "    }\n",
              "\n",
              "    .dataframe thead th {\n",
              "        text-align: right;\n",
              "    }\n",
              "</style>\n",
              "<table border=\"1\" class=\"dataframe\">\n",
              "  <thead>\n",
              "    <tr style=\"text-align: right;\">\n",
              "      <th></th>\n",
              "      <th>Train Accuracy</th>\n",
              "      <th>Test Accuracy</th>\n",
              "    </tr>\n",
              "  </thead>\n",
              "  <tbody>\n",
              "    <tr>\n",
              "      <th>KNeighborsClassifier()</th>\n",
              "      <td>0.814475</td>\n",
              "      <td>0.737746</td>\n",
              "    </tr>\n",
              "    <tr>\n",
              "      <th>KNeighborsClassifier(n_neighbors=50)</th>\n",
              "      <td>0.775922</td>\n",
              "      <td>0.759684</td>\n",
              "    </tr>\n",
              "    <tr>\n",
              "      <th>GaussianNB()</th>\n",
              "      <td>0.252131</td>\n",
              "      <td>0.253729</td>\n",
              "    </tr>\n",
              "  </tbody>\n",
              "</table>\n",
              "</div>\n",
              "      <button class=\"colab-df-convert\" onclick=\"convertToInteractive('df-b450a420-2d17-44fa-a98d-696aaf8d3a90')\"\n",
              "              title=\"Convert this dataframe to an interactive table.\"\n",
              "              style=\"display:none;\">\n",
              "        \n",
              "  <svg xmlns=\"http://www.w3.org/2000/svg\" height=\"24px\"viewBox=\"0 0 24 24\"\n",
              "       width=\"24px\">\n",
              "    <path d=\"M0 0h24v24H0V0z\" fill=\"none\"/>\n",
              "    <path d=\"M18.56 5.44l.94 2.06.94-2.06 2.06-.94-2.06-.94-.94-2.06-.94 2.06-2.06.94zm-11 1L8.5 8.5l.94-2.06 2.06-.94-2.06-.94L8.5 2.5l-.94 2.06-2.06.94zm10 10l.94 2.06.94-2.06 2.06-.94-2.06-.94-.94-2.06-.94 2.06-2.06.94z\"/><path d=\"M17.41 7.96l-1.37-1.37c-.4-.4-.92-.59-1.43-.59-.52 0-1.04.2-1.43.59L10.3 9.45l-7.72 7.72c-.78.78-.78 2.05 0 2.83L4 21.41c.39.39.9.59 1.41.59.51 0 1.02-.2 1.41-.59l7.78-7.78 2.81-2.81c.8-.78.8-2.07 0-2.86zM5.41 20L4 18.59l7.72-7.72 1.47 1.35L5.41 20z\"/>\n",
              "  </svg>\n",
              "      </button>\n",
              "      \n",
              "  <style>\n",
              "    .colab-df-container {\n",
              "      display:flex;\n",
              "      flex-wrap:wrap;\n",
              "      gap: 12px;\n",
              "    }\n",
              "\n",
              "    .colab-df-convert {\n",
              "      background-color: #E8F0FE;\n",
              "      border: none;\n",
              "      border-radius: 50%;\n",
              "      cursor: pointer;\n",
              "      display: none;\n",
              "      fill: #1967D2;\n",
              "      height: 32px;\n",
              "      padding: 0 0 0 0;\n",
              "      width: 32px;\n",
              "    }\n",
              "\n",
              "    .colab-df-convert:hover {\n",
              "      background-color: #E2EBFA;\n",
              "      box-shadow: 0px 1px 2px rgba(60, 64, 67, 0.3), 0px 1px 3px 1px rgba(60, 64, 67, 0.15);\n",
              "      fill: #174EA6;\n",
              "    }\n",
              "\n",
              "    [theme=dark] .colab-df-convert {\n",
              "      background-color: #3B4455;\n",
              "      fill: #D2E3FC;\n",
              "    }\n",
              "\n",
              "    [theme=dark] .colab-df-convert:hover {\n",
              "      background-color: #434B5C;\n",
              "      box-shadow: 0px 1px 3px 1px rgba(0, 0, 0, 0.15);\n",
              "      filter: drop-shadow(0px 1px 2px rgba(0, 0, 0, 0.3));\n",
              "      fill: #FFFFFF;\n",
              "    }\n",
              "  </style>\n",
              "\n",
              "      <script>\n",
              "        const buttonEl =\n",
              "          document.querySelector('#df-b450a420-2d17-44fa-a98d-696aaf8d3a90 button.colab-df-convert');\n",
              "        buttonEl.style.display =\n",
              "          google.colab.kernel.accessAllowed ? 'block' : 'none';\n",
              "\n",
              "        async function convertToInteractive(key) {\n",
              "          const element = document.querySelector('#df-b450a420-2d17-44fa-a98d-696aaf8d3a90');\n",
              "          const dataTable =\n",
              "            await google.colab.kernel.invokeFunction('convertToInteractive',\n",
              "                                                     [key], {});\n",
              "          if (!dataTable) return;\n",
              "\n",
              "          const docLinkHtml = 'Like what you see? Visit the ' +\n",
              "            '<a target=\"_blank\" href=https://colab.research.google.com/notebooks/data_table.ipynb>data table notebook</a>'\n",
              "            + ' to learn more about interactive tables.';\n",
              "          element.innerHTML = '';\n",
              "          dataTable['output_type'] = 'display_data';\n",
              "          await google.colab.output.renderOutput(dataTable, element);\n",
              "          const docLink = document.createElement('div');\n",
              "          docLink.innerHTML = docLinkHtml;\n",
              "          element.appendChild(docLink);\n",
              "        }\n",
              "      </script>\n",
              "    </div>\n",
              "  </div>\n",
              "  "
            ]
          },
          "metadata": {},
          "execution_count": 42
        }
      ]
    },
    {
      "cell_type": "markdown",
      "source": [
        "## LDA"
      ],
      "metadata": {
        "id": "iPjd3-qykAcX"
      }
    },
    {
      "cell_type": "code",
      "source": [
        "from sklearn.discriminant_analysis import LinearDiscriminantAnalysis\n",
        "clf = LinearDiscriminantAnalysis()\n",
        "clf.fit(Xtrain,ytrain)\n",
        "ytrain_pred=clf.predict(Xtrain)\n",
        "methodAndResults.loc[str(clf),'Train Accuracy']=accuracy_score(ytrain, ytrain_pred)\n",
        "ytest_pred=clf.predict(Xtest)\n",
        "methodAndResults.loc[str(clf),'Test Accuracy']=accuracy_score(ytest, ytest_pred)\n",
        "methodAndResults\n"
      ],
      "metadata": {
        "colab": {
          "base_uri": "https://localhost:8080/",
          "height": 175
        },
        "id": "pKiNf3CekCNY",
        "outputId": "e15d4dfe-099d-4a4c-9515-f792b73b4a6b"
      },
      "execution_count": null,
      "outputs": [
        {
          "output_type": "execute_result",
          "data": {
            "text/plain": [
              "                                      Train Accuracy  Test Accuracy\n",
              "KNeighborsClassifier()                      0.814475       0.737746\n",
              "KNeighborsClassifier(n_neighbors=50)        0.775922       0.759684\n",
              "GaussianNB()                                0.252131       0.253729\n",
              "LinearDiscriminantAnalysis()                0.753699       0.749028"
            ],
            "text/html": [
              "\n",
              "  <div id=\"df-4c0c6211-9f9e-4582-bece-260ea752e74e\">\n",
              "    <div class=\"colab-df-container\">\n",
              "      <div>\n",
              "<style scoped>\n",
              "    .dataframe tbody tr th:only-of-type {\n",
              "        vertical-align: middle;\n",
              "    }\n",
              "\n",
              "    .dataframe tbody tr th {\n",
              "        vertical-align: top;\n",
              "    }\n",
              "\n",
              "    .dataframe thead th {\n",
              "        text-align: right;\n",
              "    }\n",
              "</style>\n",
              "<table border=\"1\" class=\"dataframe\">\n",
              "  <thead>\n",
              "    <tr style=\"text-align: right;\">\n",
              "      <th></th>\n",
              "      <th>Train Accuracy</th>\n",
              "      <th>Test Accuracy</th>\n",
              "    </tr>\n",
              "  </thead>\n",
              "  <tbody>\n",
              "    <tr>\n",
              "      <th>KNeighborsClassifier()</th>\n",
              "      <td>0.814475</td>\n",
              "      <td>0.737746</td>\n",
              "    </tr>\n",
              "    <tr>\n",
              "      <th>KNeighborsClassifier(n_neighbors=50)</th>\n",
              "      <td>0.775922</td>\n",
              "      <td>0.759684</td>\n",
              "    </tr>\n",
              "    <tr>\n",
              "      <th>GaussianNB()</th>\n",
              "      <td>0.252131</td>\n",
              "      <td>0.253729</td>\n",
              "    </tr>\n",
              "    <tr>\n",
              "      <th>LinearDiscriminantAnalysis()</th>\n",
              "      <td>0.753699</td>\n",
              "      <td>0.749028</td>\n",
              "    </tr>\n",
              "  </tbody>\n",
              "</table>\n",
              "</div>\n",
              "      <button class=\"colab-df-convert\" onclick=\"convertToInteractive('df-4c0c6211-9f9e-4582-bece-260ea752e74e')\"\n",
              "              title=\"Convert this dataframe to an interactive table.\"\n",
              "              style=\"display:none;\">\n",
              "        \n",
              "  <svg xmlns=\"http://www.w3.org/2000/svg\" height=\"24px\"viewBox=\"0 0 24 24\"\n",
              "       width=\"24px\">\n",
              "    <path d=\"M0 0h24v24H0V0z\" fill=\"none\"/>\n",
              "    <path d=\"M18.56 5.44l.94 2.06.94-2.06 2.06-.94-2.06-.94-.94-2.06-.94 2.06-2.06.94zm-11 1L8.5 8.5l.94-2.06 2.06-.94-2.06-.94L8.5 2.5l-.94 2.06-2.06.94zm10 10l.94 2.06.94-2.06 2.06-.94-2.06-.94-.94-2.06-.94 2.06-2.06.94z\"/><path d=\"M17.41 7.96l-1.37-1.37c-.4-.4-.92-.59-1.43-.59-.52 0-1.04.2-1.43.59L10.3 9.45l-7.72 7.72c-.78.78-.78 2.05 0 2.83L4 21.41c.39.39.9.59 1.41.59.51 0 1.02-.2 1.41-.59l7.78-7.78 2.81-2.81c.8-.78.8-2.07 0-2.86zM5.41 20L4 18.59l7.72-7.72 1.47 1.35L5.41 20z\"/>\n",
              "  </svg>\n",
              "      </button>\n",
              "      \n",
              "  <style>\n",
              "    .colab-df-container {\n",
              "      display:flex;\n",
              "      flex-wrap:wrap;\n",
              "      gap: 12px;\n",
              "    }\n",
              "\n",
              "    .colab-df-convert {\n",
              "      background-color: #E8F0FE;\n",
              "      border: none;\n",
              "      border-radius: 50%;\n",
              "      cursor: pointer;\n",
              "      display: none;\n",
              "      fill: #1967D2;\n",
              "      height: 32px;\n",
              "      padding: 0 0 0 0;\n",
              "      width: 32px;\n",
              "    }\n",
              "\n",
              "    .colab-df-convert:hover {\n",
              "      background-color: #E2EBFA;\n",
              "      box-shadow: 0px 1px 2px rgba(60, 64, 67, 0.3), 0px 1px 3px 1px rgba(60, 64, 67, 0.15);\n",
              "      fill: #174EA6;\n",
              "    }\n",
              "\n",
              "    [theme=dark] .colab-df-convert {\n",
              "      background-color: #3B4455;\n",
              "      fill: #D2E3FC;\n",
              "    }\n",
              "\n",
              "    [theme=dark] .colab-df-convert:hover {\n",
              "      background-color: #434B5C;\n",
              "      box-shadow: 0px 1px 3px 1px rgba(0, 0, 0, 0.15);\n",
              "      filter: drop-shadow(0px 1px 2px rgba(0, 0, 0, 0.3));\n",
              "      fill: #FFFFFF;\n",
              "    }\n",
              "  </style>\n",
              "\n",
              "      <script>\n",
              "        const buttonEl =\n",
              "          document.querySelector('#df-4c0c6211-9f9e-4582-bece-260ea752e74e button.colab-df-convert');\n",
              "        buttonEl.style.display =\n",
              "          google.colab.kernel.accessAllowed ? 'block' : 'none';\n",
              "\n",
              "        async function convertToInteractive(key) {\n",
              "          const element = document.querySelector('#df-4c0c6211-9f9e-4582-bece-260ea752e74e');\n",
              "          const dataTable =\n",
              "            await google.colab.kernel.invokeFunction('convertToInteractive',\n",
              "                                                     [key], {});\n",
              "          if (!dataTable) return;\n",
              "\n",
              "          const docLinkHtml = 'Like what you see? Visit the ' +\n",
              "            '<a target=\"_blank\" href=https://colab.research.google.com/notebooks/data_table.ipynb>data table notebook</a>'\n",
              "            + ' to learn more about interactive tables.';\n",
              "          element.innerHTML = '';\n",
              "          dataTable['output_type'] = 'display_data';\n",
              "          await google.colab.output.renderOutput(dataTable, element);\n",
              "          const docLink = document.createElement('div');\n",
              "          docLink.innerHTML = docLinkHtml;\n",
              "          element.appendChild(docLink);\n",
              "        }\n",
              "      </script>\n",
              "    </div>\n",
              "  </div>\n",
              "  "
            ]
          },
          "metadata": {},
          "execution_count": 43
        }
      ]
    },
    {
      "cell_type": "markdown",
      "source": [
        "## Logistic Regression"
      ],
      "metadata": {
        "id": "E-rAgDxjkFPu"
      }
    },
    {
      "cell_type": "code",
      "source": [
        "from sklearn.linear_model import LogisticRegression #like all ML, just change the classifier to LogisticRegression (nativeGB)\n",
        "\n",
        "clf = LogisticRegression()\n",
        "clf.fit(Xtrain, ytrain)\n",
        "\n",
        "ytrain_pred=clf.predict(Xtrain)\n",
        "methodAndResults.loc[str(clf),'Train Accuracy']=accuracy_score(ytrain, ytrain_pred)\n",
        "ytest_pred=clf.predict(Xtest)\n",
        "methodAndResults.loc[str(clf),'Test Accuracy']=accuracy_score(ytest, ytest_pred)\n",
        "methodAndResults"
      ],
      "metadata": {
        "colab": {
          "base_uri": "https://localhost:8080/",
          "height": 206
        },
        "id": "BOtrv73CkInJ",
        "outputId": "4964e2e6-ff78-4877-b1fc-158a42b64d80"
      },
      "execution_count": null,
      "outputs": [
        {
          "output_type": "execute_result",
          "data": {
            "text/plain": [
              "                                      Train Accuracy  Test Accuracy\n",
              "KNeighborsClassifier()                      0.814475       0.737746\n",
              "KNeighborsClassifier(n_neighbors=50)        0.775922       0.759684\n",
              "GaussianNB()                                0.252131       0.253729\n",
              "LinearDiscriminantAnalysis()                0.753699       0.749028\n",
              "LogisticRegression()                        0.754545       0.750282"
            ],
            "text/html": [
              "\n",
              "  <div id=\"df-1c0ca10e-5ada-4bf6-944d-ff8734b8488d\">\n",
              "    <div class=\"colab-df-container\">\n",
              "      <div>\n",
              "<style scoped>\n",
              "    .dataframe tbody tr th:only-of-type {\n",
              "        vertical-align: middle;\n",
              "    }\n",
              "\n",
              "    .dataframe tbody tr th {\n",
              "        vertical-align: top;\n",
              "    }\n",
              "\n",
              "    .dataframe thead th {\n",
              "        text-align: right;\n",
              "    }\n",
              "</style>\n",
              "<table border=\"1\" class=\"dataframe\">\n",
              "  <thead>\n",
              "    <tr style=\"text-align: right;\">\n",
              "      <th></th>\n",
              "      <th>Train Accuracy</th>\n",
              "      <th>Test Accuracy</th>\n",
              "    </tr>\n",
              "  </thead>\n",
              "  <tbody>\n",
              "    <tr>\n",
              "      <th>KNeighborsClassifier()</th>\n",
              "      <td>0.814475</td>\n",
              "      <td>0.737746</td>\n",
              "    </tr>\n",
              "    <tr>\n",
              "      <th>KNeighborsClassifier(n_neighbors=50)</th>\n",
              "      <td>0.775922</td>\n",
              "      <td>0.759684</td>\n",
              "    </tr>\n",
              "    <tr>\n",
              "      <th>GaussianNB()</th>\n",
              "      <td>0.252131</td>\n",
              "      <td>0.253729</td>\n",
              "    </tr>\n",
              "    <tr>\n",
              "      <th>LinearDiscriminantAnalysis()</th>\n",
              "      <td>0.753699</td>\n",
              "      <td>0.749028</td>\n",
              "    </tr>\n",
              "    <tr>\n",
              "      <th>LogisticRegression()</th>\n",
              "      <td>0.754545</td>\n",
              "      <td>0.750282</td>\n",
              "    </tr>\n",
              "  </tbody>\n",
              "</table>\n",
              "</div>\n",
              "      <button class=\"colab-df-convert\" onclick=\"convertToInteractive('df-1c0ca10e-5ada-4bf6-944d-ff8734b8488d')\"\n",
              "              title=\"Convert this dataframe to an interactive table.\"\n",
              "              style=\"display:none;\">\n",
              "        \n",
              "  <svg xmlns=\"http://www.w3.org/2000/svg\" height=\"24px\"viewBox=\"0 0 24 24\"\n",
              "       width=\"24px\">\n",
              "    <path d=\"M0 0h24v24H0V0z\" fill=\"none\"/>\n",
              "    <path d=\"M18.56 5.44l.94 2.06.94-2.06 2.06-.94-2.06-.94-.94-2.06-.94 2.06-2.06.94zm-11 1L8.5 8.5l.94-2.06 2.06-.94-2.06-.94L8.5 2.5l-.94 2.06-2.06.94zm10 10l.94 2.06.94-2.06 2.06-.94-2.06-.94-.94-2.06-.94 2.06-2.06.94z\"/><path d=\"M17.41 7.96l-1.37-1.37c-.4-.4-.92-.59-1.43-.59-.52 0-1.04.2-1.43.59L10.3 9.45l-7.72 7.72c-.78.78-.78 2.05 0 2.83L4 21.41c.39.39.9.59 1.41.59.51 0 1.02-.2 1.41-.59l7.78-7.78 2.81-2.81c.8-.78.8-2.07 0-2.86zM5.41 20L4 18.59l7.72-7.72 1.47 1.35L5.41 20z\"/>\n",
              "  </svg>\n",
              "      </button>\n",
              "      \n",
              "  <style>\n",
              "    .colab-df-container {\n",
              "      display:flex;\n",
              "      flex-wrap:wrap;\n",
              "      gap: 12px;\n",
              "    }\n",
              "\n",
              "    .colab-df-convert {\n",
              "      background-color: #E8F0FE;\n",
              "      border: none;\n",
              "      border-radius: 50%;\n",
              "      cursor: pointer;\n",
              "      display: none;\n",
              "      fill: #1967D2;\n",
              "      height: 32px;\n",
              "      padding: 0 0 0 0;\n",
              "      width: 32px;\n",
              "    }\n",
              "\n",
              "    .colab-df-convert:hover {\n",
              "      background-color: #E2EBFA;\n",
              "      box-shadow: 0px 1px 2px rgba(60, 64, 67, 0.3), 0px 1px 3px 1px rgba(60, 64, 67, 0.15);\n",
              "      fill: #174EA6;\n",
              "    }\n",
              "\n",
              "    [theme=dark] .colab-df-convert {\n",
              "      background-color: #3B4455;\n",
              "      fill: #D2E3FC;\n",
              "    }\n",
              "\n",
              "    [theme=dark] .colab-df-convert:hover {\n",
              "      background-color: #434B5C;\n",
              "      box-shadow: 0px 1px 3px 1px rgba(0, 0, 0, 0.15);\n",
              "      filter: drop-shadow(0px 1px 2px rgba(0, 0, 0, 0.3));\n",
              "      fill: #FFFFFF;\n",
              "    }\n",
              "  </style>\n",
              "\n",
              "      <script>\n",
              "        const buttonEl =\n",
              "          document.querySelector('#df-1c0ca10e-5ada-4bf6-944d-ff8734b8488d button.colab-df-convert');\n",
              "        buttonEl.style.display =\n",
              "          google.colab.kernel.accessAllowed ? 'block' : 'none';\n",
              "\n",
              "        async function convertToInteractive(key) {\n",
              "          const element = document.querySelector('#df-1c0ca10e-5ada-4bf6-944d-ff8734b8488d');\n",
              "          const dataTable =\n",
              "            await google.colab.kernel.invokeFunction('convertToInteractive',\n",
              "                                                     [key], {});\n",
              "          if (!dataTable) return;\n",
              "\n",
              "          const docLinkHtml = 'Like what you see? Visit the ' +\n",
              "            '<a target=\"_blank\" href=https://colab.research.google.com/notebooks/data_table.ipynb>data table notebook</a>'\n",
              "            + ' to learn more about interactive tables.';\n",
              "          element.innerHTML = '';\n",
              "          dataTable['output_type'] = 'display_data';\n",
              "          await google.colab.output.renderOutput(dataTable, element);\n",
              "          const docLink = document.createElement('div');\n",
              "          docLink.innerHTML = docLinkHtml;\n",
              "          element.appendChild(docLink);\n",
              "        }\n",
              "      </script>\n",
              "    </div>\n",
              "  </div>\n",
              "  "
            ]
          },
          "metadata": {},
          "execution_count": 44
        }
      ]
    },
    {
      "cell_type": "markdown",
      "source": [
        "## Decision Tree"
      ],
      "metadata": {
        "id": "5uy-hFhYnIDo"
      }
    },
    {
      "cell_type": "code",
      "source": [
        "from sklearn.tree import DecisionTreeClassifier\n",
        "clf = DecisionTreeClassifier(criterion='gini')\n",
        "clf.fit(Xtrain, ytrain)\n",
        "\n",
        "ytrain_pred=clf.predict(Xtrain)\n",
        "methodAndResults.loc[str(clf),'Train Accuracy']=accuracy_score(ytrain, ytrain_pred)\n",
        "ytest_pred=clf.predict(Xtest)\n",
        "methodAndResults.loc[str(clf),'Test Accuracy']=accuracy_score(ytest, ytest_pred)\n",
        "\n"
      ],
      "metadata": {
        "id": "43ieAVCqnKQr"
      },
      "execution_count": null,
      "outputs": []
    },
    {
      "cell_type": "code",
      "source": [
        "methodAndResults"
      ],
      "metadata": {
        "colab": {
          "base_uri": "https://localhost:8080/",
          "height": 363
        },
        "id": "QZFbDLKOnbgS",
        "outputId": "8e13c66a-8189-431d-9b2e-678dd66f0e93"
      },
      "execution_count": null,
      "outputs": [
        {
          "output_type": "execute_result",
          "data": {
            "text/plain": [
              "                                                    Train Accuracy  \\\n",
              "KNeighborsClassifier()                                    0.814475   \n",
              "KNeighborsClassifier(n_neighbors=50)                      0.775922   \n",
              "GaussianNB()                                              0.252131   \n",
              "LinearDiscriminantAnalysis()                              0.753699   \n",
              "LogisticRegression()                                      0.754545   \n",
              "DecisionTreeClassifier()                                  0.995737   \n",
              "RandomForestClassifier(max_depth=2, random_stat...        0.745737   \n",
              "RandomForestClassifier(max_depth=3, random_stat...        0.749279   \n",
              "RandomForestClassifier(max_depth=4, random_stat...        0.761127   \n",
              "RandomForestClassifier(max_depth=5, random_stat...        0.766863   \n",
              "\n",
              "                                                    Test Accuracy  \n",
              "KNeighborsClassifier()                                   0.737746  \n",
              "KNeighborsClassifier(n_neighbors=50)                     0.759684  \n",
              "GaussianNB()                                             0.253729  \n",
              "LinearDiscriminantAnalysis()                             0.749028  \n",
              "LogisticRegression()                                     0.750282  \n",
              "DecisionTreeClassifier()                                 0.688855  \n",
              "RandomForestClassifier(max_depth=2, random_stat...       0.750157  \n",
              "RandomForestClassifier(max_depth=3, random_stat...       0.753416  \n",
              "RandomForestClassifier(max_depth=4, random_stat...       0.762818  \n",
              "RandomForestClassifier(max_depth=5, random_stat...       0.765451  "
            ],
            "text/html": [
              "\n",
              "  <div id=\"df-90c1d4f6-f5a9-4ff9-8800-8cd8ac95d910\">\n",
              "    <div class=\"colab-df-container\">\n",
              "      <div>\n",
              "<style scoped>\n",
              "    .dataframe tbody tr th:only-of-type {\n",
              "        vertical-align: middle;\n",
              "    }\n",
              "\n",
              "    .dataframe tbody tr th {\n",
              "        vertical-align: top;\n",
              "    }\n",
              "\n",
              "    .dataframe thead th {\n",
              "        text-align: right;\n",
              "    }\n",
              "</style>\n",
              "<table border=\"1\" class=\"dataframe\">\n",
              "  <thead>\n",
              "    <tr style=\"text-align: right;\">\n",
              "      <th></th>\n",
              "      <th>Train Accuracy</th>\n",
              "      <th>Test Accuracy</th>\n",
              "    </tr>\n",
              "  </thead>\n",
              "  <tbody>\n",
              "    <tr>\n",
              "      <th>KNeighborsClassifier()</th>\n",
              "      <td>0.814475</td>\n",
              "      <td>0.737746</td>\n",
              "    </tr>\n",
              "    <tr>\n",
              "      <th>KNeighborsClassifier(n_neighbors=50)</th>\n",
              "      <td>0.775922</td>\n",
              "      <td>0.759684</td>\n",
              "    </tr>\n",
              "    <tr>\n",
              "      <th>GaussianNB()</th>\n",
              "      <td>0.252131</td>\n",
              "      <td>0.253729</td>\n",
              "    </tr>\n",
              "    <tr>\n",
              "      <th>LinearDiscriminantAnalysis()</th>\n",
              "      <td>0.753699</td>\n",
              "      <td>0.749028</td>\n",
              "    </tr>\n",
              "    <tr>\n",
              "      <th>LogisticRegression()</th>\n",
              "      <td>0.754545</td>\n",
              "      <td>0.750282</td>\n",
              "    </tr>\n",
              "    <tr>\n",
              "      <th>DecisionTreeClassifier()</th>\n",
              "      <td>0.995737</td>\n",
              "      <td>0.688855</td>\n",
              "    </tr>\n",
              "    <tr>\n",
              "      <th>RandomForestClassifier(max_depth=2, random_state=0)</th>\n",
              "      <td>0.745737</td>\n",
              "      <td>0.750157</td>\n",
              "    </tr>\n",
              "    <tr>\n",
              "      <th>RandomForestClassifier(max_depth=3, random_state=0)</th>\n",
              "      <td>0.749279</td>\n",
              "      <td>0.753416</td>\n",
              "    </tr>\n",
              "    <tr>\n",
              "      <th>RandomForestClassifier(max_depth=4, random_state=0)</th>\n",
              "      <td>0.761127</td>\n",
              "      <td>0.762818</td>\n",
              "    </tr>\n",
              "    <tr>\n",
              "      <th>RandomForestClassifier(max_depth=5, random_state=0)</th>\n",
              "      <td>0.766863</td>\n",
              "      <td>0.765451</td>\n",
              "    </tr>\n",
              "  </tbody>\n",
              "</table>\n",
              "</div>\n",
              "      <button class=\"colab-df-convert\" onclick=\"convertToInteractive('df-90c1d4f6-f5a9-4ff9-8800-8cd8ac95d910')\"\n",
              "              title=\"Convert this dataframe to an interactive table.\"\n",
              "              style=\"display:none;\">\n",
              "        \n",
              "  <svg xmlns=\"http://www.w3.org/2000/svg\" height=\"24px\"viewBox=\"0 0 24 24\"\n",
              "       width=\"24px\">\n",
              "    <path d=\"M0 0h24v24H0V0z\" fill=\"none\"/>\n",
              "    <path d=\"M18.56 5.44l.94 2.06.94-2.06 2.06-.94-2.06-.94-.94-2.06-.94 2.06-2.06.94zm-11 1L8.5 8.5l.94-2.06 2.06-.94-2.06-.94L8.5 2.5l-.94 2.06-2.06.94zm10 10l.94 2.06.94-2.06 2.06-.94-2.06-.94-.94-2.06-.94 2.06-2.06.94z\"/><path d=\"M17.41 7.96l-1.37-1.37c-.4-.4-.92-.59-1.43-.59-.52 0-1.04.2-1.43.59L10.3 9.45l-7.72 7.72c-.78.78-.78 2.05 0 2.83L4 21.41c.39.39.9.59 1.41.59.51 0 1.02-.2 1.41-.59l7.78-7.78 2.81-2.81c.8-.78.8-2.07 0-2.86zM5.41 20L4 18.59l7.72-7.72 1.47 1.35L5.41 20z\"/>\n",
              "  </svg>\n",
              "      </button>\n",
              "      \n",
              "  <style>\n",
              "    .colab-df-container {\n",
              "      display:flex;\n",
              "      flex-wrap:wrap;\n",
              "      gap: 12px;\n",
              "    }\n",
              "\n",
              "    .colab-df-convert {\n",
              "      background-color: #E8F0FE;\n",
              "      border: none;\n",
              "      border-radius: 50%;\n",
              "      cursor: pointer;\n",
              "      display: none;\n",
              "      fill: #1967D2;\n",
              "      height: 32px;\n",
              "      padding: 0 0 0 0;\n",
              "      width: 32px;\n",
              "    }\n",
              "\n",
              "    .colab-df-convert:hover {\n",
              "      background-color: #E2EBFA;\n",
              "      box-shadow: 0px 1px 2px rgba(60, 64, 67, 0.3), 0px 1px 3px 1px rgba(60, 64, 67, 0.15);\n",
              "      fill: #174EA6;\n",
              "    }\n",
              "\n",
              "    [theme=dark] .colab-df-convert {\n",
              "      background-color: #3B4455;\n",
              "      fill: #D2E3FC;\n",
              "    }\n",
              "\n",
              "    [theme=dark] .colab-df-convert:hover {\n",
              "      background-color: #434B5C;\n",
              "      box-shadow: 0px 1px 3px 1px rgba(0, 0, 0, 0.15);\n",
              "      filter: drop-shadow(0px 1px 2px rgba(0, 0, 0, 0.3));\n",
              "      fill: #FFFFFF;\n",
              "    }\n",
              "  </style>\n",
              "\n",
              "      <script>\n",
              "        const buttonEl =\n",
              "          document.querySelector('#df-90c1d4f6-f5a9-4ff9-8800-8cd8ac95d910 button.colab-df-convert');\n",
              "        buttonEl.style.display =\n",
              "          google.colab.kernel.accessAllowed ? 'block' : 'none';\n",
              "\n",
              "        async function convertToInteractive(key) {\n",
              "          const element = document.querySelector('#df-90c1d4f6-f5a9-4ff9-8800-8cd8ac95d910');\n",
              "          const dataTable =\n",
              "            await google.colab.kernel.invokeFunction('convertToInteractive',\n",
              "                                                     [key], {});\n",
              "          if (!dataTable) return;\n",
              "\n",
              "          const docLinkHtml = 'Like what you see? Visit the ' +\n",
              "            '<a target=\"_blank\" href=https://colab.research.google.com/notebooks/data_table.ipynb>data table notebook</a>'\n",
              "            + ' to learn more about interactive tables.';\n",
              "          element.innerHTML = '';\n",
              "          dataTable['output_type'] = 'display_data';\n",
              "          await google.colab.output.renderOutput(dataTable, element);\n",
              "          const docLink = document.createElement('div');\n",
              "          docLink.innerHTML = docLinkHtml;\n",
              "          element.appendChild(docLink);\n",
              "        }\n",
              "      </script>\n",
              "    </div>\n",
              "  </div>\n",
              "  "
            ]
          },
          "metadata": {},
          "execution_count": 48
        }
      ]
    },
    {
      "cell_type": "markdown",
      "source": [
        "## Random Forest"
      ],
      "metadata": {
        "id": "YYOSKqmIypVD"
      }
    },
    {
      "cell_type": "code",
      "source": [
        "from sklearn.ensemble import RandomForestClassifier\n",
        "X=knn_df.drop('value_score',1)\n",
        "y=knn_df['value_score']\n",
        "for trial in range(10):\n",
        "  Xtrain, Xtest, ytrain, ytest = train_test_split(X,y, test_size=0.2, random_state=trial)  # <---random seed trial\n",
        "\n",
        "  clfs=[RandomForestClassifier(max_depth=n, random_state=0) for n in range(2,10)]\n",
        "\n",
        "  for clf in clfs:\n",
        "    clf.fit(Xtrain, ytrain)\n",
        "    ytrain_pred=clf.predict(Xtrain)\n",
        "    methodAndResults.loc[str(clf),'Train Accuracy']=accuracy_score(ytrain, ytrain_pred)\n",
        "    ytest_pred=clf.predict(Xtest)\n",
        "    methodAndResults.loc[str(clf),'Test Accuracy']=accuracy_score(ytest, ytest_pred)\n",
        "\n"
      ],
      "metadata": {
        "colab": {
          "base_uri": "https://localhost:8080/",
          "height": 435
        },
        "id": "JP6NV9FXyk0b",
        "outputId": "bbd5a2bb-767c-402f-b1a5-f0374bf5625c"
      },
      "execution_count": null,
      "outputs": [
        {
          "output_type": "stream",
          "name": "stderr",
          "text": [
            "<ipython-input-47-54120ec48d2c>:2: FutureWarning: In a future version of pandas all arguments of DataFrame.drop except for the argument 'labels' will be keyword-only\n",
            "  X=knn_df.drop('value_score',1)\n"
          ]
        },
        {
          "output_type": "error",
          "ename": "KeyboardInterrupt",
          "evalue": "ignored",
          "traceback": [
            "\u001b[0;31m---------------------------------------------------------------------------\u001b[0m",
            "\u001b[0;31mKeyboardInterrupt\u001b[0m                         Traceback (most recent call last)",
            "\u001b[0;32m<ipython-input-47-54120ec48d2c>\u001b[0m in \u001b[0;36m<module>\u001b[0;34m\u001b[0m\n\u001b[1;32m      8\u001b[0m \u001b[0;34m\u001b[0m\u001b[0m\n\u001b[1;32m      9\u001b[0m   \u001b[0;32mfor\u001b[0m \u001b[0mclf\u001b[0m \u001b[0;32min\u001b[0m \u001b[0mclfs\u001b[0m\u001b[0;34m:\u001b[0m\u001b[0;34m\u001b[0m\u001b[0;34m\u001b[0m\u001b[0m\n\u001b[0;32m---> 10\u001b[0;31m     \u001b[0mclf\u001b[0m\u001b[0;34m.\u001b[0m\u001b[0mfit\u001b[0m\u001b[0;34m(\u001b[0m\u001b[0mXtrain\u001b[0m\u001b[0;34m,\u001b[0m \u001b[0mytrain\u001b[0m\u001b[0;34m)\u001b[0m\u001b[0;34m\u001b[0m\u001b[0;34m\u001b[0m\u001b[0m\n\u001b[0m\u001b[1;32m     11\u001b[0m     \u001b[0mytrain_pred\u001b[0m\u001b[0;34m=\u001b[0m\u001b[0mclf\u001b[0m\u001b[0;34m.\u001b[0m\u001b[0mpredict\u001b[0m\u001b[0;34m(\u001b[0m\u001b[0mXtrain\u001b[0m\u001b[0;34m)\u001b[0m\u001b[0;34m\u001b[0m\u001b[0;34m\u001b[0m\u001b[0m\n\u001b[1;32m     12\u001b[0m     \u001b[0mmethodAndResults\u001b[0m\u001b[0;34m.\u001b[0m\u001b[0mloc\u001b[0m\u001b[0;34m[\u001b[0m\u001b[0mstr\u001b[0m\u001b[0;34m(\u001b[0m\u001b[0mclf\u001b[0m\u001b[0;34m)\u001b[0m\u001b[0;34m,\u001b[0m\u001b[0;34m'Train Accuracy'\u001b[0m\u001b[0;34m]\u001b[0m\u001b[0;34m=\u001b[0m\u001b[0maccuracy_score\u001b[0m\u001b[0;34m(\u001b[0m\u001b[0mytrain\u001b[0m\u001b[0;34m,\u001b[0m \u001b[0mytrain_pred\u001b[0m\u001b[0;34m)\u001b[0m\u001b[0;34m\u001b[0m\u001b[0;34m\u001b[0m\u001b[0m\n",
            "\u001b[0;32m/usr/local/lib/python3.8/dist-packages/sklearn/ensemble/_forest.py\u001b[0m in \u001b[0;36mfit\u001b[0;34m(self, X, y, sample_weight)\u001b[0m\n\u001b[1;32m    448\u001b[0m             \u001b[0;31m# parallel_backend contexts set at a higher level,\u001b[0m\u001b[0;34m\u001b[0m\u001b[0;34m\u001b[0m\u001b[0;34m\u001b[0m\u001b[0m\n\u001b[1;32m    449\u001b[0m             \u001b[0;31m# since correctness does not rely on using threads.\u001b[0m\u001b[0;34m\u001b[0m\u001b[0;34m\u001b[0m\u001b[0;34m\u001b[0m\u001b[0m\n\u001b[0;32m--> 450\u001b[0;31m             trees = Parallel(\n\u001b[0m\u001b[1;32m    451\u001b[0m                 \u001b[0mn_jobs\u001b[0m\u001b[0;34m=\u001b[0m\u001b[0mself\u001b[0m\u001b[0;34m.\u001b[0m\u001b[0mn_jobs\u001b[0m\u001b[0;34m,\u001b[0m\u001b[0;34m\u001b[0m\u001b[0;34m\u001b[0m\u001b[0m\n\u001b[1;32m    452\u001b[0m                 \u001b[0mverbose\u001b[0m\u001b[0;34m=\u001b[0m\u001b[0mself\u001b[0m\u001b[0;34m.\u001b[0m\u001b[0mverbose\u001b[0m\u001b[0;34m,\u001b[0m\u001b[0;34m\u001b[0m\u001b[0;34m\u001b[0m\u001b[0m\n",
            "\u001b[0;32m/usr/local/lib/python3.8/dist-packages/joblib/parallel.py\u001b[0m in \u001b[0;36m__call__\u001b[0;34m(self, iterable)\u001b[0m\n\u001b[1;32m   1086\u001b[0m                 \u001b[0mself\u001b[0m\u001b[0;34m.\u001b[0m\u001b[0m_iterating\u001b[0m \u001b[0;34m=\u001b[0m \u001b[0mself\u001b[0m\u001b[0;34m.\u001b[0m\u001b[0m_original_iterator\u001b[0m \u001b[0;32mis\u001b[0m \u001b[0;32mnot\u001b[0m \u001b[0;32mNone\u001b[0m\u001b[0;34m\u001b[0m\u001b[0;34m\u001b[0m\u001b[0m\n\u001b[1;32m   1087\u001b[0m \u001b[0;34m\u001b[0m\u001b[0m\n\u001b[0;32m-> 1088\u001b[0;31m             \u001b[0;32mwhile\u001b[0m \u001b[0mself\u001b[0m\u001b[0;34m.\u001b[0m\u001b[0mdispatch_one_batch\u001b[0m\u001b[0;34m(\u001b[0m\u001b[0miterator\u001b[0m\u001b[0;34m)\u001b[0m\u001b[0;34m:\u001b[0m\u001b[0;34m\u001b[0m\u001b[0;34m\u001b[0m\u001b[0m\n\u001b[0m\u001b[1;32m   1089\u001b[0m                 \u001b[0;32mpass\u001b[0m\u001b[0;34m\u001b[0m\u001b[0;34m\u001b[0m\u001b[0m\n\u001b[1;32m   1090\u001b[0m \u001b[0;34m\u001b[0m\u001b[0m\n",
            "\u001b[0;32m/usr/local/lib/python3.8/dist-packages/joblib/parallel.py\u001b[0m in \u001b[0;36mdispatch_one_batch\u001b[0;34m(self, iterator)\u001b[0m\n\u001b[1;32m    899\u001b[0m                 \u001b[0;32mreturn\u001b[0m \u001b[0;32mFalse\u001b[0m\u001b[0;34m\u001b[0m\u001b[0;34m\u001b[0m\u001b[0m\n\u001b[1;32m    900\u001b[0m             \u001b[0;32melse\u001b[0m\u001b[0;34m:\u001b[0m\u001b[0;34m\u001b[0m\u001b[0;34m\u001b[0m\u001b[0m\n\u001b[0;32m--> 901\u001b[0;31m                 \u001b[0mself\u001b[0m\u001b[0;34m.\u001b[0m\u001b[0m_dispatch\u001b[0m\u001b[0;34m(\u001b[0m\u001b[0mtasks\u001b[0m\u001b[0;34m)\u001b[0m\u001b[0;34m\u001b[0m\u001b[0;34m\u001b[0m\u001b[0m\n\u001b[0m\u001b[1;32m    902\u001b[0m                 \u001b[0;32mreturn\u001b[0m \u001b[0;32mTrue\u001b[0m\u001b[0;34m\u001b[0m\u001b[0;34m\u001b[0m\u001b[0m\n\u001b[1;32m    903\u001b[0m \u001b[0;34m\u001b[0m\u001b[0m\n",
            "\u001b[0;32m/usr/local/lib/python3.8/dist-packages/joblib/parallel.py\u001b[0m in \u001b[0;36m_dispatch\u001b[0;34m(self, batch)\u001b[0m\n\u001b[1;32m    817\u001b[0m         \u001b[0;32mwith\u001b[0m \u001b[0mself\u001b[0m\u001b[0;34m.\u001b[0m\u001b[0m_lock\u001b[0m\u001b[0;34m:\u001b[0m\u001b[0;34m\u001b[0m\u001b[0;34m\u001b[0m\u001b[0m\n\u001b[1;32m    818\u001b[0m             \u001b[0mjob_idx\u001b[0m \u001b[0;34m=\u001b[0m \u001b[0mlen\u001b[0m\u001b[0;34m(\u001b[0m\u001b[0mself\u001b[0m\u001b[0;34m.\u001b[0m\u001b[0m_jobs\u001b[0m\u001b[0;34m)\u001b[0m\u001b[0;34m\u001b[0m\u001b[0;34m\u001b[0m\u001b[0m\n\u001b[0;32m--> 819\u001b[0;31m             \u001b[0mjob\u001b[0m \u001b[0;34m=\u001b[0m \u001b[0mself\u001b[0m\u001b[0;34m.\u001b[0m\u001b[0m_backend\u001b[0m\u001b[0;34m.\u001b[0m\u001b[0mapply_async\u001b[0m\u001b[0;34m(\u001b[0m\u001b[0mbatch\u001b[0m\u001b[0;34m,\u001b[0m \u001b[0mcallback\u001b[0m\u001b[0;34m=\u001b[0m\u001b[0mcb\u001b[0m\u001b[0;34m)\u001b[0m\u001b[0;34m\u001b[0m\u001b[0;34m\u001b[0m\u001b[0m\n\u001b[0m\u001b[1;32m    820\u001b[0m             \u001b[0;31m# A job can complete so quickly than its callback is\u001b[0m\u001b[0;34m\u001b[0m\u001b[0;34m\u001b[0m\u001b[0;34m\u001b[0m\u001b[0m\n\u001b[1;32m    821\u001b[0m             \u001b[0;31m# called before we get here, causing self._jobs to\u001b[0m\u001b[0;34m\u001b[0m\u001b[0;34m\u001b[0m\u001b[0;34m\u001b[0m\u001b[0m\n",
            "\u001b[0;32m/usr/local/lib/python3.8/dist-packages/joblib/_parallel_backends.py\u001b[0m in \u001b[0;36mapply_async\u001b[0;34m(self, func, callback)\u001b[0m\n\u001b[1;32m    206\u001b[0m     \u001b[0;32mdef\u001b[0m \u001b[0mapply_async\u001b[0m\u001b[0;34m(\u001b[0m\u001b[0mself\u001b[0m\u001b[0;34m,\u001b[0m \u001b[0mfunc\u001b[0m\u001b[0;34m,\u001b[0m \u001b[0mcallback\u001b[0m\u001b[0;34m=\u001b[0m\u001b[0;32mNone\u001b[0m\u001b[0;34m)\u001b[0m\u001b[0;34m:\u001b[0m\u001b[0;34m\u001b[0m\u001b[0;34m\u001b[0m\u001b[0m\n\u001b[1;32m    207\u001b[0m         \u001b[0;34m\"\"\"Schedule a func to be run\"\"\"\u001b[0m\u001b[0;34m\u001b[0m\u001b[0;34m\u001b[0m\u001b[0m\n\u001b[0;32m--> 208\u001b[0;31m         \u001b[0mresult\u001b[0m \u001b[0;34m=\u001b[0m \u001b[0mImmediateResult\u001b[0m\u001b[0;34m(\u001b[0m\u001b[0mfunc\u001b[0m\u001b[0;34m)\u001b[0m\u001b[0;34m\u001b[0m\u001b[0;34m\u001b[0m\u001b[0m\n\u001b[0m\u001b[1;32m    209\u001b[0m         \u001b[0;32mif\u001b[0m \u001b[0mcallback\u001b[0m\u001b[0;34m:\u001b[0m\u001b[0;34m\u001b[0m\u001b[0;34m\u001b[0m\u001b[0m\n\u001b[1;32m    210\u001b[0m             \u001b[0mcallback\u001b[0m\u001b[0;34m(\u001b[0m\u001b[0mresult\u001b[0m\u001b[0;34m)\u001b[0m\u001b[0;34m\u001b[0m\u001b[0;34m\u001b[0m\u001b[0m\n",
            "\u001b[0;32m/usr/local/lib/python3.8/dist-packages/joblib/_parallel_backends.py\u001b[0m in \u001b[0;36m__init__\u001b[0;34m(self, batch)\u001b[0m\n\u001b[1;32m    595\u001b[0m         \u001b[0;31m# Don't delay the application, to avoid keeping the input\u001b[0m\u001b[0;34m\u001b[0m\u001b[0;34m\u001b[0m\u001b[0;34m\u001b[0m\u001b[0m\n\u001b[1;32m    596\u001b[0m         \u001b[0;31m# arguments in memory\u001b[0m\u001b[0;34m\u001b[0m\u001b[0;34m\u001b[0m\u001b[0;34m\u001b[0m\u001b[0m\n\u001b[0;32m--> 597\u001b[0;31m         \u001b[0mself\u001b[0m\u001b[0;34m.\u001b[0m\u001b[0mresults\u001b[0m \u001b[0;34m=\u001b[0m \u001b[0mbatch\u001b[0m\u001b[0;34m(\u001b[0m\u001b[0;34m)\u001b[0m\u001b[0;34m\u001b[0m\u001b[0;34m\u001b[0m\u001b[0m\n\u001b[0m\u001b[1;32m    598\u001b[0m \u001b[0;34m\u001b[0m\u001b[0m\n\u001b[1;32m    599\u001b[0m     \u001b[0;32mdef\u001b[0m \u001b[0mget\u001b[0m\u001b[0;34m(\u001b[0m\u001b[0mself\u001b[0m\u001b[0;34m)\u001b[0m\u001b[0;34m:\u001b[0m\u001b[0;34m\u001b[0m\u001b[0;34m\u001b[0m\u001b[0m\n",
            "\u001b[0;32m/usr/local/lib/python3.8/dist-packages/joblib/parallel.py\u001b[0m in \u001b[0;36m__call__\u001b[0;34m(self)\u001b[0m\n\u001b[1;32m    286\u001b[0m         \u001b[0;31m# change the default number of processes to -1\u001b[0m\u001b[0;34m\u001b[0m\u001b[0;34m\u001b[0m\u001b[0;34m\u001b[0m\u001b[0m\n\u001b[1;32m    287\u001b[0m         \u001b[0;32mwith\u001b[0m \u001b[0mparallel_backend\u001b[0m\u001b[0;34m(\u001b[0m\u001b[0mself\u001b[0m\u001b[0;34m.\u001b[0m\u001b[0m_backend\u001b[0m\u001b[0;34m,\u001b[0m \u001b[0mn_jobs\u001b[0m\u001b[0;34m=\u001b[0m\u001b[0mself\u001b[0m\u001b[0;34m.\u001b[0m\u001b[0m_n_jobs\u001b[0m\u001b[0;34m)\u001b[0m\u001b[0;34m:\u001b[0m\u001b[0;34m\u001b[0m\u001b[0;34m\u001b[0m\u001b[0m\n\u001b[0;32m--> 288\u001b[0;31m             return [func(*args, **kwargs)\n\u001b[0m\u001b[1;32m    289\u001b[0m                     for func, args, kwargs in self.items]\n\u001b[1;32m    290\u001b[0m \u001b[0;34m\u001b[0m\u001b[0m\n",
            "\u001b[0;32m/usr/local/lib/python3.8/dist-packages/joblib/parallel.py\u001b[0m in \u001b[0;36m<listcomp>\u001b[0;34m(.0)\u001b[0m\n\u001b[1;32m    286\u001b[0m         \u001b[0;31m# change the default number of processes to -1\u001b[0m\u001b[0;34m\u001b[0m\u001b[0;34m\u001b[0m\u001b[0;34m\u001b[0m\u001b[0m\n\u001b[1;32m    287\u001b[0m         \u001b[0;32mwith\u001b[0m \u001b[0mparallel_backend\u001b[0m\u001b[0;34m(\u001b[0m\u001b[0mself\u001b[0m\u001b[0;34m.\u001b[0m\u001b[0m_backend\u001b[0m\u001b[0;34m,\u001b[0m \u001b[0mn_jobs\u001b[0m\u001b[0;34m=\u001b[0m\u001b[0mself\u001b[0m\u001b[0;34m.\u001b[0m\u001b[0m_n_jobs\u001b[0m\u001b[0;34m)\u001b[0m\u001b[0;34m:\u001b[0m\u001b[0;34m\u001b[0m\u001b[0;34m\u001b[0m\u001b[0m\n\u001b[0;32m--> 288\u001b[0;31m             return [func(*args, **kwargs)\n\u001b[0m\u001b[1;32m    289\u001b[0m                     for func, args, kwargs in self.items]\n\u001b[1;32m    290\u001b[0m \u001b[0;34m\u001b[0m\u001b[0m\n",
            "\u001b[0;32m/usr/local/lib/python3.8/dist-packages/sklearn/utils/fixes.py\u001b[0m in \u001b[0;36m__call__\u001b[0;34m(self, *args, **kwargs)\u001b[0m\n\u001b[1;32m    214\u001b[0m     \u001b[0;32mdef\u001b[0m \u001b[0m__call__\u001b[0m\u001b[0;34m(\u001b[0m\u001b[0mself\u001b[0m\u001b[0;34m,\u001b[0m \u001b[0;34m*\u001b[0m\u001b[0margs\u001b[0m\u001b[0;34m,\u001b[0m \u001b[0;34m**\u001b[0m\u001b[0mkwargs\u001b[0m\u001b[0;34m)\u001b[0m\u001b[0;34m:\u001b[0m\u001b[0;34m\u001b[0m\u001b[0;34m\u001b[0m\u001b[0m\n\u001b[1;32m    215\u001b[0m         \u001b[0;32mwith\u001b[0m \u001b[0mconfig_context\u001b[0m\u001b[0;34m(\u001b[0m\u001b[0;34m**\u001b[0m\u001b[0mself\u001b[0m\u001b[0;34m.\u001b[0m\u001b[0mconfig\u001b[0m\u001b[0;34m)\u001b[0m\u001b[0;34m:\u001b[0m\u001b[0;34m\u001b[0m\u001b[0;34m\u001b[0m\u001b[0m\n\u001b[0;32m--> 216\u001b[0;31m             \u001b[0;32mreturn\u001b[0m \u001b[0mself\u001b[0m\u001b[0;34m.\u001b[0m\u001b[0mfunction\u001b[0m\u001b[0;34m(\u001b[0m\u001b[0;34m*\u001b[0m\u001b[0margs\u001b[0m\u001b[0;34m,\u001b[0m \u001b[0;34m**\u001b[0m\u001b[0mkwargs\u001b[0m\u001b[0;34m)\u001b[0m\u001b[0;34m\u001b[0m\u001b[0;34m\u001b[0m\u001b[0m\n\u001b[0m\u001b[1;32m    217\u001b[0m \u001b[0;34m\u001b[0m\u001b[0m\n\u001b[1;32m    218\u001b[0m \u001b[0;34m\u001b[0m\u001b[0m\n",
            "\u001b[0;32m/usr/local/lib/python3.8/dist-packages/sklearn/ensemble/_forest.py\u001b[0m in \u001b[0;36m_parallel_build_trees\u001b[0;34m(tree, forest, X, y, sample_weight, tree_idx, n_trees, verbose, class_weight, n_samples_bootstrap)\u001b[0m\n\u001b[1;32m    183\u001b[0m             \u001b[0mcurr_sample_weight\u001b[0m \u001b[0;34m*=\u001b[0m \u001b[0mcompute_sample_weight\u001b[0m\u001b[0;34m(\u001b[0m\u001b[0;34m\"balanced\"\u001b[0m\u001b[0;34m,\u001b[0m \u001b[0my\u001b[0m\u001b[0;34m,\u001b[0m \u001b[0mindices\u001b[0m\u001b[0;34m=\u001b[0m\u001b[0mindices\u001b[0m\u001b[0;34m)\u001b[0m\u001b[0;34m\u001b[0m\u001b[0;34m\u001b[0m\u001b[0m\n\u001b[1;32m    184\u001b[0m \u001b[0;34m\u001b[0m\u001b[0m\n\u001b[0;32m--> 185\u001b[0;31m         \u001b[0mtree\u001b[0m\u001b[0;34m.\u001b[0m\u001b[0mfit\u001b[0m\u001b[0;34m(\u001b[0m\u001b[0mX\u001b[0m\u001b[0;34m,\u001b[0m \u001b[0my\u001b[0m\u001b[0;34m,\u001b[0m \u001b[0msample_weight\u001b[0m\u001b[0;34m=\u001b[0m\u001b[0mcurr_sample_weight\u001b[0m\u001b[0;34m,\u001b[0m \u001b[0mcheck_input\u001b[0m\u001b[0;34m=\u001b[0m\u001b[0;32mFalse\u001b[0m\u001b[0;34m)\u001b[0m\u001b[0;34m\u001b[0m\u001b[0;34m\u001b[0m\u001b[0m\n\u001b[0m\u001b[1;32m    186\u001b[0m     \u001b[0;32melse\u001b[0m\u001b[0;34m:\u001b[0m\u001b[0;34m\u001b[0m\u001b[0;34m\u001b[0m\u001b[0m\n\u001b[1;32m    187\u001b[0m         \u001b[0mtree\u001b[0m\u001b[0;34m.\u001b[0m\u001b[0mfit\u001b[0m\u001b[0;34m(\u001b[0m\u001b[0mX\u001b[0m\u001b[0;34m,\u001b[0m \u001b[0my\u001b[0m\u001b[0;34m,\u001b[0m \u001b[0msample_weight\u001b[0m\u001b[0;34m=\u001b[0m\u001b[0msample_weight\u001b[0m\u001b[0;34m,\u001b[0m \u001b[0mcheck_input\u001b[0m\u001b[0;34m=\u001b[0m\u001b[0;32mFalse\u001b[0m\u001b[0;34m)\u001b[0m\u001b[0;34m\u001b[0m\u001b[0;34m\u001b[0m\u001b[0m\n",
            "\u001b[0;32m/usr/local/lib/python3.8/dist-packages/sklearn/tree/_classes.py\u001b[0m in \u001b[0;36mfit\u001b[0;34m(self, X, y, sample_weight, check_input, X_idx_sorted)\u001b[0m\n\u001b[1;32m    935\u001b[0m         \"\"\"\n\u001b[1;32m    936\u001b[0m \u001b[0;34m\u001b[0m\u001b[0m\n\u001b[0;32m--> 937\u001b[0;31m         super().fit(\n\u001b[0m\u001b[1;32m    938\u001b[0m             \u001b[0mX\u001b[0m\u001b[0;34m,\u001b[0m\u001b[0;34m\u001b[0m\u001b[0;34m\u001b[0m\u001b[0m\n\u001b[1;32m    939\u001b[0m             \u001b[0my\u001b[0m\u001b[0;34m,\u001b[0m\u001b[0;34m\u001b[0m\u001b[0;34m\u001b[0m\u001b[0m\n",
            "\u001b[0;32m/usr/local/lib/python3.8/dist-packages/sklearn/tree/_classes.py\u001b[0m in \u001b[0;36mfit\u001b[0;34m(self, X, y, sample_weight, check_input, X_idx_sorted)\u001b[0m\n\u001b[1;32m    418\u001b[0m             )\n\u001b[1;32m    419\u001b[0m \u001b[0;34m\u001b[0m\u001b[0m\n\u001b[0;32m--> 420\u001b[0;31m         \u001b[0mbuilder\u001b[0m\u001b[0;34m.\u001b[0m\u001b[0mbuild\u001b[0m\u001b[0;34m(\u001b[0m\u001b[0mself\u001b[0m\u001b[0;34m.\u001b[0m\u001b[0mtree_\u001b[0m\u001b[0;34m,\u001b[0m \u001b[0mX\u001b[0m\u001b[0;34m,\u001b[0m \u001b[0my\u001b[0m\u001b[0;34m,\u001b[0m \u001b[0msample_weight\u001b[0m\u001b[0;34m)\u001b[0m\u001b[0;34m\u001b[0m\u001b[0;34m\u001b[0m\u001b[0m\n\u001b[0m\u001b[1;32m    421\u001b[0m \u001b[0;34m\u001b[0m\u001b[0m\n\u001b[1;32m    422\u001b[0m         \u001b[0;32mif\u001b[0m \u001b[0mself\u001b[0m\u001b[0;34m.\u001b[0m\u001b[0mn_outputs_\u001b[0m \u001b[0;34m==\u001b[0m \u001b[0;36m1\u001b[0m \u001b[0;32mand\u001b[0m \u001b[0mis_classifier\u001b[0m\u001b[0;34m(\u001b[0m\u001b[0mself\u001b[0m\u001b[0;34m)\u001b[0m\u001b[0;34m:\u001b[0m\u001b[0;34m\u001b[0m\u001b[0;34m\u001b[0m\u001b[0m\n",
            "\u001b[0;31mKeyboardInterrupt\u001b[0m: "
          ]
        }
      ]
    },
    {
      "cell_type": "code",
      "source": [
        "methodAndResults"
      ],
      "metadata": {
        "colab": {
          "base_uri": "https://localhost:8080/",
          "height": 363
        },
        "id": "7wvy1-IV06T8",
        "outputId": "3c642fb0-9d56-49ec-e4d4-7233dd6ce431"
      },
      "execution_count": null,
      "outputs": [
        {
          "output_type": "execute_result",
          "data": {
            "text/plain": [
              "                                                    Train Accuracy  \\\n",
              "KNeighborsClassifier()                                    0.814475   \n",
              "KNeighborsClassifier(n_neighbors=50)                      0.775922   \n",
              "GaussianNB()                                              0.252131   \n",
              "LinearDiscriminantAnalysis()                              0.753699   \n",
              "LogisticRegression()                                      0.754545   \n",
              "DecisionTreeClassifier()                                  0.995737   \n",
              "RandomForestClassifier(max_depth=2, random_stat...        0.745737   \n",
              "RandomForestClassifier(max_depth=3, random_stat...        0.749279   \n",
              "RandomForestClassifier(max_depth=4, random_stat...        0.761127   \n",
              "RandomForestClassifier(max_depth=5, random_stat...        0.766863   \n",
              "\n",
              "                                                    Test Accuracy  \n",
              "KNeighborsClassifier()                                   0.737746  \n",
              "KNeighborsClassifier(n_neighbors=50)                     0.759684  \n",
              "GaussianNB()                                             0.253729  \n",
              "LinearDiscriminantAnalysis()                             0.749028  \n",
              "LogisticRegression()                                     0.750282  \n",
              "DecisionTreeClassifier()                                 0.688855  \n",
              "RandomForestClassifier(max_depth=2, random_stat...       0.750157  \n",
              "RandomForestClassifier(max_depth=3, random_stat...       0.753416  \n",
              "RandomForestClassifier(max_depth=4, random_stat...       0.762818  \n",
              "RandomForestClassifier(max_depth=5, random_stat...       0.765451  "
            ],
            "text/html": [
              "\n",
              "  <div id=\"df-1c37e0dd-58a5-44aa-b510-82ae7d55cb78\">\n",
              "    <div class=\"colab-df-container\">\n",
              "      <div>\n",
              "<style scoped>\n",
              "    .dataframe tbody tr th:only-of-type {\n",
              "        vertical-align: middle;\n",
              "    }\n",
              "\n",
              "    .dataframe tbody tr th {\n",
              "        vertical-align: top;\n",
              "    }\n",
              "\n",
              "    .dataframe thead th {\n",
              "        text-align: right;\n",
              "    }\n",
              "</style>\n",
              "<table border=\"1\" class=\"dataframe\">\n",
              "  <thead>\n",
              "    <tr style=\"text-align: right;\">\n",
              "      <th></th>\n",
              "      <th>Train Accuracy</th>\n",
              "      <th>Test Accuracy</th>\n",
              "    </tr>\n",
              "  </thead>\n",
              "  <tbody>\n",
              "    <tr>\n",
              "      <th>KNeighborsClassifier()</th>\n",
              "      <td>0.814475</td>\n",
              "      <td>0.737746</td>\n",
              "    </tr>\n",
              "    <tr>\n",
              "      <th>KNeighborsClassifier(n_neighbors=50)</th>\n",
              "      <td>0.775922</td>\n",
              "      <td>0.759684</td>\n",
              "    </tr>\n",
              "    <tr>\n",
              "      <th>GaussianNB()</th>\n",
              "      <td>0.252131</td>\n",
              "      <td>0.253729</td>\n",
              "    </tr>\n",
              "    <tr>\n",
              "      <th>LinearDiscriminantAnalysis()</th>\n",
              "      <td>0.753699</td>\n",
              "      <td>0.749028</td>\n",
              "    </tr>\n",
              "    <tr>\n",
              "      <th>LogisticRegression()</th>\n",
              "      <td>0.754545</td>\n",
              "      <td>0.750282</td>\n",
              "    </tr>\n",
              "    <tr>\n",
              "      <th>DecisionTreeClassifier()</th>\n",
              "      <td>0.995737</td>\n",
              "      <td>0.688855</td>\n",
              "    </tr>\n",
              "    <tr>\n",
              "      <th>RandomForestClassifier(max_depth=2, random_state=0)</th>\n",
              "      <td>0.745737</td>\n",
              "      <td>0.750157</td>\n",
              "    </tr>\n",
              "    <tr>\n",
              "      <th>RandomForestClassifier(max_depth=3, random_state=0)</th>\n",
              "      <td>0.749279</td>\n",
              "      <td>0.753416</td>\n",
              "    </tr>\n",
              "    <tr>\n",
              "      <th>RandomForestClassifier(max_depth=4, random_state=0)</th>\n",
              "      <td>0.761127</td>\n",
              "      <td>0.762818</td>\n",
              "    </tr>\n",
              "    <tr>\n",
              "      <th>RandomForestClassifier(max_depth=5, random_state=0)</th>\n",
              "      <td>0.766863</td>\n",
              "      <td>0.765451</td>\n",
              "    </tr>\n",
              "  </tbody>\n",
              "</table>\n",
              "</div>\n",
              "      <button class=\"colab-df-convert\" onclick=\"convertToInteractive('df-1c37e0dd-58a5-44aa-b510-82ae7d55cb78')\"\n",
              "              title=\"Convert this dataframe to an interactive table.\"\n",
              "              style=\"display:none;\">\n",
              "        \n",
              "  <svg xmlns=\"http://www.w3.org/2000/svg\" height=\"24px\"viewBox=\"0 0 24 24\"\n",
              "       width=\"24px\">\n",
              "    <path d=\"M0 0h24v24H0V0z\" fill=\"none\"/>\n",
              "    <path d=\"M18.56 5.44l.94 2.06.94-2.06 2.06-.94-2.06-.94-.94-2.06-.94 2.06-2.06.94zm-11 1L8.5 8.5l.94-2.06 2.06-.94-2.06-.94L8.5 2.5l-.94 2.06-2.06.94zm10 10l.94 2.06.94-2.06 2.06-.94-2.06-.94-.94-2.06-.94 2.06-2.06.94z\"/><path d=\"M17.41 7.96l-1.37-1.37c-.4-.4-.92-.59-1.43-.59-.52 0-1.04.2-1.43.59L10.3 9.45l-7.72 7.72c-.78.78-.78 2.05 0 2.83L4 21.41c.39.39.9.59 1.41.59.51 0 1.02-.2 1.41-.59l7.78-7.78 2.81-2.81c.8-.78.8-2.07 0-2.86zM5.41 20L4 18.59l7.72-7.72 1.47 1.35L5.41 20z\"/>\n",
              "  </svg>\n",
              "      </button>\n",
              "      \n",
              "  <style>\n",
              "    .colab-df-container {\n",
              "      display:flex;\n",
              "      flex-wrap:wrap;\n",
              "      gap: 12px;\n",
              "    }\n",
              "\n",
              "    .colab-df-convert {\n",
              "      background-color: #E8F0FE;\n",
              "      border: none;\n",
              "      border-radius: 50%;\n",
              "      cursor: pointer;\n",
              "      display: none;\n",
              "      fill: #1967D2;\n",
              "      height: 32px;\n",
              "      padding: 0 0 0 0;\n",
              "      width: 32px;\n",
              "    }\n",
              "\n",
              "    .colab-df-convert:hover {\n",
              "      background-color: #E2EBFA;\n",
              "      box-shadow: 0px 1px 2px rgba(60, 64, 67, 0.3), 0px 1px 3px 1px rgba(60, 64, 67, 0.15);\n",
              "      fill: #174EA6;\n",
              "    }\n",
              "\n",
              "    [theme=dark] .colab-df-convert {\n",
              "      background-color: #3B4455;\n",
              "      fill: #D2E3FC;\n",
              "    }\n",
              "\n",
              "    [theme=dark] .colab-df-convert:hover {\n",
              "      background-color: #434B5C;\n",
              "      box-shadow: 0px 1px 3px 1px rgba(0, 0, 0, 0.15);\n",
              "      filter: drop-shadow(0px 1px 2px rgba(0, 0, 0, 0.3));\n",
              "      fill: #FFFFFF;\n",
              "    }\n",
              "  </style>\n",
              "\n",
              "      <script>\n",
              "        const buttonEl =\n",
              "          document.querySelector('#df-1c37e0dd-58a5-44aa-b510-82ae7d55cb78 button.colab-df-convert');\n",
              "        buttonEl.style.display =\n",
              "          google.colab.kernel.accessAllowed ? 'block' : 'none';\n",
              "\n",
              "        async function convertToInteractive(key) {\n",
              "          const element = document.querySelector('#df-1c37e0dd-58a5-44aa-b510-82ae7d55cb78');\n",
              "          const dataTable =\n",
              "            await google.colab.kernel.invokeFunction('convertToInteractive',\n",
              "                                                     [key], {});\n",
              "          if (!dataTable) return;\n",
              "\n",
              "          const docLinkHtml = 'Like what you see? Visit the ' +\n",
              "            '<a target=\"_blank\" href=https://colab.research.google.com/notebooks/data_table.ipynb>data table notebook</a>'\n",
              "            + ' to learn more about interactive tables.';\n",
              "          element.innerHTML = '';\n",
              "          dataTable['output_type'] = 'display_data';\n",
              "          await google.colab.output.renderOutput(dataTable, element);\n",
              "          const docLink = document.createElement('div');\n",
              "          docLink.innerHTML = docLinkHtml;\n",
              "          element.appendChild(docLink);\n",
              "        }\n",
              "      </script>\n",
              "    </div>\n",
              "  </div>\n",
              "  "
            ]
          },
          "metadata": {},
          "execution_count": 53
        }
      ]
    },
    {
      "cell_type": "markdown",
      "source": [
        "# Ridge and Lasso Linear Regression "
      ],
      "metadata": {
        "id": "dXCntrg3DoU1"
      }
    },
    {
      "cell_type": "code",
      "source": [
        "# Set of features names\n",
        "fnames = set()\n",
        "advanced_reg_df = decompressed_df.copy()\n",
        "# Top most frequent neighborhoods\n",
        "for n in advanced_reg_df.neighbourhood_cleansed.value_counts().head(20).index:\n",
        "    advanced_reg_df[n]= advanced_reg_df.neighbourhood_cleansed==n\n",
        "    fnames.add(n)\n",
        "# Bottom least frequent neighborhoods\n",
        "for n in advanced_reg_df.neighbourhood_cleansed.value_counts().tail(20).index:\n",
        "    advanced_reg_df[n]= advanced_reg_df.property_type==n\n",
        "    fnames.add(n)\n",
        "# Boroughs\n",
        "for n in advanced_reg_df.neighbourhood_group_cleansed.value_counts().tail(20).index:\n",
        "    advanced_reg_df[n]= advanced_reg_df.property_type==n\n",
        "    fnames.add(n)\n",
        "# Property type\n",
        "for n in advanced_reg_df.property_type.value_counts().index:\n",
        "    advanced_reg_df[n]= advanced_reg_df.property_type==n\n",
        "    fnames.add(n)\n",
        "# Room type\n",
        "for n in advanced_reg_df.room_type.value_counts().index:\n",
        "    advanced_reg_df[n]= advanced_reg_df.room_type==n\n",
        "    fnames.add(n)\n",
        "# Number of amenities\n",
        "advanced_reg_df['num_of_amenities'] = advanced_reg_df['amenities'].apply(len)\n",
        "fnames.add('num_of_amenities')\n",
        "\n",
        "# Important amenities\n",
        "advanced_reg_df['wifi']=advanced_reg_df['amenities'].map(lambda s:s.lower().find('wifi')!=-1)\n",
        "fnames.add('wifi')\n",
        "advanced_reg_df['tv']=advanced_reg_df['amenities'].map(lambda s:s.lower().find('tv')!=-1)\n",
        "fnames.add('tv')\n",
        "advanced_reg_df['dryer']=advanced_reg_df['amenities'].map(lambda s:s.lower().find('dryer')!=-1)\n",
        "fnames.add('dryer')\n",
        "advanced_reg_df['washer']=advanced_reg_df['amenities'].map(lambda s:s.lower().find('washer')!=-1)\n",
        "fnames.add('washer')\n",
        "\n",
        "# Superhost\n",
        "advanced_reg_df['host_is_superhost'] = advanced_reg_df['host_is_superhost'] == 't'\n",
        "fnames.add('host_is_superhost')\n"
      ],
      "metadata": {
        "id": "qQxx9ITm8BS0",
        "colab": {
          "base_uri": "https://localhost:8080/"
        },
        "outputId": "3308096a-bdfd-4506-ead4-a681c11a676d"
      },
      "execution_count": null,
      "outputs": [
        {
          "output_type": "stream",
          "name": "stderr",
          "text": [
            "<ipython-input-54-e7c1db5f5575>:18: PerformanceWarning: DataFrame is highly fragmented.  This is usually the result of calling `frame.insert` many times, which has poor performance.  Consider joining all columns at once using pd.concat(axis=1) instead.  To get a de-fragmented frame, use `newframe = frame.copy()`\n",
            "  advanced_reg_df[n]= advanced_reg_df.property_type==n\n",
            "<ipython-input-54-e7c1db5f5575>:22: PerformanceWarning: DataFrame is highly fragmented.  This is usually the result of calling `frame.insert` many times, which has poor performance.  Consider joining all columns at once using pd.concat(axis=1) instead.  To get a de-fragmented frame, use `newframe = frame.copy()`\n",
            "  advanced_reg_df[n]= advanced_reg_df.room_type==n\n",
            "<ipython-input-54-e7c1db5f5575>:25: PerformanceWarning: DataFrame is highly fragmented.  This is usually the result of calling `frame.insert` many times, which has poor performance.  Consider joining all columns at once using pd.concat(axis=1) instead.  To get a de-fragmented frame, use `newframe = frame.copy()`\n",
            "  advanced_reg_df['num_of_amenities'] = advanced_reg_df['amenities'].apply(len)\n",
            "<ipython-input-54-e7c1db5f5575>:29: PerformanceWarning: DataFrame is highly fragmented.  This is usually the result of calling `frame.insert` many times, which has poor performance.  Consider joining all columns at once using pd.concat(axis=1) instead.  To get a de-fragmented frame, use `newframe = frame.copy()`\n",
            "  advanced_reg_df['wifi']=advanced_reg_df['amenities'].map(lambda s:s.lower().find('wifi')!=-1)\n",
            "<ipython-input-54-e7c1db5f5575>:31: PerformanceWarning: DataFrame is highly fragmented.  This is usually the result of calling `frame.insert` many times, which has poor performance.  Consider joining all columns at once using pd.concat(axis=1) instead.  To get a de-fragmented frame, use `newframe = frame.copy()`\n",
            "  advanced_reg_df['tv']=advanced_reg_df['amenities'].map(lambda s:s.lower().find('tv')!=-1)\n",
            "<ipython-input-54-e7c1db5f5575>:33: PerformanceWarning: DataFrame is highly fragmented.  This is usually the result of calling `frame.insert` many times, which has poor performance.  Consider joining all columns at once using pd.concat(axis=1) instead.  To get a de-fragmented frame, use `newframe = frame.copy()`\n",
            "  advanced_reg_df['dryer']=advanced_reg_df['amenities'].map(lambda s:s.lower().find('dryer')!=-1)\n",
            "<ipython-input-54-e7c1db5f5575>:35: PerformanceWarning: DataFrame is highly fragmented.  This is usually the result of calling `frame.insert` many times, which has poor performance.  Consider joining all columns at once using pd.concat(axis=1) instead.  To get a de-fragmented frame, use `newframe = frame.copy()`\n",
            "  advanced_reg_df['washer']=advanced_reg_df['amenities'].map(lambda s:s.lower().find('washer')!=-1)\n"
          ]
        }
      ]
    },
    {
      "cell_type": "code",
      "source": [
        "numerics = ['int16', 'int32', 'int64', 'float16', 'float32', 'float64']\n",
        "numeric_fnames = list(advanced_reg_df.select_dtypes(include=numerics).columns)\n",
        "fnames = fnames.union(numeric_fnames)\n"
      ],
      "metadata": {
        "id": "phaWuB688qDy"
      },
      "execution_count": null,
      "outputs": []
    },
    {
      "cell_type": "code",
      "source": [
        "advanced_reg_df = advanced_reg_df[fnames]"
      ],
      "metadata": {
        "id": "geiteN2UuO2G"
      },
      "execution_count": null,
      "outputs": []
    },
    {
      "cell_type": "code",
      "source": [
        "advanced_reg_df = advanced_reg_df.fillna(0.0)\n",
        "advanced_reg_df[numeric_fnames] -= advanced_reg_df[numeric_fnames].mean()\n",
        "advanced_reg_df[numeric_fnames] /= advanced_reg_df[numeric_fnames].std()\n",
        "advanced_reg_df = np.clip(advanced_reg_df, -3, 3)"
      ],
      "metadata": {
        "id": "7-PVbUfMu5NT"
      },
      "execution_count": null,
      "outputs": []
    },
    {
      "cell_type": "code",
      "source": [
        "fnames.remove('price')"
      ],
      "metadata": {
        "id": "IsbGto70__td"
      },
      "execution_count": null,
      "outputs": []
    },
    {
      "cell_type": "code",
      "source": [
        "import pandas as pd\n",
        "import matplotlib.pyplot as plt\n",
        "import numpy as np\n",
        "from sklearn.linear_model import LinearRegression,Lasso,LassoCV,Ridge,RidgeCV\n",
        "from sklearn.model_selection import train_test_split\n",
        "from sklearn.preprocessing import StandardScaler\n",
        "from sklearn.pipeline import Pipeline\n",
        "import random\n",
        "\n",
        "Xtrain, Xval,ytrain,yval = train_test_split(advanced_reg_df[fnames],\n",
        "                                                advanced_reg_df['price'],\n",
        "                                                test_size=0.2,    # Validation size in this case\n",
        "                                                random_state=3)  # Set a random seed\n",
        "\n",
        "reg = Pipeline([('scaler', StandardScaler()), ('reg',RidgeCV())])\n",
        "reg.fit(Xtrain, ytrain)\n",
        "print(f\"Accuracy for Ridge LR: {reg.score(Xval, yval) * 100:.2f} %\")\n",
        "reg = Pipeline([('scaler', StandardScaler()), ('reg',LassoCV())])\n",
        "reg.fit(Xtrain, ytrain)\n",
        "print(f\"Accuracy for Lasso LR: {reg.score(Xval, yval) * 100:.2f} %\")\n",
        "\n"
      ],
      "metadata": {
        "colab": {
          "base_uri": "https://localhost:8080/"
        },
        "id": "q5FYsiJCv4-Y",
        "outputId": "7246720f-4d53-4cf3-e967-6d0754e55f84"
      },
      "execution_count": null,
      "outputs": [
        {
          "output_type": "stream",
          "name": "stdout",
          "text": [
            "Accuracy for Ridge LR: 48.00 %\n"
          ]
        },
        {
          "output_type": "stream",
          "name": "stderr",
          "text": [
            "/usr/local/lib/python3.8/dist-packages/sklearn/linear_model/_coordinate_descent.py:633: ConvergenceWarning: Objective did not converge. You might want to increase the number of iterations. Duality gap: 1.449515931057249, tolerance: 0.6931806676432335\n",
            "  model = cd_fast.enet_coordinate_descent_gram(\n",
            "/usr/local/lib/python3.8/dist-packages/sklearn/linear_model/_coordinate_descent.py:633: ConvergenceWarning: Objective did not converge. You might want to increase the number of iterations. Duality gap: 1.0714316142575626, tolerance: 0.6812689020473734\n",
            "  model = cd_fast.enet_coordinate_descent_gram(\n",
            "/usr/local/lib/python3.8/dist-packages/sklearn/linear_model/_coordinate_descent.py:633: ConvergenceWarning: Objective did not converge. You might want to increase the number of iterations. Duality gap: 1.3340532091883688, tolerance: 0.6940442071161325\n",
            "  model = cd_fast.enet_coordinate_descent_gram(\n",
            "/usr/local/lib/python3.8/dist-packages/sklearn/linear_model/_coordinate_descent.py:633: ConvergenceWarning: Objective did not converge. You might want to increase the number of iterations. Duality gap: 3.851217948089925, tolerance: 0.6940442071161325\n",
            "  model = cd_fast.enet_coordinate_descent_gram(\n"
          ]
        },
        {
          "output_type": "stream",
          "name": "stdout",
          "text": [
            "Accuracy for Lasso LR: 47.92 %\n"
          ]
        },
        {
          "output_type": "stream",
          "name": "stderr",
          "text": [
            "/usr/local/lib/python3.8/dist-packages/sklearn/linear_model/_coordinate_descent.py:647: ConvergenceWarning: Objective did not converge. You might want to increase the number of iterations, check the scale of the features or consider increasing regularisation. Duality gap: 2.054e+00, tolerance: 8.591e-01\n",
            "  model = cd_fast.enet_coordinate_descent(\n"
          ]
        }
      ]
    },
    {
      "cell_type": "markdown",
      "source": [
        "# Next Step\n",
        "\n",
        "\n",
        "*   Leveraging other dataset to further analyze our models.\n",
        "\n",
        "> Such as, we can explore the San Francisco Dataset, build models, or apply our existing models to see the outcome. Thereby, we will be able to identify if our model can be applied to different locations or other datasets behave similarly.\n",
        "\n"
      ],
      "metadata": {
        "id": "7rrXXrYgufs1"
      }
    },
    {
      "cell_type": "code",
      "source": [
        "sanfrancisco_df = pd.read_csv('http://data.insideairbnb.com/united-states/ca/san-francisco/2022-09-07/data/listings.csv.gz')\n",
        "bad_cols = ['id','listing_url','scrape_id','last_scraped','source','host_id',\n",
        "            'host_url','host_name','host_thumbnail_url','host_picture_url',\n",
        "            'host_neighbourhood','host_listings_count','host_total_listings_count',\n",
        "            'calendar_updated','neighbourhood_group_cleansed']\n",
        "sanfrancisco_df = sanfrancisco_df.drop(bad_cols,axis=1)\n"
      ],
      "metadata": {
        "id": "SJldvAYrukGc"
      },
      "execution_count": null,
      "outputs": []
    },
    {
      "cell_type": "code",
      "source": [
        "sanfrancisco_df.info()"
      ],
      "metadata": {
        "colab": {
          "base_uri": "https://localhost:8080/"
        },
        "id": "s90ydkHIu2gX",
        "outputId": "12d1cdab-1064-4344-e2cf-97443911903e"
      },
      "execution_count": null,
      "outputs": [
        {
          "output_type": "stream",
          "name": "stdout",
          "text": [
            "<class 'pandas.core.frame.DataFrame'>\n",
            "RangeIndex: 6629 entries, 0 to 6628\n",
            "Data columns (total 60 columns):\n",
            " #   Column                                        Non-Null Count  Dtype  \n",
            "---  ------                                        --------------  -----  \n",
            " 0   name                                          6629 non-null   object \n",
            " 1   description                                   6577 non-null   object \n",
            " 2   neighborhood_overview                         4700 non-null   object \n",
            " 3   picture_url                                   6629 non-null   object \n",
            " 4   host_since                                    6617 non-null   object \n",
            " 5   host_location                                 5571 non-null   object \n",
            " 6   host_about                                    4523 non-null   object \n",
            " 7   host_response_time                            5731 non-null   object \n",
            " 8   host_response_rate                            5731 non-null   object \n",
            " 9   host_acceptance_rate                          5950 non-null   object \n",
            " 10  host_is_superhost                             6622 non-null   object \n",
            " 11  host_verifications                            6629 non-null   object \n",
            " 12  host_has_profile_pic                          6617 non-null   object \n",
            " 13  host_identity_verified                        6617 non-null   object \n",
            " 14  neighbourhood                                 4700 non-null   object \n",
            " 15  neighbourhood_cleansed                        6629 non-null   object \n",
            " 16  latitude                                      6629 non-null   float64\n",
            " 17  longitude                                     6629 non-null   float64\n",
            " 18  property_type                                 6629 non-null   object \n",
            " 19  room_type                                     6629 non-null   object \n",
            " 20  accommodates                                  6629 non-null   int64  \n",
            " 21  bathrooms                                     0 non-null      float64\n",
            " 22  bathrooms_text                                6618 non-null   object \n",
            " 23  bedrooms                                      5745 non-null   float64\n",
            " 24  beds                                          6490 non-null   float64\n",
            " 25  amenities                                     6629 non-null   object \n",
            " 26  price                                         6629 non-null   object \n",
            " 27  minimum_nights                                6629 non-null   int64  \n",
            " 28  maximum_nights                                6629 non-null   int64  \n",
            " 29  minimum_minimum_nights                        6627 non-null   float64\n",
            " 30  maximum_minimum_nights                        6627 non-null   float64\n",
            " 31  minimum_maximum_nights                        6627 non-null   float64\n",
            " 32  maximum_maximum_nights                        6627 non-null   float64\n",
            " 33  minimum_nights_avg_ntm                        6627 non-null   float64\n",
            " 34  maximum_nights_avg_ntm                        6627 non-null   float64\n",
            " 35  has_availability                              6629 non-null   object \n",
            " 36  availability_30                               6629 non-null   int64  \n",
            " 37  availability_60                               6629 non-null   int64  \n",
            " 38  availability_90                               6629 non-null   int64  \n",
            " 39  availability_365                              6629 non-null   int64  \n",
            " 40  calendar_last_scraped                         6629 non-null   object \n",
            " 41  number_of_reviews                             6629 non-null   int64  \n",
            " 42  number_of_reviews_ltm                         6629 non-null   int64  \n",
            " 43  number_of_reviews_l30d                        6629 non-null   int64  \n",
            " 44  first_review                                  5522 non-null   object \n",
            " 45  last_review                                   5522 non-null   object \n",
            " 46  review_scores_rating                          5522 non-null   float64\n",
            " 47  review_scores_accuracy                        5500 non-null   float64\n",
            " 48  review_scores_cleanliness                     5500 non-null   float64\n",
            " 49  review_scores_checkin                         5499 non-null   float64\n",
            " 50  review_scores_communication                   5500 non-null   float64\n",
            " 51  review_scores_location                        5499 non-null   float64\n",
            " 52  review_scores_value                           5499 non-null   float64\n",
            " 53  license                                       3844 non-null   object \n",
            " 54  instant_bookable                              6629 non-null   object \n",
            " 55  calculated_host_listings_count                6629 non-null   int64  \n",
            " 56  calculated_host_listings_count_entire_homes   6629 non-null   int64  \n",
            " 57  calculated_host_listings_count_private_rooms  6629 non-null   int64  \n",
            " 58  calculated_host_listings_count_shared_rooms   6629 non-null   int64  \n",
            " 59  reviews_per_month                             5522 non-null   float64\n",
            "dtypes: float64(19), int64(14), object(27)\n",
            "memory usage: 3.0+ MB\n"
          ]
        }
      ]
    },
    {
      "cell_type": "markdown",
      "source": [
        "## Data Preparation"
      ],
      "metadata": {
        "id": "leyzqN4XaJbz"
      }
    },
    {
      "cell_type": "code",
      "source": [
        "#clean off the dataset\n",
        "sanfrancisco_df['bathrooms'] = sanfrancisco_df['bathrooms_text'].apply(extract_bathrooms)\n",
        "sanfrancisco_df['price'] = sanfrancisco_df['price'].apply(convertMoneyToFloat)\n"
      ],
      "metadata": {
        "id": "kwz_KVs8aM87"
      },
      "execution_count": null,
      "outputs": []
    },
    {
      "cell_type": "code",
      "source": [
        "sanfrancisco_df.corr()['price'].sort_values().tail(10).index\n",
        "#In New York dataset, we found the top correlation features with price are ['bathrooms', 'beds', 'bedrooms', 'accommodates'].\n",
        "#As we can observe from San Franciso, the top correlation features with price are ['availability_30', 'bathrooms', 'bedrooms', 'beds']."
      ],
      "metadata": {
        "colab": {
          "base_uri": "https://localhost:8080/"
        },
        "id": "gO75UigsbEKn",
        "outputId": "d55f749e-860d-4341-eac7-f36e7f866af6"
      },
      "execution_count": null,
      "outputs": [
        {
          "output_type": "execute_result",
          "data": {
            "text/plain": [
              "Index(['longitude', 'availability_30', 'bathrooms', 'bedrooms', 'beds',\n",
              "       'latitude', 'maximum_nights_avg_ntm', 'maximum_maximum_nights',\n",
              "       'accommodates', 'price'],\n",
              "      dtype='object')"
            ]
          },
          "metadata": {},
          "execution_count": 63
        }
      ]
    },
    {
      "cell_type": "code",
      "source": [
        "feature_names=['availability_30', 'bathrooms', 'bedrooms', 'beds']"
      ],
      "metadata": {
        "id": "gJGcvi4jeKRf"
      },
      "execution_count": null,
      "outputs": []
    },
    {
      "cell_type": "markdown",
      "source": [
        "## Modeling"
      ],
      "metadata": {
        "id": "91MaXTjddvVm"
      }
    },
    {
      "cell_type": "code",
      "source": [
        "#Standardization\n",
        "price_prediction_df = sanfrancisco_df.loc[:,feature_names]\n",
        "price_prediction_df = price_prediction_df.fillna(0.0)\n",
        "price_prediction_df -= price_prediction_df.mean()\n",
        "price_prediction_df /= price_prediction_df.std()\n",
        "price_prediction_df=np.clip(price_prediction_df,-3,3)\n"
      ],
      "metadata": {
        "id": "lq1TpDAid5P6"
      },
      "execution_count": null,
      "outputs": []
    },
    {
      "cell_type": "code",
      "source": [
        "#Linear Prediction\n",
        "X_train, X_test, y_train, y_test = train_test_split(price_prediction_df.loc[:,feature_names],sanfrancisco_df.loc[:,'price'], test_size=0.3, random_state=0)\n",
        "reg = LinearRegression().fit(X_train, y_train)\n",
        "print(f'Training score is: {reg.score(X_train, y_train) * 100:.2f} %')\n",
        "print(f'Testing score is: {reg.score(X_test, y_test) * 100:.2f} %')\n",
        "#unsurprisingly, the prediction is not so good with linear model."
      ],
      "metadata": {
        "colab": {
          "base_uri": "https://localhost:8080/"
        },
        "id": "Y8y4eC4ceDJP",
        "outputId": "75da061a-811d-4bb7-8041-c204d386eb01"
      },
      "execution_count": null,
      "outputs": [
        {
          "output_type": "stream",
          "name": "stdout",
          "text": [
            "Training score is: 1.49 %\n",
            "Testing score is: 1.30 %\n"
          ]
        }
      ]
    },
    {
      "cell_type": "code",
      "source": [
        "#Unsupervised Learning\n",
        "#KMeans\n",
        "fnames = ['bathrooms', 'availability_30', 'bedrooms', 'beds', 'minimum_maximum_nights',\n",
        "          'maximum_maximum_nights', 'maximum_nights_avg_ntm', 'review_scores_cleanliness',\n",
        "          'accommodates']\n",
        "kmeans_df = sanfrancisco_df[fnames]\n",
        "kmeans_df = kmeans_df.fillna(0.0)\n",
        "kmeans_df -= kmeans_df.mean()\n",
        "kmeans_df /= kmeans_df.std()\n",
        "kmeans_df=pd.DataFrame(np.clip(kmeans_df,-3,3),kmeans_df.index,kmeans_df.columns)\n",
        "\n",
        "from sklearn.cluster import KMeans\n",
        "n_clusters=3\n",
        "kmeans = KMeans(n_clusters=n_clusters, random_state=0).fit(kmeans_df) \n",
        "\n",
        "for i in range(3):\n",
        "  print(f'Cluster {i}')\n",
        "  print(pd.Series(kmeans.cluster_centers_[i],index=kmeans_df.columns))"
      ],
      "metadata": {
        "colab": {
          "base_uri": "https://localhost:8080/"
        },
        "id": "_Q2xf_aLew81",
        "outputId": "a4141d27-6b20-42f4-dc53-d8273cd5b6dc"
      },
      "execution_count": null,
      "outputs": [
        {
          "output_type": "stream",
          "name": "stdout",
          "text": [
            "Cluster 0\n",
            "bathrooms                   -0.263381\n",
            "availability_30             -0.019968\n",
            "bedrooms                    -0.355634\n",
            "beds                        -0.338770\n",
            "minimum_maximum_nights      -0.043169\n",
            "maximum_maximum_nights      -0.046717\n",
            "maximum_nights_avg_ntm      -0.046370\n",
            "review_scores_cleanliness    0.450831\n",
            "accommodates                -0.348760\n",
            "dtype: float64\n",
            "Cluster 1\n",
            "bathrooms                    0.869604\n",
            "availability_30             -0.045335\n",
            "bedrooms                     1.563671\n",
            "beds                         1.457080\n",
            "minimum_maximum_nights      -0.050695\n",
            "maximum_maximum_nights      -0.057694\n",
            "maximum_nights_avg_ntm      -0.057345\n",
            "review_scores_cleanliness    0.185276\n",
            "accommodates                 1.519515\n",
            "dtype: float64\n",
            "Cluster 2\n",
            "bathrooms                   -0.056357\n",
            "availability_30              0.135515\n",
            "bedrooms                    -0.263526\n",
            "beds                        -0.313195\n",
            "minimum_maximum_nights      -0.033052\n",
            "maximum_maximum_nights      -0.040010\n",
            "maximum_nights_avg_ntm      -0.039663\n",
            "review_scores_cleanliness   -2.139677\n",
            "accommodates                -0.296913\n",
            "dtype: float64\n"
          ]
        }
      ]
    },
    {
      "cell_type": "code",
      "source": [
        "#Ridge and Lasso Regression\n",
        "# Set of features names\n",
        "fnames = set()\n",
        "advanced_reg_df = sanfrancisco_df.copy()\n",
        "# Top most frequent neighborhoods\n",
        "for n in advanced_reg_df.neighbourhood_cleansed.value_counts().head(20).index:\n",
        "    advanced_reg_df[n]= advanced_reg_df.neighbourhood_cleansed==n\n",
        "    fnames.add(n)\n",
        "# Bottom least frequent neighborhoods\n",
        "for n in advanced_reg_df.neighbourhood_cleansed.value_counts().tail(20).index:\n",
        "    advanced_reg_df[n]= advanced_reg_df.property_type==n\n",
        "    fnames.add(n)\n",
        "# Property type\n",
        "for n in advanced_reg_df.property_type.value_counts().index:\n",
        "    advanced_reg_df[n]= advanced_reg_df.property_type==n\n",
        "    fnames.add(n)\n",
        "# Room type\n",
        "for n in advanced_reg_df.room_type.value_counts().index:\n",
        "    advanced_reg_df[n]= advanced_reg_df.room_type==n\n",
        "    fnames.add(n)\n",
        "# Number of amenities\n",
        "advanced_reg_df['num_of_amenities'] = advanced_reg_df['amenities'].apply(len)\n",
        "fnames.add('num_of_amenities')\n",
        "\n",
        "# Important amenities\n",
        "advanced_reg_df['wifi']=advanced_reg_df['amenities'].map(lambda s:s.lower().find('wifi')!=-1)\n",
        "fnames.add('wifi')\n",
        "advanced_reg_df['tv']=advanced_reg_df['amenities'].map(lambda s:s.lower().find('tv')!=-1)\n",
        "fnames.add('tv')\n",
        "advanced_reg_df['dryer']=advanced_reg_df['amenities'].map(lambda s:s.lower().find('dryer')!=-1)\n",
        "fnames.add('dryer')\n",
        "advanced_reg_df['washer']=advanced_reg_df['amenities'].map(lambda s:s.lower().find('washer')!=-1)\n",
        "fnames.add('washer')\n",
        "\n",
        "# Superhost\n",
        "advanced_reg_df['host_is_superhost'] = advanced_reg_df['host_is_superhost'] == 't'\n",
        "fnames.add('host_is_superhost')\n",
        "\n",
        "numerics = ['int16', 'int32', 'int64', 'float16', 'float32', 'float64']\n",
        "numeric_fnames = list(advanced_reg_df.select_dtypes(include=numerics).columns)\n",
        "fnames = fnames.union(numeric_fnames)\n",
        "advanced_reg_df = advanced_reg_df[fnames]\n",
        "\n",
        "advanced_reg_df = advanced_reg_df.fillna(0.0)\n",
        "advanced_reg_df[numeric_fnames] -= advanced_reg_df[numeric_fnames].mean()\n",
        "advanced_reg_df[numeric_fnames] /= advanced_reg_df[numeric_fnames].std()\n",
        "advanced_reg_df = np.clip(advanced_reg_df, -3, 3)\n",
        "fnames.remove('price')\n",
        "\n",
        "import pandas as pd\n",
        "import matplotlib.pyplot as plt\n",
        "import numpy as np\n",
        "from sklearn.linear_model import LinearRegression,Lasso,LassoCV,Ridge,RidgeCV\n",
        "from sklearn.model_selection import train_test_split\n",
        "from sklearn.preprocessing import StandardScaler\n",
        "from sklearn.pipeline import Pipeline\n",
        "import random\n",
        "\n",
        "Xtrain, Xval,ytrain,yval = train_test_split(advanced_reg_df[fnames], advanced_reg_df['price'], test_size=0.2,random_state=42) \n",
        "\n",
        "reg = Pipeline([('scaler', StandardScaler()), ('reg',RidgeCV())])\n",
        "reg.fit(Xtrain, ytrain)\n",
        "print(f\"Accuracy for Ridge LR: {reg.score(Xval, yval) * 100:.2f} %\")\n",
        "reg = Pipeline([('scaler', StandardScaler()), ('reg',LassoCV())])\n",
        "reg.fit(Xtrain, ytrain)\n",
        "print(f\"Accuracy for Lasso LR: {reg.score(Xval, yval) * 100:.2f} %\")\n"
      ],
      "metadata": {
        "id": "1tESYJM4hPlW",
        "colab": {
          "base_uri": "https://localhost:8080/"
        },
        "outputId": "5026779d-bfc4-4316-c7b4-b468f9e85ff2"
      },
      "execution_count": null,
      "outputs": [
        {
          "output_type": "stream",
          "name": "stdout",
          "text": [
            "Accuracy for Ridge LR: 31.93 %\n",
            "Accuracy for Lasso LR: 31.77 %\n"
          ]
        }
      ]
    }
  ]
}